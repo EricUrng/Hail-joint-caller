{
 "cells": [
  {
   "cell_type": "code",
   "execution_count": 1,
   "id": "30dc2bb1-523b-4c24-8fba-4675ade5a6c0",
   "metadata": {},
   "outputs": [
    {
     "name": "stderr",
     "output_type": "stream",
     "text": [
      "SLF4J: Class path contains multiple SLF4J bindings.\n",
      "SLF4J: Found binding in [jar:file:/home/eriurn/submit/python37_intel/lib/python3.7/site-packages/pyspark/jars/slf4j-log4j12-1.7.30.jar!/org/slf4j/impl/StaticLoggerBinder.class]\n",
      "SLF4J: Found binding in [jar:file:/usr/hdp/3.1.0.0-78/hadoop/lib/slf4j-log4j12-1.7.25.jar!/org/slf4j/impl/StaticLoggerBinder.class]\n",
      "SLF4J: See http://www.slf4j.org/codes.html#multiple_bindings for an explanation.\n",
      "SLF4J: Actual binding is of type [org.slf4j.impl.Log4jLoggerFactory]\n",
      "Setting default log level to \"WARN\".\n",
      "To adjust logging level use sc.setLogLevel(newLevel). For SparkR, use setLogLevel(newLevel).\n"
     ]
    },
    {
     "name": "stdout",
     "output_type": "stream",
     "text": [
      "2022-02-10 08:58:27 WARN  Hail:43 - This Hail JAR was compiled for Spark 3.1.1, running with Spark 3.1.2.\n",
      "  Compatibility is not guaranteed.\n",
      "2022-02-10 08:58:28 WARN  Utils:69 - Service 'SparkUI' could not bind on port 4040. Attempting port 4041.\n",
      "2022-02-10 08:58:30 WARN  Client:69 - Neither spark.yarn.jars nor spark.yarn.archive is set, falling back to uploading libraries under SPARK_HOME.\n"
     ]
    },
    {
     "name": "stderr",
     "output_type": "stream",
     "text": [
      "Running on Apache Spark version 3.1.2\n",
      "SparkUI available at http://dice01-mlx.mlx:4041\n",
      "Welcome to\n",
      "     __  __     <>__\n",
      "    / /_/ /__  __/ /\n",
      "   / __  / _ `/ / /\n",
      "  /_/ /_/\\_,_/_/_/   version 0.2.68-13190f0b6103\n",
      "LOGGING: writing to /home/eriurn/Hail-joint-caller/notebooks/hail-20220210-0858-0.2.68-13190f0b6103.log\n"
     ]
    },
    {
     "data": {
      "text/html": [
       "\n",
       "    <div class=\"bk-root\">\n",
       "        <a href=\"https://bokeh.org\" target=\"_blank\" class=\"bk-logo bk-logo-small bk-logo-notebook\"></a>\n",
       "        <span id=\"1001\">Loading BokehJS ...</span>\n",
       "    </div>"
      ]
     },
     "metadata": {},
     "output_type": "display_data"
    },
    {
     "data": {
      "application/javascript": [
       "\n",
       "(function(root) {\n",
       "  function now() {\n",
       "    return new Date();\n",
       "  }\n",
       "\n",
       "  var force = true;\n",
       "\n",
       "  if (typeof root._bokeh_onload_callbacks === \"undefined\" || force === true) {\n",
       "    root._bokeh_onload_callbacks = [];\n",
       "    root._bokeh_is_loading = undefined;\n",
       "  }\n",
       "\n",
       "  var JS_MIME_TYPE = 'application/javascript';\n",
       "  var HTML_MIME_TYPE = 'text/html';\n",
       "  var EXEC_MIME_TYPE = 'application/vnd.bokehjs_exec.v0+json';\n",
       "  var CLASS_NAME = 'output_bokeh rendered_html';\n",
       "\n",
       "  /**\n",
       "   * Render data to the DOM node\n",
       "   */\n",
       "  function render(props, node) {\n",
       "    var script = document.createElement(\"script\");\n",
       "    node.appendChild(script);\n",
       "  }\n",
       "\n",
       "  /**\n",
       "   * Handle when an output is cleared or removed\n",
       "   */\n",
       "  function handleClearOutput(event, handle) {\n",
       "    var cell = handle.cell;\n",
       "\n",
       "    var id = cell.output_area._bokeh_element_id;\n",
       "    var server_id = cell.output_area._bokeh_server_id;\n",
       "    // Clean up Bokeh references\n",
       "    if (id != null && id in Bokeh.index) {\n",
       "      Bokeh.index[id].model.document.clear();\n",
       "      delete Bokeh.index[id];\n",
       "    }\n",
       "\n",
       "    if (server_id !== undefined) {\n",
       "      // Clean up Bokeh references\n",
       "      var cmd = \"from bokeh.io.state import curstate; print(curstate().uuid_to_server['\" + server_id + \"'].get_sessions()[0].document.roots[0]._id)\";\n",
       "      cell.notebook.kernel.execute(cmd, {\n",
       "        iopub: {\n",
       "          output: function(msg) {\n",
       "            var id = msg.content.text.trim();\n",
       "            if (id in Bokeh.index) {\n",
       "              Bokeh.index[id].model.document.clear();\n",
       "              delete Bokeh.index[id];\n",
       "            }\n",
       "          }\n",
       "        }\n",
       "      });\n",
       "      // Destroy server and session\n",
       "      var cmd = \"import bokeh.io.notebook as ion; ion.destroy_server('\" + server_id + \"')\";\n",
       "      cell.notebook.kernel.execute(cmd);\n",
       "    }\n",
       "  }\n",
       "\n",
       "  /**\n",
       "   * Handle when a new output is added\n",
       "   */\n",
       "  function handleAddOutput(event, handle) {\n",
       "    var output_area = handle.output_area;\n",
       "    var output = handle.output;\n",
       "\n",
       "    // limit handleAddOutput to display_data with EXEC_MIME_TYPE content only\n",
       "    if ((output.output_type != \"display_data\") || (!output.data.hasOwnProperty(EXEC_MIME_TYPE))) {\n",
       "      return\n",
       "    }\n",
       "\n",
       "    var toinsert = output_area.element.find(\".\" + CLASS_NAME.split(' ')[0]);\n",
       "\n",
       "    if (output.metadata[EXEC_MIME_TYPE][\"id\"] !== undefined) {\n",
       "      toinsert[toinsert.length - 1].firstChild.textContent = output.data[JS_MIME_TYPE];\n",
       "      // store reference to embed id on output_area\n",
       "      output_area._bokeh_element_id = output.metadata[EXEC_MIME_TYPE][\"id\"];\n",
       "    }\n",
       "    if (output.metadata[EXEC_MIME_TYPE][\"server_id\"] !== undefined) {\n",
       "      var bk_div = document.createElement(\"div\");\n",
       "      bk_div.innerHTML = output.data[HTML_MIME_TYPE];\n",
       "      var script_attrs = bk_div.children[0].attributes;\n",
       "      for (var i = 0; i < script_attrs.length; i++) {\n",
       "        toinsert[toinsert.length - 1].firstChild.setAttribute(script_attrs[i].name, script_attrs[i].value);\n",
       "      }\n",
       "      // store reference to server id on output_area\n",
       "      output_area._bokeh_server_id = output.metadata[EXEC_MIME_TYPE][\"server_id\"];\n",
       "    }\n",
       "  }\n",
       "\n",
       "  function register_renderer(events, OutputArea) {\n",
       "\n",
       "    function append_mime(data, metadata, element) {\n",
       "      // create a DOM node to render to\n",
       "      var toinsert = this.create_output_subarea(\n",
       "        metadata,\n",
       "        CLASS_NAME,\n",
       "        EXEC_MIME_TYPE\n",
       "      );\n",
       "      this.keyboard_manager.register_events(toinsert);\n",
       "      // Render to node\n",
       "      var props = {data: data, metadata: metadata[EXEC_MIME_TYPE]};\n",
       "      render(props, toinsert[toinsert.length - 1]);\n",
       "      element.append(toinsert);\n",
       "      return toinsert\n",
       "    }\n",
       "\n",
       "    /* Handle when an output is cleared or removed */\n",
       "    events.on('clear_output.CodeCell', handleClearOutput);\n",
       "    events.on('delete.Cell', handleClearOutput);\n",
       "\n",
       "    /* Handle when a new output is added */\n",
       "    events.on('output_added.OutputArea', handleAddOutput);\n",
       "\n",
       "    /**\n",
       "     * Register the mime type and append_mime function with output_area\n",
       "     */\n",
       "    OutputArea.prototype.register_mime_type(EXEC_MIME_TYPE, append_mime, {\n",
       "      /* Is output safe? */\n",
       "      safe: true,\n",
       "      /* Index of renderer in `output_area.display_order` */\n",
       "      index: 0\n",
       "    });\n",
       "  }\n",
       "\n",
       "  // register the mime type if in Jupyter Notebook environment and previously unregistered\n",
       "  if (root.Jupyter !== undefined) {\n",
       "    var events = require('base/js/events');\n",
       "    var OutputArea = require('notebook/js/outputarea').OutputArea;\n",
       "\n",
       "    if (OutputArea.prototype.mime_types().indexOf(EXEC_MIME_TYPE) == -1) {\n",
       "      register_renderer(events, OutputArea);\n",
       "    }\n",
       "  }\n",
       "\n",
       "  \n",
       "  if (typeof (root._bokeh_timeout) === \"undefined\" || force === true) {\n",
       "    root._bokeh_timeout = Date.now() + 5000;\n",
       "    root._bokeh_failed_load = false;\n",
       "  }\n",
       "\n",
       "  var NB_LOAD_WARNING = {'data': {'text/html':\n",
       "     \"<div style='background-color: #fdd'>\\n\"+\n",
       "     \"<p>\\n\"+\n",
       "     \"BokehJS does not appear to have successfully loaded. If loading BokehJS from CDN, this \\n\"+\n",
       "     \"may be due to a slow or bad network connection. Possible fixes:\\n\"+\n",
       "     \"</p>\\n\"+\n",
       "     \"<ul>\\n\"+\n",
       "     \"<li>re-rerun `output_notebook()` to attempt to load from CDN again, or</li>\\n\"+\n",
       "     \"<li>use INLINE resources instead, as so:</li>\\n\"+\n",
       "     \"</ul>\\n\"+\n",
       "     \"<code>\\n\"+\n",
       "     \"from bokeh.resources import INLINE\\n\"+\n",
       "     \"output_notebook(resources=INLINE)\\n\"+\n",
       "     \"</code>\\n\"+\n",
       "     \"</div>\"}};\n",
       "\n",
       "  function display_loaded() {\n",
       "    var el = document.getElementById(\"1001\");\n",
       "    if (el != null) {\n",
       "      el.textContent = \"BokehJS is loading...\";\n",
       "    }\n",
       "    if (root.Bokeh !== undefined) {\n",
       "      if (el != null) {\n",
       "        el.textContent = \"BokehJS \" + root.Bokeh.version + \" successfully loaded.\";\n",
       "      }\n",
       "    } else if (Date.now() < root._bokeh_timeout) {\n",
       "      setTimeout(display_loaded, 100)\n",
       "    }\n",
       "  }\n",
       "\n",
       "\n",
       "  function run_callbacks() {\n",
       "    try {\n",
       "      root._bokeh_onload_callbacks.forEach(function(callback) {\n",
       "        if (callback != null)\n",
       "          callback();\n",
       "      });\n",
       "    } finally {\n",
       "      delete root._bokeh_onload_callbacks\n",
       "    }\n",
       "    console.debug(\"Bokeh: all callbacks have finished\");\n",
       "  }\n",
       "\n",
       "  function load_libs(css_urls, js_urls, callback) {\n",
       "    if (css_urls == null) css_urls = [];\n",
       "    if (js_urls == null) js_urls = [];\n",
       "\n",
       "    root._bokeh_onload_callbacks.push(callback);\n",
       "    if (root._bokeh_is_loading > 0) {\n",
       "      console.debug(\"Bokeh: BokehJS is being loaded, scheduling callback at\", now());\n",
       "      return null;\n",
       "    }\n",
       "    if (js_urls == null || js_urls.length === 0) {\n",
       "      run_callbacks();\n",
       "      return null;\n",
       "    }\n",
       "    console.debug(\"Bokeh: BokehJS not loaded, scheduling load and callback at\", now());\n",
       "    root._bokeh_is_loading = css_urls.length + js_urls.length;\n",
       "\n",
       "    function on_load() {\n",
       "      root._bokeh_is_loading--;\n",
       "      if (root._bokeh_is_loading === 0) {\n",
       "        console.debug(\"Bokeh: all BokehJS libraries/stylesheets loaded\");\n",
       "        run_callbacks()\n",
       "      }\n",
       "    }\n",
       "\n",
       "    function on_error() {\n",
       "      console.error(\"failed to load \" + url);\n",
       "    }\n",
       "\n",
       "    for (var i = 0; i < css_urls.length; i++) {\n",
       "      var url = css_urls[i];\n",
       "      const element = document.createElement(\"link\");\n",
       "      element.onload = on_load;\n",
       "      element.onerror = on_error;\n",
       "      element.rel = \"stylesheet\";\n",
       "      element.type = \"text/css\";\n",
       "      element.href = url;\n",
       "      console.debug(\"Bokeh: injecting link tag for BokehJS stylesheet: \", url);\n",
       "      document.body.appendChild(element);\n",
       "    }\n",
       "\n",
       "    for (var i = 0; i < js_urls.length; i++) {\n",
       "      var url = js_urls[i];\n",
       "      var element = document.createElement('script');\n",
       "      element.onload = on_load;\n",
       "      element.onerror = on_error;\n",
       "      element.async = false;\n",
       "      element.src = url;\n",
       "      console.debug(\"Bokeh: injecting script tag for BokehJS library: \", url);\n",
       "      document.head.appendChild(element);\n",
       "    }\n",
       "  };var element = document.getElementById(\"1001\");\n",
       "  if (element == null) {\n",
       "    console.error(\"Bokeh: ERROR: autoload.js configured with elementid '1001' but no matching script tag was found. \")\n",
       "    return false;\n",
       "  }\n",
       "\n",
       "  function inject_raw_css(css) {\n",
       "    const element = document.createElement(\"style\");\n",
       "    element.appendChild(document.createTextNode(css));\n",
       "    document.body.appendChild(element);\n",
       "  }\n",
       "\n",
       "  \n",
       "  var js_urls = [\"https://cdn.pydata.org/bokeh/release/bokeh-1.4.0.min.js\", \"https://cdn.pydata.org/bokeh/release/bokeh-widgets-1.4.0.min.js\", \"https://cdn.pydata.org/bokeh/release/bokeh-tables-1.4.0.min.js\", \"https://cdn.pydata.org/bokeh/release/bokeh-gl-1.4.0.min.js\"];\n",
       "  var css_urls = [];\n",
       "  \n",
       "\n",
       "  var inline_js = [\n",
       "    function(Bokeh) {\n",
       "      Bokeh.set_log_level(\"info\");\n",
       "    },\n",
       "    function(Bokeh) {\n",
       "    \n",
       "    \n",
       "    }\n",
       "  ];\n",
       "\n",
       "  function run_inline_js() {\n",
       "    \n",
       "    if (root.Bokeh !== undefined || force === true) {\n",
       "      \n",
       "    for (var i = 0; i < inline_js.length; i++) {\n",
       "      inline_js[i].call(root, root.Bokeh);\n",
       "    }\n",
       "    if (force === true) {\n",
       "        display_loaded();\n",
       "      }} else if (Date.now() < root._bokeh_timeout) {\n",
       "      setTimeout(run_inline_js, 100);\n",
       "    } else if (!root._bokeh_failed_load) {\n",
       "      console.log(\"Bokeh: BokehJS failed to load within specified timeout.\");\n",
       "      root._bokeh_failed_load = true;\n",
       "    } else if (force !== true) {\n",
       "      var cell = $(document.getElementById(\"1001\")).parents('.cell').data().cell;\n",
       "      cell.output_area.append_execute_result(NB_LOAD_WARNING)\n",
       "    }\n",
       "\n",
       "  }\n",
       "\n",
       "  if (root._bokeh_is_loading === 0) {\n",
       "    console.debug(\"Bokeh: BokehJS loaded, going straight to plotting\");\n",
       "    run_inline_js();\n",
       "  } else {\n",
       "    load_libs(css_urls, js_urls, function() {\n",
       "      console.debug(\"Bokeh: BokehJS plotting callback run at\", now());\n",
       "      run_inline_js();\n",
       "    });\n",
       "  }\n",
       "}(window));"
      ],
      "application/vnd.bokehjs_load.v0+json": "\n(function(root) {\n  function now() {\n    return new Date();\n  }\n\n  var force = true;\n\n  if (typeof root._bokeh_onload_callbacks === \"undefined\" || force === true) {\n    root._bokeh_onload_callbacks = [];\n    root._bokeh_is_loading = undefined;\n  }\n\n  \n\n  \n  if (typeof (root._bokeh_timeout) === \"undefined\" || force === true) {\n    root._bokeh_timeout = Date.now() + 5000;\n    root._bokeh_failed_load = false;\n  }\n\n  var NB_LOAD_WARNING = {'data': {'text/html':\n     \"<div style='background-color: #fdd'>\\n\"+\n     \"<p>\\n\"+\n     \"BokehJS does not appear to have successfully loaded. If loading BokehJS from CDN, this \\n\"+\n     \"may be due to a slow or bad network connection. Possible fixes:\\n\"+\n     \"</p>\\n\"+\n     \"<ul>\\n\"+\n     \"<li>re-rerun `output_notebook()` to attempt to load from CDN again, or</li>\\n\"+\n     \"<li>use INLINE resources instead, as so:</li>\\n\"+\n     \"</ul>\\n\"+\n     \"<code>\\n\"+\n     \"from bokeh.resources import INLINE\\n\"+\n     \"output_notebook(resources=INLINE)\\n\"+\n     \"</code>\\n\"+\n     \"</div>\"}};\n\n  function display_loaded() {\n    var el = document.getElementById(\"1001\");\n    if (el != null) {\n      el.textContent = \"BokehJS is loading...\";\n    }\n    if (root.Bokeh !== undefined) {\n      if (el != null) {\n        el.textContent = \"BokehJS \" + root.Bokeh.version + \" successfully loaded.\";\n      }\n    } else if (Date.now() < root._bokeh_timeout) {\n      setTimeout(display_loaded, 100)\n    }\n  }\n\n\n  function run_callbacks() {\n    try {\n      root._bokeh_onload_callbacks.forEach(function(callback) {\n        if (callback != null)\n          callback();\n      });\n    } finally {\n      delete root._bokeh_onload_callbacks\n    }\n    console.debug(\"Bokeh: all callbacks have finished\");\n  }\n\n  function load_libs(css_urls, js_urls, callback) {\n    if (css_urls == null) css_urls = [];\n    if (js_urls == null) js_urls = [];\n\n    root._bokeh_onload_callbacks.push(callback);\n    if (root._bokeh_is_loading > 0) {\n      console.debug(\"Bokeh: BokehJS is being loaded, scheduling callback at\", now());\n      return null;\n    }\n    if (js_urls == null || js_urls.length === 0) {\n      run_callbacks();\n      return null;\n    }\n    console.debug(\"Bokeh: BokehJS not loaded, scheduling load and callback at\", now());\n    root._bokeh_is_loading = css_urls.length + js_urls.length;\n\n    function on_load() {\n      root._bokeh_is_loading--;\n      if (root._bokeh_is_loading === 0) {\n        console.debug(\"Bokeh: all BokehJS libraries/stylesheets loaded\");\n        run_callbacks()\n      }\n    }\n\n    function on_error() {\n      console.error(\"failed to load \" + url);\n    }\n\n    for (var i = 0; i < css_urls.length; i++) {\n      var url = css_urls[i];\n      const element = document.createElement(\"link\");\n      element.onload = on_load;\n      element.onerror = on_error;\n      element.rel = \"stylesheet\";\n      element.type = \"text/css\";\n      element.href = url;\n      console.debug(\"Bokeh: injecting link tag for BokehJS stylesheet: \", url);\n      document.body.appendChild(element);\n    }\n\n    for (var i = 0; i < js_urls.length; i++) {\n      var url = js_urls[i];\n      var element = document.createElement('script');\n      element.onload = on_load;\n      element.onerror = on_error;\n      element.async = false;\n      element.src = url;\n      console.debug(\"Bokeh: injecting script tag for BokehJS library: \", url);\n      document.head.appendChild(element);\n    }\n  };var element = document.getElementById(\"1001\");\n  if (element == null) {\n    console.error(\"Bokeh: ERROR: autoload.js configured with elementid '1001' but no matching script tag was found. \")\n    return false;\n  }\n\n  function inject_raw_css(css) {\n    const element = document.createElement(\"style\");\n    element.appendChild(document.createTextNode(css));\n    document.body.appendChild(element);\n  }\n\n  \n  var js_urls = [\"https://cdn.pydata.org/bokeh/release/bokeh-1.4.0.min.js\", \"https://cdn.pydata.org/bokeh/release/bokeh-widgets-1.4.0.min.js\", \"https://cdn.pydata.org/bokeh/release/bokeh-tables-1.4.0.min.js\", \"https://cdn.pydata.org/bokeh/release/bokeh-gl-1.4.0.min.js\"];\n  var css_urls = [];\n  \n\n  var inline_js = [\n    function(Bokeh) {\n      Bokeh.set_log_level(\"info\");\n    },\n    function(Bokeh) {\n    \n    \n    }\n  ];\n\n  function run_inline_js() {\n    \n    if (root.Bokeh !== undefined || force === true) {\n      \n    for (var i = 0; i < inline_js.length; i++) {\n      inline_js[i].call(root, root.Bokeh);\n    }\n    if (force === true) {\n        display_loaded();\n      }} else if (Date.now() < root._bokeh_timeout) {\n      setTimeout(run_inline_js, 100);\n    } else if (!root._bokeh_failed_load) {\n      console.log(\"Bokeh: BokehJS failed to load within specified timeout.\");\n      root._bokeh_failed_load = true;\n    } else if (force !== true) {\n      var cell = $(document.getElementById(\"1001\")).parents('.cell').data().cell;\n      cell.output_area.append_execute_result(NB_LOAD_WARNING)\n    }\n\n  }\n\n  if (root._bokeh_is_loading === 0) {\n    console.debug(\"Bokeh: BokehJS loaded, going straight to plotting\");\n    run_inline_js();\n  } else {\n    load_libs(css_urls, js_urls, function() {\n      console.debug(\"Bokeh: BokehJS plotting callback run at\", now());\n      run_inline_js();\n    });\n  }\n}(window));"
     },
     "metadata": {},
     "output_type": "display_data"
    }
   ],
   "source": [
    "import hail as hl\n",
    "import bokeh\n",
    "from hail.plot import show, output_notebook\n",
    "hl.init(app_name=\"hg38_PCA\")\n",
    "output_notebook()"
   ]
  },
  {
   "cell_type": "code",
   "execution_count": null,
   "id": "8f378b1a-184a-460d-a787-5826c1a66db7",
   "metadata": {},
   "outputs": [],
   "source": [
    "path_to_1kghg38 = \"file:///directflow/ClinicalGenomicsPipeline/dev/2021-02-04-PIPELINE-1885-All-Hail/EricData/20200217_biallelic_SNV/ftp.1000genomes.ebi.ac.uk/vol1/ftp/data_collections/gambian_genome_variation_project/release/20200217_biallelic_SNV/1kG.hg38.combined.vcf.bgz\"\n",
    "chr_map = {'1':'chr1', '2':'chr2', '3':'chr3', '4':'chr4', '5':'chr5', '6':'chr6', '7':'chr7', '8':'chr8', '9':'chr9', '10':'chr10', '11':'chr11', '12':'chr12', '13':'chr13', '14':'chr14', '15':'chr15', '16':'chr16', '17':'chr17', '18':'chr18', '19':'chr19', '20':'chr20', '21':'chr21', '22':'chr22', 'X':'chrX'}\n",
    "mt= hl.import_vcf(path_to_1kghg38, reference_genome='GRCh38', contig_recoding=chr_map, min_partitions=4)\n",
    "path_to_1kghg38_mt = \"file:///directflow/ClinicalGenomicsPipeline/dev/2021-02-04-PIPELINE-1885-All-Hail/EricData/20200217_biallelic_SNV/ftp.1000genomes.ebi.ac.uk/vol1/ftp/data_collections/gambian_genome_variation_project/release/20200217_biallelic_SNV/1kG.hg38.combined.mt\"\n",
    "mt.write(path_to_1kghg38_mt, overwrite=True)"
   ]
  },
  {
   "cell_type": "code",
   "execution_count": 21,
   "id": "4c3784a6-77cb-4785-a790-23ad04f09271",
   "metadata": {},
   "outputs": [],
   "source": [
    "path_to_1kghg38_mt = \"file:///directflow/ClinicalGenomicsPipeline/dev/2021-02-04-PIPELINE-1885-All-Hail/EricData/20200217_biallelic_SNV/ftp.1000genomes.ebi.ac.uk/vol1/ftp/data_collections/gambian_genome_variation_project/release/20200217_biallelic_SNV/1kG.hg38.combined.mt\"\n",
    "mt = hl.read_matrix_table(path_to_1kghg38_mt)"
   ]
  },
  {
   "cell_type": "code",
   "execution_count": 22,
   "id": "0cc28d8c-3cdd-49d2-bb03-889b905b4921",
   "metadata": {},
   "outputs": [
    {
     "name": "stderr",
     "output_type": "stream",
     "text": [
      "2022-02-10 09:27:01 Hail: INFO: Reading table to impute column types\n",
      "2022-02-10 09:27:02 Hail: INFO: Finished type imputation\n",
      "  Loading field 's' as type str (imputed)\n",
      "  Loading field 'population' as type str (imputed)\n",
      "  Loading field 'super_population' as type str (imputed)\n",
      "  Loading field 'is_female' as type bool (imputed)\n",
      "  Loading field 'purple_hair' as type bool (imputed)\n",
      "  Loading field 'caffeine_consumption' as type float64 (imputed)\n",
      "  Loading field 'six_toes' as type bool (imputed)\n"
     ]
    }
   ],
   "source": [
    "sa = hl.import_table('file:///home/eriurn/resources/Module4and9_VariantAnalysisUsingHail_KumarArcturus/resources/1kg_annotations.txt', \n",
    "                      impute=True, \n",
    "                      key='s')"
   ]
  },
  {
   "cell_type": "code",
   "execution_count": 23,
   "id": "5cac3d78-c162-49d2-aefd-e7c3ad9ae62a",
   "metadata": {},
   "outputs": [],
   "source": [
    "mt = mt.annotate_cols(pheno = sa[mt.s])"
   ]
  },
  {
   "cell_type": "code",
   "execution_count": 24,
   "id": "6410be9b-f8a3-4308-bd72-d93a541de70b",
   "metadata": {},
   "outputs": [],
   "source": [
    "mt = hl.sample_qc(mt)"
   ]
  },
  {
   "cell_type": "code",
   "execution_count": 25,
   "id": "02c6857b-f4fd-4443-8f05-e7d8f4e8a35b",
   "metadata": {},
   "outputs": [],
   "source": [
    "mt = mt.filter_cols(mt.sample_qc.call_rate >= 0.95)"
   ]
  },
  {
   "cell_type": "code",
   "execution_count": 26,
   "id": "ebb8dec9-1266-4871-8444-1785791f21a2",
   "metadata": {},
   "outputs": [],
   "source": [
    "mt = hl.variant_qc(mt)"
   ]
  },
  {
   "cell_type": "code",
   "execution_count": 27,
   "id": "48f9aa3b-6048-4f53-a212-a4bf6dbca9a0",
   "metadata": {},
   "outputs": [],
   "source": [
    "mt = mt.filter_rows(mt.variant_qc.call_rate > 0.95)"
   ]
  },
  {
   "cell_type": "code",
   "execution_count": 28,
   "id": "cb85de2c-b81d-4241-aacf-c451f2fe629b",
   "metadata": {},
   "outputs": [],
   "source": [
    "mt = mt.filter_rows(hl.agg.call_stats(mt.GT, mt.alleles).AF[1] > 0.01)"
   ]
  },
  {
   "cell_type": "code",
   "execution_count": 30,
   "id": "4a39f5fd-857d-48a6-a28e-4054bd007ee2",
   "metadata": {},
   "outputs": [
    {
     "name": "stderr",
     "output_type": "stream",
     "text": [
      "2022-02-10 09:28:48 Hail: INFO: hwe_normalized_pca: running PCA using 17819003 variants.\n",
      "2022-02-10 09:29:51 Hail: INFO: pca: running PCA with 10 components...+ 1) / 23]\n",
      "2022-02-10 09:42:29 Hail: INFO: Coerced sorted dataset=======>    (21 + 2) / 23]\n"
     ]
    }
   ],
   "source": [
    "pca_eigenvalues, pca_scores, pca_loadings = hl.hwe_normalized_pca(mt.GT, compute_loadings=True, k=10)"
   ]
  },
  {
   "cell_type": "code",
   "execution_count": 31,
   "id": "43d9e39a-89a5-4340-a973-e3bea2e87dcd",
   "metadata": {},
   "outputs": [],
   "source": [
    "mt = mt.annotate_rows(af=hl.agg.mean(mt.GT.n_alt_alleles()) / 2)\n",
    "pca_loadings = pca_loadings.annotate(af=mt.rows()[pca_loadings.key].af) "
   ]
  },
  {
   "cell_type": "code",
   "execution_count": 23,
   "id": "994e0324-c65a-4e6a-872d-893eb9b9e9f7",
   "metadata": {},
   "outputs": [],
   "source": [
    "ht = pca_scores.select(PC1=pca_scores.scores[0],\n",
    "                       PC2=pca_scores.scores[1],\n",
    "                       PC3=pca_scores.scores[2],\n",
    "                       PC4=pca_scores.scores[3])\n",
    "ht = ht.annotate(pheno = sa[ht.s])"
   ]
  },
  {
   "cell_type": "code",
   "execution_count": 24,
   "id": "c6f79051-4434-4b57-af28-d9a070d68e9a",
   "metadata": {},
   "outputs": [
    {
     "name": "stderr",
     "output_type": "stream",
     "text": [
      "2022-02-10 02:24:04 Hail: INFO: Coerced sorted dataset\n",
      "2022-02-10 02:24:04 Hail: INFO: Coerced sorted dataset\n",
      "2022-02-10 02:24:05 Hail: INFO: Coerced sorted dataset\n",
      "2022-02-10 02:24:05 Hail: INFO: Coerced sorted dataset\n",
      "2022-02-10 02:24:05 Hail: INFO: Coerced sorted dataset\n",
      "2022-02-10 02:24:05 Hail: INFO: Coerced sorted dataset\n"
     ]
    },
    {
     "data": {
      "text/html": [
       "\n",
       "\n",
       "\n",
       "\n",
       "\n",
       "\n",
       "  <div class=\"bk-root\" id=\"d6a192a4-3fa7-4ff3-b387-d7672ac799b7\" data-root-id=\"1197\"></div>\n"
      ]
     },
     "metadata": {},
     "output_type": "display_data"
    },
    {
     "data": {
      "application/javascript": [
       "(function(root) {\n",
       "  function embed_document(root) {\n",
       "    \n",
       "  var docs_json = {\"893b6ce4-8aa4-437b-9cc2-418316e822a8\":{\"roots\":{\"references\":[{\"attributes\":{\"children\":[{\"id\":\"1196\",\"type\":\"ToolbarBox\"},{\"id\":\"1194\",\"type\":\"GridBox\"}]},\"id\":\"1197\",\"type\":\"Column\"},{\"attributes\":{\"data_source\":{\"id\":\"1143\",\"type\":\"ColumnDataSource\"},\"glyph\":{\"id\":\"1148\",\"type\":\"Circle\"},\"hover_glyph\":null,\"muted_glyph\":null,\"nonselection_glyph\":{\"id\":\"1149\",\"type\":\"Circle\"},\"selection_glyph\":null,\"view\":{\"id\":\"1146\",\"type\":\"CDSView\"}},\"id\":\"1150\",\"type\":\"GlyphRenderer\"},{\"attributes\":{\"callback\":null,\"data\":{\"index\":[0,1,2,3,4,5,6,7,8,9,10,11,12,13,14,15,16,17,18,19,20,21,22,23,24,25,26,27,28,29,30,31,32,33,34,35,36,37,38,39,40,41,42,43,44,45,46,47,48,49,50,51,52,53,54,55,56,57,58,59,60,61,62,63,64,65,66,67,68,69,70,71,72,73,74,75,76,77,78,79,80,81,82,83,84,85,86,87,88,89,90,91,92,93,94,95,96,97,98,99,100,101,102,103,104,105,106,107,108,109,110,111,112,113,114,115,116,117,118,119,120,121,122,123,124,125,126,127,128,129,130,131,132,133,134,135,136,137,138,139,140,141,142,143,144,145,146,147,148,149,150,151,152,153,154,155,156,157,158,159,160,161,162,163,164,165,166,167,168,169,170,171,172,173,174,175,176,177,178,179,180,181,182,183,184,185,186,187,188,189,190,191,192,193,194,195,196,197,198,199,200,201,202,203,204,205,206,207,208,209,210,211,212,213,214,215,216,217,218,219,220,221,222,223,224,225,226,227,228,229,230,231,232,233,234,235,236,237,238,239,240,241,242,243,244,245,246,247,248,249,250,251,252,253,254,255,256,257,258,259,260,261,262,263,264,265,266,267,268,269,270,271,272,273,274,275,276,277,278,279,280,281,282,283,284,285,286,287,288,289,290,291,292,293,294,295,296,297,298,299,300,301,302,303,304,305,306,307,308,309,310,311,312,313,314,315,316,317,318,319,320,321,322,323,324,325,326,327,328,329,330,331,332,333,334,335,336,337,338,339,340,341,342,343,344,345,346,347,348,349,350,351,352,353,354,355,356,357,358,359,360,361,362,363,364,365,366,367,368,369,370,371,372,373,374,375,376,377,378,379,380,381,382,383,384,385,386,387,388,389,390,391,392,393,394,395,396,397,398,399,400,401,402,403,404,405,406,407,408,409,410,411,412,413,414,415,416,417,418,419,420,421,422,423,424,425,426,427,428,429,430,431,432,433,434,435,436,437,438,439,440,441,442,443,444,445,446,447,448,449,450,451,452,453,454,455,456,457,458,459,460,461,462,463,464,465,466,467,468,469,470,471,472,473,474,475,476,477,478,479,480,481,482,483,484,485,486,487,488,489,490,491,492,493,494,495,496,497,498,499],\"label\":[\"NA\",\"NA\",\"NA\",\"NA\",\"NA\",\"NA\",\"NA\",\"NA\",\"NA\",\"NA\",\"NA\",\"NA\",\"NA\",\"NA\",\"NA\",\"NA\",\"NA\",\"NA\",\"NA\",\"NA\",\"NA\",\"NA\",\"NA\",\"NA\",\"NA\",\"NA\",\"NA\",\"NA\",\"NA\",\"NA\",\"NA\",\"NA\",\"NA\",\"NA\",\"NA\",\"NA\",\"NA\",\"NA\",\"NA\",\"NA\",\"NA\",\"NA\",\"NA\",\"NA\",\"NA\",\"NA\",\"NA\",\"NA\",\"NA\",\"NA\",\"NA\",\"NA\",\"NA\",\"NA\",\"NA\",\"NA\",\"NA\",\"NA\",\"NA\",\"NA\",\"NA\",\"NA\",\"NA\",\"NA\",\"NA\",\"NA\",\"NA\",\"NA\",\"NA\",\"NA\",\"NA\",\"NA\",\"NA\",\"NA\",\"NA\",\"NA\",\"NA\",\"NA\",\"NA\",\"NA\",\"NA\",\"NA\",\"NA\",\"NA\",\"NA\",\"NA\",\"NA\",\"NA\",\"NA\",\"NA\",\"NA\",\"NA\",\"NA\",\"NA\",\"NA\",\"AFR\",\"NA\",\"AFR\",\"NA\",\"AFR\",\"NA\",\"NA\",\"AFR\",\"AFR\",\"AFR\",\"NA\",\"NA\",\"NA\",\"NA\",\"NA\",\"NA\",\"NA\",\"NA\",\"NA\",\"AFR\",\"AFR\",\"AFR\",\"NA\",\"NA\",\"NA\",\"NA\",\"NA\",\"NA\",\"NA\",\"AFR\",\"NA\",\"NA\",\"NA\",\"NA\",\"NA\",\"NA\",\"NA\",\"NA\",\"NA\",\"AFR\",\"NA\",\"NA\",\"AFR\",\"AFR\",\"NA\",\"AFR\",\"NA\",\"AFR\",\"NA\",\"NA\",\"AFR\",\"NA\",\"NA\",\"AFR\",\"AFR\",\"NA\",\"NA\",\"NA\",\"AFR\",\"NA\",\"AFR\",\"NA\",\"NA\",\"AFR\",\"NA\",\"NA\",\"NA\",\"AFR\",\"AFR\",\"AFR\",\"AFR\",\"AFR\",\"AFR\",\"AFR\",\"NA\",\"NA\",\"AFR\",\"NA\",\"NA\",\"AFR\",\"AFR\",\"AFR\",\"AFR\",\"AFR\",\"NA\",\"NA\",\"NA\",\"NA\",\"NA\",\"AFR\",\"NA\",\"AFR\",\"NA\",\"AFR\",\"NA\",\"NA\",\"NA\",\"NA\",\"AFR\",\"NA\",\"AFR\",\"NA\",\"NA\",\"NA\",\"NA\",\"AFR\",\"AFR\",\"NA\",\"NA\",\"AFR\",\"NA\",\"NA\",\"NA\",\"NA\",\"NA\",\"NA\",\"NA\",\"AFR\",\"AFR\",\"NA\",\"NA\",\"NA\",\"NA\",\"AFR\",\"AFR\",\"AFR\",\"AFR\",\"AFR\",\"NA\",\"NA\",\"AFR\",\"NA\",\"NA\",\"AFR\",\"AFR\",\"AFR\",\"AFR\",\"NA\",\"NA\",\"AFR\",\"AFR\",\"AFR\",\"AFR\",\"NA\",\"NA\",\"AFR\",\"AFR\",\"NA\",\"AFR\",\"NA\",\"AFR\",\"AFR\",\"AFR\",\"NA\",\"NA\",\"NA\",\"NA\",\"AFR\",\"NA\",\"AFR\",\"NA\",\"NA\",\"NA\",\"NA\",\"NA\",\"NA\",\"AFR\",\"AFR\",\"AFR\",\"AFR\",\"NA\",\"AFR\",\"AFR\",\"NA\",\"AFR\",\"NA\",\"NA\",\"NA\",\"NA\",\"AFR\",\"AFR\",\"NA\",\"NA\",\"NA\",\"AFR\",\"NA\",\"NA\",\"NA\",\"NA\",\"NA\",\"NA\",\"AFR\",\"NA\",\"NA\",\"AFR\",\"AFR\",\"NA\",\"NA\",\"NA\",\"NA\",\"AFR\",\"NA\",\"NA\",\"NA\",\"NA\",\"NA\",\"AFR\",\"AFR\",\"NA\",\"NA\",\"NA\",\"NA\",\"NA\",\"NA\",\"NA\",\"NA\",\"AFR\",\"NA\",\"NA\",\"NA\",\"NA\",\"NA\",\"NA\",\"NA\",\"NA\",\"NA\",\"NA\",\"NA\",\"NA\",\"AFR\",\"NA\",\"NA\",\"NA\",\"NA\",\"NA\",\"AFR\",\"NA\",\"NA\",\"NA\",\"NA\",\"AFR\",\"NA\",\"NA\",\"NA\",\"NA\",\"NA\",\"NA\",\"NA\",\"AFR\",\"NA\",\"NA\",\"NA\",\"NA\",\"NA\",\"NA\",\"NA\",\"NA\",\"NA\",\"NA\",\"NA\",\"NA\",\"NA\",\"NA\",\"NA\",\"NA\",\"NA\",\"NA\",\"NA\",\"NA\",\"NA\",\"NA\",\"NA\",\"NA\",\"NA\",\"NA\",\"NA\",\"NA\",\"NA\",\"NA\",\"NA\",\"NA\",\"NA\",\"NA\",\"NA\",\"NA\",\"NA\",\"NA\",\"NA\",\"NA\",\"NA\",\"NA\",\"NA\",\"NA\",\"AFR\",\"NA\",\"NA\",\"NA\",\"NA\",\"NA\",\"NA\",\"AFR\",\"NA\",\"NA\",\"NA\",\"NA\",\"NA\",\"NA\",\"NA\",\"NA\",\"NA\",\"NA\",\"NA\",\"NA\",\"NA\",\"NA\",\"NA\",\"NA\",\"NA\",\"NA\",\"NA\",\"NA\",\"NA\",\"NA\",\"NA\",\"NA\",\"NA\",\"NA\",\"NA\",\"NA\",\"NA\",\"NA\",\"NA\",\"NA\",\"NA\",\"NA\",\"NA\",\"NA\",\"NA\",\"NA\",\"NA\",\"NA\",\"NA\",\"NA\",\"NA\",\"NA\",\"NA\",\"NA\",\"NA\",\"AFR\",\"NA\",\"NA\",\"NA\",\"NA\",\"NA\",\"NA\",\"NA\",\"NA\",\"NA\",\"NA\",\"NA\",\"NA\",\"NA\",\"NA\",\"NA\",\"NA\",\"NA\",\"NA\",\"NA\",\"NA\",\"NA\",\"NA\",\"NA\",\"NA\",\"NA\",\"NA\",\"NA\",\"NA\",\"NA\",\"NA\",\"NA\",\"NA\",\"NA\",\"NA\",\"NA\",\"NA\",\"NA\",\"NA\",\"NA\",\"NA\",\"NA\",\"NA\",\"NA\",\"NA\",\"NA\",\"NA\",\"NA\",\"NA\",\"NA\",\"NA\",\"NA\",\"NA\",\"NA\",\"NA\",\"NA\",\"NA\"],\"x\":{\"__ndarray__\":\"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\",\"dtype\":\"float64\",\"shape\":[500]},\"y\":{\"__ndarray__\":\"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\",\"dtype\":\"float64\",\"shape\":[500]}},\"selected\":{\"id\":\"1180\",\"type\":\"Selection\"},\"selection_policy\":{\"id\":\"1181\",\"type\":\"UnionRenderers\"}},\"id\":\"1090\",\"type\":\"ColumnDataSource\"},{\"attributes\":{},\"id\":\"1181\",\"type\":\"UnionRenderers\"},{\"attributes\":{\"data_source\":{\"id\":\"1090\",\"type\":\"ColumnDataSource\"},\"glyph\":{\"id\":\"1101\",\"type\":\"Circle\"},\"hover_glyph\":null,\"muted_glyph\":null,\"nonselection_glyph\":{\"id\":\"1102\",\"type\":\"Circle\"},\"selection_glyph\":null,\"view\":{\"id\":\"1099\",\"type\":\"CDSView\"}},\"id\":\"1103\",\"type\":\"GlyphRenderer\"},{\"attributes\":{\"filters\":[{\"id\":\"1145\",\"type\":\"GroupFilter\"}],\"source\":{\"id\":\"1143\",\"type\":\"ColumnDataSource\"}},\"id\":\"1146\",\"type\":\"CDSView\"},{\"attributes\":{\"column_name\":\"label\",\"group\":\"AFR\"},\"id\":\"1092\",\"type\":\"GroupFilter\"},{\"attributes\":{\"data_source\":{\"id\":\"1037\",\"type\":\"ColumnDataSource\"},\"glyph\":{\"id\":\"1048\",\"type\":\"Circle\"},\"hover_glyph\":null,\"muted_glyph\":null,\"nonselection_glyph\":{\"id\":\"1049\",\"type\":\"Circle\"},\"selection_glyph\":null,\"view\":{\"id\":\"1046\",\"type\":\"CDSView\"}},\"id\":\"1050\",\"type\":\"GlyphRenderer\"},{\"attributes\":{\"axis_label\":\"PC2\",\"formatter\":{\"id\":\"1185\",\"type\":\"BasicTickFormatter\"},\"ticker\":{\"id\":\"1119\",\"type\":\"BasicTicker\"}},\"id\":\"1118\",\"type\":\"LinearAxis\"},{\"attributes\":{\"fill_alpha\":{\"value\":0.1},\"fill_color\":{\"value\":\"#1f77b4\"},\"line_alpha\":{\"value\":0.1},\"line_color\":{\"value\":\"#1f77b4\"},\"size\":{\"units\":\"screen\",\"value\":6},\"x\":{\"field\":\"x\"},\"y\":{\"field\":\"y\"}},\"id\":\"1149\",\"type\":\"Circle\"},{\"attributes\":{},\"id\":\"1185\",\"type\":\"BasicTickFormatter\"},{\"attributes\":{\"fill_color\":{\"field\":\"label\",\"transform\":{\"id\":\"1144\",\"type\":\"CategoricalColorMapper\"}},\"line_color\":{\"field\":\"label\",\"transform\":{\"id\":\"1144\",\"type\":\"CategoricalColorMapper\"}},\"size\":{\"units\":\"screen\",\"value\":6},\"x\":{\"field\":\"x\"},\"y\":{\"field\":\"y\"}},\"id\":\"1148\",\"type\":\"Circle\"},{\"attributes\":{\"column_name\":\"label\",\"group\":\"NA\"},\"id\":\"1098\",\"type\":\"GroupFilter\"},{\"attributes\":{},\"id\":\"1180\",\"type\":\"Selection\"},{\"attributes\":{\"factors\":[\"AFR\",\"NA\"],\"palette\":[\"#1f77b4\",\"#ff7f0e\",\"#2ca02c\",\"#d62728\",\"#9467bd\",\"#8c564b\",\"#e377c2\",\"#7f7f7f\",\"#bcbd22\",\"#17becf\"]},\"id\":\"1091\",\"type\":\"CategoricalColorMapper\"},{\"attributes\":{},\"id\":\"1178\",\"type\":\"BasicTickFormatter\"},{\"attributes\":{\"fill_alpha\":{\"value\":0.1},\"fill_color\":{\"value\":\"#1f77b4\"},\"line_alpha\":{\"value\":0.1},\"line_color\":{\"value\":\"#1f77b4\"},\"size\":{\"units\":\"screen\",\"value\":6},\"x\":{\"field\":\"x\"},\"y\":{\"field\":\"y\"}},\"id\":\"1102\",\"type\":\"Circle\"},{\"attributes\":{\"dimension\":1,\"ticker\":{\"id\":\"1124\",\"type\":\"BasicTicker\"}},\"id\":\"1127\",\"type\":\"Grid\"},{\"attributes\":{\"children\":[[{\"id\":\"1002\",\"subtype\":\"Figure\",\"type\":\"Plot\"},0,0],[{\"id\":\"1055\",\"subtype\":\"Figure\",\"type\":\"Plot\"},1,0],[{\"id\":\"1108\",\"subtype\":\"Figure\",\"type\":\"Plot\"},2,0]]},\"id\":\"1194\",\"type\":\"GridBox\"},{\"attributes\":{\"color_mapper\":null,\"formatter\":{\"id\":\"1167\",\"type\":\"BasicTickFormatter\"},\"ticker\":{\"id\":\"1166\",\"type\":\"BasicTicker\"},\"visible\":false},\"id\":\"1054\",\"type\":\"ColorBar\"},{\"attributes\":{},\"id\":\"1177\",\"type\":\"BasicTicker\"},{\"attributes\":{},\"id\":\"1187\",\"type\":\"BasicTickFormatter\"},{\"attributes\":{},\"id\":\"1165\",\"type\":\"BasicTickFormatter\"},{\"attributes\":{\"fill_alpha\":{\"value\":0.1},\"fill_color\":{\"value\":\"#1f77b4\"},\"line_alpha\":{\"value\":0.1},\"line_color\":{\"value\":\"#1f77b4\"},\"size\":{\"units\":\"screen\",\"value\":6},\"x\":{\"field\":\"x\"},\"y\":{\"field\":\"y\"}},\"id\":\"1049\",\"type\":\"Circle\"},{\"attributes\":{\"below\":[{\"id\":\"1065\",\"type\":\"LinearAxis\"}],\"center\":[{\"id\":\"1069\",\"type\":\"Grid\"},{\"id\":\"1074\",\"type\":\"Grid\"}],\"left\":[{\"id\":\"1070\",\"type\":\"LinearAxis\"},{\"id\":\"1106\",\"type\":\"Legend\"},{\"id\":\"1107\",\"type\":\"ColorBar\"}],\"plot_height\":800,\"plot_width\":800,\"renderers\":[{\"id\":\"1097\",\"type\":\"GlyphRenderer\"},{\"id\":\"1103\",\"type\":\"GlyphRenderer\"}],\"title\":null,\"toolbar\":{\"id\":\"1081\",\"type\":\"Toolbar\"},\"toolbar_location\":null,\"x_range\":{\"id\":\"1057\",\"type\":\"DataRange1d\"},\"x_scale\":{\"id\":\"1061\",\"type\":\"LinearScale\"},\"y_range\":{\"id\":\"1059\",\"type\":\"DataRange1d\"},\"y_scale\":{\"id\":\"1063\",\"type\":\"LinearScale\"}},\"id\":\"1055\",\"subtype\":\"Figure\",\"type\":\"Plot\"},{\"attributes\":{\"callback\":null,\"tooltips\":[[\"x\",\"@x\"],[\"y\",\"@y\"],[\"label\",\"@label\"]]},\"id\":\"1089\",\"type\":\"HoverTool\"},{\"attributes\":{\"fill_color\":{\"field\":\"label\",\"transform\":{\"id\":\"1038\",\"type\":\"CategoricalColorMapper\"}},\"line_color\":{\"field\":\"label\",\"transform\":{\"id\":\"1038\",\"type\":\"CategoricalColorMapper\"}},\"size\":{\"units\":\"screen\",\"value\":6},\"x\":{\"field\":\"x\"},\"y\":{\"field\":\"y\"}},\"id\":\"1048\",\"type\":\"Circle\"},{\"attributes\":{\"filters\":[{\"id\":\"1045\",\"type\":\"GroupFilter\"}],\"source\":{\"id\":\"1037\",\"type\":\"ColumnDataSource\"}},\"id\":\"1046\",\"type\":\"CDSView\"},{\"attributes\":{},\"id\":\"1163\",\"type\":\"BasicTickFormatter\"},{\"attributes\":{},\"id\":\"1131\",\"type\":\"SaveTool\"},{\"attributes\":{\"filters\":[{\"id\":\"1098\",\"type\":\"GroupFilter\"}],\"source\":{\"id\":\"1090\",\"type\":\"ColumnDataSource\"}},\"id\":\"1099\",\"type\":\"CDSView\"},{\"attributes\":{},\"id\":\"1080\",\"type\":\"HelpTool\"},{\"attributes\":{\"active_drag\":\"auto\",\"active_inspect\":\"auto\",\"active_multi\":null,\"active_scroll\":\"auto\",\"active_tap\":\"auto\",\"tools\":[{\"id\":\"1128\",\"type\":\"PanTool\"},{\"id\":\"1129\",\"type\":\"WheelZoomTool\"},{\"id\":\"1130\",\"type\":\"BoxZoomTool\"},{\"id\":\"1131\",\"type\":\"SaveTool\"},{\"id\":\"1132\",\"type\":\"ResetTool\"},{\"id\":\"1133\",\"type\":\"HelpTool\"},{\"id\":\"1142\",\"type\":\"HoverTool\"}]},\"id\":\"1134\",\"type\":\"Toolbar\"},{\"attributes\":{},\"id\":\"1132\",\"type\":\"ResetTool\"},{\"attributes\":{\"click_policy\":\"hide\",\"items\":[{\"id\":\"1051\",\"type\":\"LegendItem\"},{\"id\":\"1052\",\"type\":\"LegendItem\"}]},\"id\":\"1053\",\"type\":\"Legend\"},{\"attributes\":{},\"id\":\"1078\",\"type\":\"SaveTool\"},{\"attributes\":{},\"id\":\"1114\",\"type\":\"LinearScale\"},{\"attributes\":{\"overlay\":{\"id\":\"1179\",\"type\":\"BoxAnnotation\"}},\"id\":\"1077\",\"type\":\"BoxZoomTool\"},{\"attributes\":{\"fill_color\":{\"field\":\"label\",\"transform\":{\"id\":\"1091\",\"type\":\"CategoricalColorMapper\"}},\"line_color\":{\"field\":\"label\",\"transform\":{\"id\":\"1091\",\"type\":\"CategoricalColorMapper\"}},\"size\":{\"units\":\"screen\",\"value\":6},\"x\":{\"field\":\"x\"},\"y\":{\"field\":\"y\"}},\"id\":\"1101\",\"type\":\"Circle\"},{\"attributes\":{\"callback\":null,\"tooltips\":[[\"x\",\"@x\"],[\"y\",\"@y\"],[\"label\",\"@label\"]]},\"id\":\"1142\",\"type\":\"HoverTool\"},{\"attributes\":{},\"id\":\"1079\",\"type\":\"ResetTool\"},{\"attributes\":{\"column_name\":\"label\",\"group\":\"AFR\"},\"id\":\"1145\",\"type\":\"GroupFilter\"},{\"attributes\":{},\"id\":\"1174\",\"type\":\"BasicTickFormatter\"},{\"attributes\":{},\"id\":\"1167\",\"type\":\"BasicTickFormatter\"},{\"attributes\":{},\"id\":\"1176\",\"type\":\"BasicTickFormatter\"},{\"attributes\":{\"callback\":null},\"id\":\"1057\",\"type\":\"DataRange1d\"},{\"attributes\":{},\"id\":\"1076\",\"type\":\"WheelZoomTool\"},{\"attributes\":{\"label\":{\"value\":\"NA\"},\"renderers\":[{\"id\":\"1050\",\"type\":\"GlyphRenderer\"}]},\"id\":\"1052\",\"type\":\"LegendItem\"},{\"attributes\":{\"bottom_units\":\"screen\",\"fill_alpha\":{\"value\":0.5},\"fill_color\":{\"value\":\"lightgrey\"},\"left_units\":\"screen\",\"level\":\"overlay\",\"line_alpha\":{\"value\":1.0},\"line_color\":{\"value\":\"black\"},\"line_dash\":[4,4],\"line_width\":{\"value\":2},\"render_mode\":\"css\",\"right_units\":\"screen\",\"top_units\":\"screen\"},\"id\":\"1168\",\"type\":\"BoxAnnotation\"},{\"attributes\":{\"color_mapper\":null,\"formatter\":{\"id\":\"1178\",\"type\":\"BasicTickFormatter\"},\"ticker\":{\"id\":\"1177\",\"type\":\"BasicTicker\"},\"visible\":false},\"id\":\"1107\",\"type\":\"ColorBar\"},{\"attributes\":{\"axis_label\":\"PC4\",\"formatter\":{\"id\":\"1187\",\"type\":\"BasicTickFormatter\"},\"ticker\":{\"id\":\"1124\",\"type\":\"BasicTicker\"}},\"id\":\"1123\",\"type\":\"LinearAxis\"},{\"attributes\":{\"click_policy\":\"hide\",\"items\":[{\"id\":\"1104\",\"type\":\"LegendItem\"},{\"id\":\"1105\",\"type\":\"LegendItem\"}]},\"id\":\"1106\",\"type\":\"Legend\"},{\"attributes\":{},\"id\":\"1133\",\"type\":\"HelpTool\"},{\"attributes\":{},\"id\":\"1166\",\"type\":\"BasicTicker\"},{\"attributes\":{\"overlay\":{\"id\":\"1190\",\"type\":\"BoxAnnotation\"}},\"id\":\"1130\",\"type\":\"BoxZoomTool\"},{\"attributes\":{\"bottom_units\":\"screen\",\"fill_alpha\":{\"value\":0.5},\"fill_color\":{\"value\":\"lightgrey\"},\"left_units\":\"screen\",\"level\":\"overlay\",\"line_alpha\":{\"value\":1.0},\"line_color\":{\"value\":\"black\"},\"line_dash\":[4,4],\"line_width\":{\"value\":2},\"render_mode\":\"css\",\"right_units\":\"screen\",\"top_units\":\"screen\"},\"id\":\"1179\",\"type\":\"BoxAnnotation\"},{\"attributes\":{\"label\":{\"value\":\"NA\"},\"renderers\":[{\"id\":\"1103\",\"type\":\"GlyphRenderer\"}]},\"id\":\"1105\",\"type\":\"LegendItem\"},{\"attributes\":{},\"id\":\"1124\",\"type\":\"BasicTicker\"},{\"attributes\":{},\"id\":\"1075\",\"type\":\"PanTool\"},{\"attributes\":{\"active_drag\":\"auto\",\"active_inspect\":\"auto\",\"active_multi\":null,\"active_scroll\":\"auto\",\"active_tap\":\"auto\",\"tools\":[{\"id\":\"1075\",\"type\":\"PanTool\"},{\"id\":\"1076\",\"type\":\"WheelZoomTool\"},{\"id\":\"1077\",\"type\":\"BoxZoomTool\"},{\"id\":\"1078\",\"type\":\"SaveTool\"},{\"id\":\"1079\",\"type\":\"ResetTool\"},{\"id\":\"1080\",\"type\":\"HelpTool\"},{\"id\":\"1089\",\"type\":\"HoverTool\"}]},\"id\":\"1081\",\"type\":\"Toolbar\"},{\"attributes\":{},\"id\":\"1129\",\"type\":\"WheelZoomTool\"},{\"attributes\":{\"callback\":null,\"data\":{\"index\":[0,1,2,3,4,5,6,7,8,9,10,11,12,13,14,15,16,17,18,19,20,21,22,23,24,25,26,27,28,29,30,31,32,33,34,35,36,37,38,39,40,41,42,43,44,45,46,47,48,49,50,51,52,53,54,55,56,57,58,59,60,61,62,63,64,65,66,67,68,69,70,71,72,73,74,75,76,77,78,79,80,81,82,83,84,85,86,87,88,89,90,91,92,93,94,95,96,97,98,99,100,101,102,103,104,105,106,107,108,109,110,111,112,113,114,115,116,117,118,119,120,121,122,123,124,125,126,127,128,129,130,131,132,133,134,135,136,137,138,139,140,141,142,143,144,145,146,147,148,149,150,151,152,153,154,155,156,157,158,159,160,161,162,163,164,165,166,167,168,169,170,171,172,173,174,175,176,177,178,179,180,181,182,183,184,185,186,187,188,189,190,191,192,193,194,195,196,197,198,199,200,201,202,203,204,205,206,207,208,209,210,211,212,213,214,215,216,217,218,219,220,221,222,223,224,225,226,227,228,229,230,231,232,233,234,235,236,237,238,239,240,241,242,243,244,245,246,247,248,249,250,251,252,253,254,255,256,257,258,259,260,261,262,263,264,265,266,267,268,269,270,271,272,273,274,275,276,277,278,279,280,281,282,283,284,285,286,287,288,289,290,291,292,293,294,295,296,297,298,299,300,301,302,303,304,305,306,307,308,309,310,311,312,313,314,315,316,317,318,319,320,321,322,323,324,325,326,327,328,329,330,331,332,333,334,335,336,337,338,339,340,341,342,343,344,345,346,347,348,349,350,351,352,353,354,355,356,357,358,359,360,361,362,363,364,365,366,367,368,369,370,371,372,373,374,375,376,377,378,379,380,381,382,383,384,385,386,387,388,389,390,391,392,393,394,395,396,397,398,399,400,401,402,403,404,405,406,407,408,409,410,411,412,413,414,415,416,417,418,419,420,421,422,423,424,425,426,427,428,429,430,431,432,433,434,435,436,437,438,439,440,441,442,443,444,445,446,447,448,449,450,451,452,453,454,455,456,457,458,459,460,461,462,463,464,465,466,467,468,469,470,471,472,473,474,475,476,477,478,479,480,481,482,483,484,485,486,487,488,489,490],\"label\":[\"NA\",\"NA\",\"NA\",\"NA\",\"NA\",\"NA\",\"NA\",\"NA\",\"NA\",\"NA\",\"NA\",\"NA\",\"NA\",\"NA\",\"NA\",\"NA\",\"NA\",\"NA\",\"NA\",\"NA\",\"NA\",\"NA\",\"NA\",\"NA\",\"NA\",\"NA\",\"NA\",\"NA\",\"NA\",\"NA\",\"NA\",\"NA\",\"NA\",\"NA\",\"NA\",\"NA\",\"NA\",\"NA\",\"NA\",\"NA\",\"NA\",\"NA\",\"NA\",\"NA\",\"NA\",\"NA\",\"NA\",\"NA\",\"NA\",\"NA\",\"NA\",\"NA\",\"NA\",\"NA\",\"NA\",\"NA\",\"NA\",\"NA\",\"NA\",\"NA\",\"NA\",\"NA\",\"NA\",\"NA\",\"NA\",\"NA\",\"NA\",\"NA\",\"NA\",\"NA\",\"NA\",\"NA\",\"NA\",\"NA\",\"NA\",\"NA\",\"NA\",\"NA\",\"NA\",\"NA\",\"NA\",\"NA\",\"NA\",\"NA\",\"NA\",\"NA\",\"NA\",\"NA\",\"NA\",\"NA\",\"NA\",\"NA\",\"NA\",\"NA\",\"NA\",\"NA\",\"NA\",\"NA\",\"NA\",\"NA\",\"NA\",\"NA\",\"NA\",\"NA\",\"NA\",\"NA\",\"NA\",\"NA\",\"NA\",\"NA\",\"NA\",\"NA\",\"NA\",\"NA\",\"NA\",\"NA\",\"NA\",\"NA\",\"NA\",\"NA\",\"NA\",\"NA\",\"NA\",\"NA\",\"NA\",\"NA\",\"NA\",\"NA\",\"NA\",\"NA\",\"NA\",\"NA\",\"NA\",\"NA\",\"NA\",\"NA\",\"NA\",\"NA\",\"NA\",\"NA\",\"NA\",\"NA\",\"NA\",\"NA\",\"NA\",\"NA\",\"NA\",\"NA\",\"NA\",\"NA\",\"NA\",\"AFR\",\"NA\",\"NA\",\"AFR\",\"NA\",\"NA\",\"NA\",\"NA\",\"AFR\",\"NA\",\"NA\",\"NA\",\"NA\",\"NA\",\"NA\",\"AFR\",\"AFR\",\"NA\",\"NA\",\"NA\",\"NA\",\"AFR\",\"AFR\",\"AFR\",\"NA\",\"NA\",\"NA\",\"NA\",\"NA\",\"NA\",\"AFR\",\"AFR\",\"NA\",\"NA\",\"NA\",\"NA\",\"NA\",\"NA\",\"NA\",\"NA\",\"NA\",\"NA\",\"NA\",\"NA\",\"NA\",\"NA\",\"NA\",\"NA\",\"NA\",\"NA\",\"NA\",\"AFR\",\"AFR\",\"NA\",\"NA\",\"NA\",\"NA\",\"NA\",\"NA\",\"NA\",\"NA\",\"NA\",\"NA\",\"NA\",\"NA\",\"NA\",\"AFR\",\"NA\",\"NA\",\"NA\",\"NA\",\"NA\",\"NA\",\"NA\",\"AFR\",\"NA\",\"NA\",\"AFR\",\"AFR\",\"NA\",\"NA\",\"NA\",\"NA\",\"NA\",\"NA\",\"NA\",\"NA\",\"NA\",\"NA\",\"AFR\",\"AFR\",\"NA\",\"NA\",\"NA\",\"NA\",\"NA\",\"AFR\",\"AFR\",\"AFR\",\"NA\",\"AFR\",\"AFR\",\"AFR\",\"NA\",\"NA\",\"NA\",\"NA\",\"NA\",\"NA\",\"NA\",\"NA\",\"NA\",\"NA\",\"NA\",\"NA\",\"NA\",\"NA\",\"AFR\",\"AFR\",\"NA\",\"NA\",\"NA\",\"NA\",\"NA\",\"NA\",\"NA\",\"AFR\",\"AFR\",\"AFR\",\"AFR\",\"AFR\",\"AFR\",\"AFR\",\"NA\",\"NA\",\"NA\",\"NA\",\"NA\",\"NA\",\"NA\",\"AFR\",\"AFR\",\"NA\",\"NA\",\"AFR\",\"AFR\",\"AFR\",\"NA\",\"NA\",\"NA\",\"NA\",\"NA\",\"NA\",\"NA\",\"NA\",\"AFR\",\"NA\",\"NA\",\"NA\",\"AFR\",\"AFR\",\"AFR\",\"AFR\",\"AFR\",\"NA\",\"NA\",\"NA\",\"NA\",\"NA\",\"NA\",\"NA\",\"NA\",\"AFR\",\"AFR\",\"AFR\",\"AFR\",\"AFR\",\"AFR\",\"AFR\",\"NA\",\"NA\",\"NA\",\"NA\",\"NA\",\"NA\",\"AFR\",\"NA\",\"AFR\",\"AFR\",\"AFR\",\"AFR\",\"AFR\",\"NA\",\"AFR\",\"NA\",\"NA\",\"NA\",\"NA\",\"NA\",\"AFR\",\"NA\",\"AFR\",\"AFR\",\"NA\",\"AFR\",\"NA\",\"NA\",\"NA\",\"NA\",\"AFR\",\"AFR\",\"AFR\",\"AFR\",\"AFR\",\"AFR\",\"AFR\",\"AFR\",\"NA\",\"NA\",\"NA\",\"NA\",\"NA\",\"NA\",\"NA\",\"NA\",\"NA\",\"AFR\",\"NA\",\"AFR\",\"AFR\",\"NA\",\"AFR\",\"NA\",\"NA\",\"NA\",\"NA\",\"NA\",\"NA\",\"NA\",\"AFR\",\"AFR\",\"AFR\",\"AFR\",\"AFR\",\"AFR\",\"NA\",\"NA\",\"NA\",\"NA\",\"NA\",\"NA\",\"AFR\",\"AFR\",\"NA\",\"NA\",\"AFR\",\"NA\",\"NA\",\"NA\",\"NA\",\"NA\",\"NA\",\"NA\",\"NA\",\"AFR\",\"AFR\",\"AFR\",\"NA\",\"NA\",\"NA\",\"NA\",\"AFR\",\"NA\",\"NA\",\"NA\",\"NA\",\"NA\",\"NA\",\"NA\",\"NA\",\"NA\",\"NA\",\"NA\",\"NA\",\"NA\",\"NA\",\"NA\",\"NA\",\"NA\",\"NA\",\"NA\",\"NA\",\"NA\",\"NA\",\"NA\",\"NA\",\"NA\",\"NA\",\"NA\",\"NA\",\"NA\",\"NA\",\"NA\",\"NA\",\"NA\",\"NA\",\"NA\",\"NA\",\"NA\",\"NA\",\"NA\",\"NA\",\"NA\",\"NA\",\"NA\",\"NA\",\"NA\",\"NA\",\"NA\",\"NA\",\"NA\",\"NA\",\"NA\",\"NA\",\"NA\",\"NA\",\"NA\",\"NA\",\"NA\",\"NA\",\"NA\",\"NA\",\"NA\",\"NA\",\"NA\",\"NA\",\"NA\",\"NA\",\"NA\",\"NA\"],\"x\":{\"__ndarray__\":\"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\",\"dtype\":\"float64\",\"shape\":[491]},\"y\":{\"__ndarray__\":\"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\",\"dtype\":\"float64\",\"shape\":[491]}},\"selected\":{\"id\":\"1191\",\"type\":\"Selection\"},\"selection_policy\":{\"id\":\"1192\",\"type\":\"UnionRenderers\"}},\"id\":\"1143\",\"type\":\"ColumnDataSource\"},{\"attributes\":{\"tools\":[{\"id\":\"1022\",\"type\":\"PanTool\"},{\"id\":\"1023\",\"type\":\"WheelZoomTool\"},{\"id\":\"1024\",\"type\":\"BoxZoomTool\"},{\"id\":\"1025\",\"type\":\"SaveTool\"},{\"id\":\"1026\",\"type\":\"ResetTool\"},{\"id\":\"1027\",\"type\":\"HelpTool\"},{\"id\":\"1036\",\"type\":\"HoverTool\"},{\"id\":\"1075\",\"type\":\"PanTool\"},{\"id\":\"1076\",\"type\":\"WheelZoomTool\"},{\"id\":\"1077\",\"type\":\"BoxZoomTool\"},{\"id\":\"1078\",\"type\":\"SaveTool\"},{\"id\":\"1079\",\"type\":\"ResetTool\"},{\"id\":\"1080\",\"type\":\"HelpTool\"},{\"id\":\"1089\",\"type\":\"HoverTool\"},{\"id\":\"1128\",\"type\":\"PanTool\"},{\"id\":\"1129\",\"type\":\"WheelZoomTool\"},{\"id\":\"1130\",\"type\":\"BoxZoomTool\"},{\"id\":\"1131\",\"type\":\"SaveTool\"},{\"id\":\"1132\",\"type\":\"ResetTool\"},{\"id\":\"1133\",\"type\":\"HelpTool\"},{\"id\":\"1142\",\"type\":\"HoverTool\"}]},\"id\":\"1195\",\"type\":\"ProxyToolbar\"},{\"attributes\":{},\"id\":\"1119\",\"type\":\"BasicTicker\"},{\"attributes\":{},\"id\":\"1116\",\"type\":\"LinearScale\"},{\"attributes\":{\"factors\":[\"AFR\",\"NA\"],\"palette\":[\"#1f77b4\",\"#ff7f0e\",\"#2ca02c\",\"#d62728\",\"#9467bd\",\"#8c564b\",\"#e377c2\",\"#7f7f7f\",\"#bcbd22\",\"#17becf\"]},\"id\":\"1144\",\"type\":\"CategoricalColorMapper\"},{\"attributes\":{},\"id\":\"1128\",\"type\":\"PanTool\"},{\"attributes\":{\"dimension\":1,\"ticker\":{\"id\":\"1071\",\"type\":\"BasicTicker\"}},\"id\":\"1074\",\"type\":\"Grid\"},{\"attributes\":{\"ticker\":{\"id\":\"1119\",\"type\":\"BasicTicker\"}},\"id\":\"1122\",\"type\":\"Grid\"},{\"attributes\":{},\"id\":\"1025\",\"type\":\"SaveTool\"},{\"attributes\":{\"callback\":null},\"id\":\"1004\",\"type\":\"DataRange1d\"},{\"attributes\":{\"callback\":null},\"id\":\"1059\",\"type\":\"DataRange1d\"},{\"attributes\":{\"callback\":null},\"id\":\"1110\",\"type\":\"DataRange1d\"},{\"attributes\":{},\"id\":\"1023\",\"type\":\"WheelZoomTool\"},{\"attributes\":{},\"id\":\"1022\",\"type\":\"PanTool\"},{\"attributes\":{\"fill_alpha\":{\"value\":0.1},\"fill_color\":{\"value\":\"#1f77b4\"},\"line_alpha\":{\"value\":0.1},\"line_color\":{\"value\":\"#1f77b4\"},\"size\":{\"units\":\"screen\",\"value\":6},\"x\":{\"field\":\"x\"},\"y\":{\"field\":\"y\"}},\"id\":\"1043\",\"type\":\"Circle\"},{\"attributes\":{\"fill_color\":{\"field\":\"label\",\"transform\":{\"id\":\"1091\",\"type\":\"CategoricalColorMapper\"}},\"line_color\":{\"field\":\"label\",\"transform\":{\"id\":\"1091\",\"type\":\"CategoricalColorMapper\"}},\"size\":{\"units\":\"screen\",\"value\":6},\"x\":{\"field\":\"x\"},\"y\":{\"field\":\"y\"}},\"id\":\"1095\",\"type\":\"Circle\"},{\"attributes\":{\"callback\":null,\"tooltips\":[[\"x\",\"@x\"],[\"y\",\"@y\"],[\"label\",\"@label\"]]},\"id\":\"1036\",\"type\":\"HoverTool\"},{\"attributes\":{},\"id\":\"1071\",\"type\":\"BasicTicker\"},{\"attributes\":{\"axis_label\":\"PC3\",\"formatter\":{\"id\":\"1176\",\"type\":\"BasicTickFormatter\"},\"ticker\":{\"id\":\"1071\",\"type\":\"BasicTicker\"}},\"id\":\"1070\",\"type\":\"LinearAxis\"},{\"attributes\":{\"below\":[{\"id\":\"1012\",\"type\":\"LinearAxis\"}],\"center\":[{\"id\":\"1016\",\"type\":\"Grid\"},{\"id\":\"1021\",\"type\":\"Grid\"}],\"left\":[{\"id\":\"1017\",\"type\":\"LinearAxis\"},{\"id\":\"1053\",\"type\":\"Legend\"},{\"id\":\"1054\",\"type\":\"ColorBar\"}],\"plot_height\":800,\"plot_width\":800,\"renderers\":[{\"id\":\"1044\",\"type\":\"GlyphRenderer\"},{\"id\":\"1050\",\"type\":\"GlyphRenderer\"}],\"title\":null,\"toolbar\":{\"id\":\"1028\",\"type\":\"Toolbar\"},\"toolbar_location\":null,\"x_range\":{\"id\":\"1004\",\"type\":\"DataRange1d\"},\"x_scale\":{\"id\":\"1008\",\"type\":\"LinearScale\"},\"y_range\":{\"id\":\"1006\",\"type\":\"DataRange1d\"},\"y_scale\":{\"id\":\"1010\",\"type\":\"LinearScale\"}},\"id\":\"1002\",\"subtype\":\"Figure\",\"type\":\"Plot\"},{\"attributes\":{},\"id\":\"1027\",\"type\":\"HelpTool\"},{\"attributes\":{},\"id\":\"1169\",\"type\":\"Selection\"},{\"attributes\":{},\"id\":\"1063\",\"type\":\"LinearScale\"},{\"attributes\":{\"data_source\":{\"id\":\"1037\",\"type\":\"ColumnDataSource\"},\"glyph\":{\"id\":\"1042\",\"type\":\"Circle\"},\"hover_glyph\":null,\"muted_glyph\":null,\"nonselection_glyph\":{\"id\":\"1043\",\"type\":\"Circle\"},\"selection_glyph\":null,\"view\":{\"id\":\"1040\",\"type\":\"CDSView\"}},\"id\":\"1044\",\"type\":\"GlyphRenderer\"},{\"attributes\":{\"label\":{\"value\":\"NA\"},\"renderers\":[{\"id\":\"1156\",\"type\":\"GlyphRenderer\"}]},\"id\":\"1158\",\"type\":\"LegendItem\"},{\"attributes\":{},\"id\":\"1013\",\"type\":\"BasicTicker\"},{\"attributes\":{},\"id\":\"1170\",\"type\":\"UnionRenderers\"},{\"attributes\":{\"dimension\":1,\"ticker\":{\"id\":\"1018\",\"type\":\"BasicTicker\"}},\"id\":\"1021\",\"type\":\"Grid\"},{\"attributes\":{},\"id\":\"1191\",\"type\":\"Selection\"},{\"attributes\":{},\"id\":\"1026\",\"type\":\"ResetTool\"},{\"attributes\":{\"ticker\":{\"id\":\"1066\",\"type\":\"BasicTicker\"}},\"id\":\"1069\",\"type\":\"Grid\"},{\"attributes\":{\"label\":{\"value\":\"AFR\"},\"renderers\":[{\"id\":\"1044\",\"type\":\"GlyphRenderer\"}]},\"id\":\"1051\",\"type\":\"LegendItem\"},{\"attributes\":{\"fill_alpha\":{\"value\":0.1},\"fill_color\":{\"value\":\"#1f77b4\"},\"line_alpha\":{\"value\":0.1},\"line_color\":{\"value\":\"#1f77b4\"},\"size\":{\"units\":\"screen\",\"value\":6},\"x\":{\"field\":\"x\"},\"y\":{\"field\":\"y\"}},\"id\":\"1155\",\"type\":\"Circle\"},{\"attributes\":{\"axis_label\":\"PC1\",\"formatter\":{\"id\":\"1174\",\"type\":\"BasicTickFormatter\"},\"ticker\":{\"id\":\"1066\",\"type\":\"BasicTicker\"}},\"id\":\"1065\",\"type\":\"LinearAxis\"},{\"attributes\":{\"active_drag\":\"auto\",\"active_inspect\":\"auto\",\"active_multi\":null,\"active_scroll\":\"auto\",\"active_tap\":\"auto\",\"tools\":[{\"id\":\"1022\",\"type\":\"PanTool\"},{\"id\":\"1023\",\"type\":\"WheelZoomTool\"},{\"id\":\"1024\",\"type\":\"BoxZoomTool\"},{\"id\":\"1025\",\"type\":\"SaveTool\"},{\"id\":\"1026\",\"type\":\"ResetTool\"},{\"id\":\"1027\",\"type\":\"HelpTool\"},{\"id\":\"1036\",\"type\":\"HoverTool\"}]},\"id\":\"1028\",\"type\":\"Toolbar\"},{\"attributes\":{\"data_source\":{\"id\":\"1143\",\"type\":\"ColumnDataSource\"},\"glyph\":{\"id\":\"1154\",\"type\":\"Circle\"},\"hover_glyph\":null,\"muted_glyph\":null,\"nonselection_glyph\":{\"id\":\"1155\",\"type\":\"Circle\"},\"selection_glyph\":null,\"view\":{\"id\":\"1152\",\"type\":\"CDSView\"}},\"id\":\"1156\",\"type\":\"GlyphRenderer\"},{\"attributes\":{},\"id\":\"1018\",\"type\":\"BasicTicker\"},{\"attributes\":{\"filters\":[{\"id\":\"1092\",\"type\":\"GroupFilter\"}],\"source\":{\"id\":\"1090\",\"type\":\"ColumnDataSource\"}},\"id\":\"1093\",\"type\":\"CDSView\"},{\"attributes\":{},\"id\":\"1188\",\"type\":\"BasicTicker\"},{\"attributes\":{},\"id\":\"1189\",\"type\":\"BasicTickFormatter\"},{\"attributes\":{\"click_policy\":\"hide\",\"items\":[{\"id\":\"1157\",\"type\":\"LegendItem\"},{\"id\":\"1158\",\"type\":\"LegendItem\"}]},\"id\":\"1159\",\"type\":\"Legend\"},{\"attributes\":{\"bottom_units\":\"screen\",\"fill_alpha\":{\"value\":0.5},\"fill_color\":{\"value\":\"lightgrey\"},\"left_units\":\"screen\",\"level\":\"overlay\",\"line_alpha\":{\"value\":1.0},\"line_color\":{\"value\":\"black\"},\"line_dash\":[4,4],\"line_width\":{\"value\":2},\"render_mode\":\"css\",\"right_units\":\"screen\",\"top_units\":\"screen\"},\"id\":\"1190\",\"type\":\"BoxAnnotation\"},{\"attributes\":{\"color_mapper\":null,\"formatter\":{\"id\":\"1189\",\"type\":\"BasicTickFormatter\"},\"ticker\":{\"id\":\"1188\",\"type\":\"BasicTicker\"},\"visible\":false},\"id\":\"1160\",\"type\":\"ColorBar\"},{\"attributes\":{},\"id\":\"1066\",\"type\":\"BasicTicker\"},{\"attributes\":{},\"id\":\"1192\",\"type\":\"UnionRenderers\"},{\"attributes\":{\"axis_label\":\"PC2\",\"formatter\":{\"id\":\"1165\",\"type\":\"BasicTickFormatter\"},\"ticker\":{\"id\":\"1018\",\"type\":\"BasicTicker\"}},\"id\":\"1017\",\"type\":\"LinearAxis\"},{\"attributes\":{\"callback\":null,\"data\":{\"index\":[0,1,2,3,4,5,6,7,8,9,10,11,12,13,14,15,16,17,18,19,20,21,22,23,24,25,26,27,28,29,30,31,32,33,34,35,36,37,38,39,40,41,42,43,44,45,46,47,48,49,50,51,52,53,54,55,56,57,58,59,60,61,62,63,64,65,66,67,68,69,70,71,72,73,74,75,76,77,78,79,80,81,82,83,84,85,86,87,88,89,90,91,92,93,94,95,96,97,98,99,100,101,102,103,104,105,106,107,108,109,110,111,112,113,114,115,116,117,118,119,120,121,122,123,124,125,126,127,128,129,130,131,132,133,134,135,136,137,138,139,140,141,142,143,144,145,146,147,148,149,150,151,152,153,154,155,156,157,158,159,160,161,162,163,164,165,166,167,168,169,170,171,172,173,174,175,176,177,178,179,180,181,182,183,184,185,186,187,188,189,190,191,192,193,194,195,196,197,198,199,200,201,202,203,204,205,206,207,208,209,210,211,212,213,214,215,216,217,218,219,220,221,222,223,224,225,226,227,228,229,230,231,232,233,234,235,236,237,238,239,240,241,242,243,244,245,246,247,248,249,250,251,252,253,254,255,256,257,258,259,260,261,262,263,264,265,266,267,268,269,270,271,272,273,274,275,276,277,278,279,280,281,282,283,284,285,286,287,288,289,290,291,292,293,294,295,296,297,298,299,300,301,302,303,304,305,306,307,308,309,310,311,312,313,314,315,316,317,318,319,320,321,322,323,324,325,326,327,328,329,330,331,332,333,334,335,336,337,338,339,340,341,342,343,344,345,346,347,348,349,350,351,352,353,354,355,356,357,358,359,360,361,362,363,364,365,366,367,368,369,370,371,372,373,374,375,376,377,378,379,380,381,382,383,384,385,386,387,388,389,390,391,392,393,394,395,396,397,398,399,400,401,402,403,404,405,406,407,408,409,410,411,412,413,414,415,416,417,418,419,420,421,422,423,424,425,426,427,428,429,430,431,432,433,434,435,436,437,438,439,440,441,442,443,444,445,446,447,448,449,450,451,452,453,454,455,456,457,458,459,460,461,462,463,464,465,466,467,468,469,470,471],\"label\":[\"NA\",\"NA\",\"NA\",\"NA\",\"NA\",\"NA\",\"NA\",\"NA\",\"NA\",\"NA\",\"NA\",\"NA\",\"NA\",\"NA\",\"NA\",\"NA\",\"NA\",\"NA\",\"NA\",\"NA\",\"NA\",\"NA\",\"NA\",\"NA\",\"NA\",\"NA\",\"NA\",\"NA\",\"NA\",\"NA\",\"NA\",\"NA\",\"NA\",\"NA\",\"NA\",\"NA\",\"NA\",\"NA\",\"NA\",\"NA\",\"NA\",\"NA\",\"NA\",\"NA\",\"NA\",\"NA\",\"NA\",\"NA\",\"NA\",\"NA\",\"NA\",\"NA\",\"NA\",\"NA\",\"NA\",\"NA\",\"NA\",\"NA\",\"NA\",\"NA\",\"NA\",\"NA\",\"NA\",\"NA\",\"NA\",\"NA\",\"NA\",\"NA\",\"NA\",\"NA\",\"NA\",\"NA\",\"NA\",\"NA\",\"NA\",\"NA\",\"NA\",\"NA\",\"NA\",\"NA\",\"NA\",\"NA\",\"NA\",\"NA\",\"NA\",\"NA\",\"NA\",\"NA\",\"NA\",\"NA\",\"NA\",\"AFR\",\"NA\",\"NA\",\"AFR\",\"NA\",\"AFR\",\"NA\",\"AFR\",\"AFR\",\"NA\",\"NA\",\"NA\",\"NA\",\"NA\",\"NA\",\"NA\",\"AFR\",\"AFR\",\"NA\",\"NA\",\"NA\",\"NA\",\"NA\",\"NA\",\"NA\",\"AFR\",\"NA\",\"NA\",\"NA\",\"NA\",\"NA\",\"NA\",\"NA\",\"NA\",\"AFR\",\"NA\",\"NA\",\"AFR\",\"NA\",\"NA\",\"AFR\",\"AFR\",\"NA\",\"AFR\",\"NA\",\"NA\",\"NA\",\"AFR\",\"NA\",\"AFR\",\"AFR\",\"NA\",\"NA\",\"AFR\",\"NA\",\"AFR\",\"NA\",\"NA\",\"NA\",\"NA\",\"AFR\",\"NA\",\"NA\",\"AFR\",\"AFR\",\"AFR\",\"AFR\",\"AFR\",\"AFR\",\"AFR\",\"AFR\",\"NA\",\"NA\",\"NA\",\"NA\",\"AFR\",\"AFR\",\"AFR\",\"NA\",\"AFR\",\"NA\",\"NA\",\"AFR\",\"NA\",\"NA\",\"NA\",\"NA\",\"AFR\",\"NA\",\"NA\",\"NA\",\"AFR\",\"NA\",\"NA\",\"NA\",\"NA\",\"AFR\",\"AFR\",\"NA\",\"NA\",\"NA\",\"NA\",\"NA\",\"NA\",\"AFR\",\"AFR\",\"NA\",\"NA\",\"AFR\",\"NA\",\"AFR\",\"AFR\",\"AFR\",\"AFR\",\"NA\",\"NA\",\"NA\",\"AFR\",\"NA\",\"NA\",\"AFR\",\"NA\",\"AFR\",\"AFR\",\"AFR\",\"AFR\",\"AFR\",\"AFR\",\"AFR\",\"NA\",\"AFR\",\"NA\",\"AFR\",\"NA\",\"NA\",\"NA\",\"AFR\",\"AFR\",\"AFR\",\"AFR\",\"NA\",\"AFR\",\"NA\",\"NA\",\"AFR\",\"NA\",\"NA\",\"NA\",\"NA\",\"NA\",\"NA\",\"NA\",\"AFR\",\"AFR\",\"AFR\",\"AFR\",\"NA\",\"AFR\",\"NA\",\"AFR\",\"NA\",\"NA\",\"NA\",\"AFR\",\"AFR\",\"NA\",\"AFR\",\"NA\",\"NA\",\"NA\",\"NA\",\"NA\",\"AFR\",\"NA\",\"NA\",\"NA\",\"AFR\",\"NA\",\"NA\",\"AFR\",\"AFR\",\"NA\",\"AFR\",\"NA\",\"NA\",\"NA\",\"NA\",\"NA\",\"NA\",\"NA\",\"NA\",\"AFR\",\"AFR\",\"NA\",\"NA\",\"NA\",\"NA\",\"NA\",\"NA\",\"AFR\",\"NA\",\"NA\",\"NA\",\"NA\",\"NA\",\"NA\",\"NA\",\"NA\",\"NA\",\"NA\",\"NA\",\"NA\",\"NA\",\"AFR\",\"NA\",\"AFR\",\"NA\",\"NA\",\"NA\",\"NA\",\"NA\",\"NA\",\"AFR\",\"NA\",\"NA\",\"NA\",\"NA\",\"NA\",\"NA\",\"NA\",\"AFR\",\"NA\",\"NA\",\"NA\",\"NA\",\"NA\",\"NA\",\"NA\",\"NA\",\"NA\",\"NA\",\"NA\",\"NA\",\"NA\",\"NA\",\"NA\",\"NA\",\"NA\",\"NA\",\"NA\",\"NA\",\"NA\",\"NA\",\"NA\",\"NA\",\"NA\",\"NA\",\"NA\",\"NA\",\"NA\",\"NA\",\"NA\",\"NA\",\"NA\",\"NA\",\"NA\",\"NA\",\"NA\",\"NA\",\"NA\",\"NA\",\"NA\",\"NA\",\"NA\",\"NA\",\"NA\",\"NA\",\"AFR\",\"NA\",\"NA\",\"NA\",\"NA\",\"NA\",\"NA\",\"NA\",\"NA\",\"NA\",\"NA\",\"NA\",\"NA\",\"NA\",\"NA\",\"NA\",\"NA\",\"NA\",\"NA\",\"NA\",\"NA\",\"NA\",\"NA\",\"NA\",\"NA\",\"NA\",\"NA\",\"NA\",\"NA\",\"NA\",\"NA\",\"NA\",\"NA\",\"NA\",\"NA\",\"NA\",\"NA\",\"NA\",\"NA\",\"NA\",\"NA\",\"NA\",\"NA\",\"NA\",\"NA\",\"NA\",\"NA\",\"AFR\",\"NA\",\"NA\",\"NA\",\"NA\",\"NA\",\"NA\",\"NA\",\"NA\",\"NA\",\"NA\",\"NA\",\"NA\",\"NA\",\"NA\",\"NA\",\"NA\",\"NA\",\"NA\",\"NA\",\"NA\",\"NA\",\"NA\",\"NA\",\"NA\",\"NA\",\"NA\",\"NA\",\"NA\",\"NA\",\"NA\",\"NA\",\"NA\",\"NA\",\"NA\",\"NA\",\"NA\",\"NA\",\"NA\",\"NA\",\"NA\",\"NA\",\"NA\",\"NA\",\"NA\",\"NA\",\"NA\",\"NA\",\"NA\",\"NA\",\"NA\",\"NA\",\"NA\",\"NA\",\"NA\",\"NA\",\"NA\"],\"x\":{\"__ndarray__\":\"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\",\"dtype\":\"float64\",\"shape\":[472]},\"y\":{\"__ndarray__\":\"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\",\"dtype\":\"float64\",\"shape\":[472]}},\"selected\":{\"id\":\"1169\",\"type\":\"Selection\"},\"selection_policy\":{\"id\":\"1170\",\"type\":\"UnionRenderers\"}},\"id\":\"1037\",\"type\":\"ColumnDataSource\"},{\"attributes\":{\"callback\":null},\"id\":\"1112\",\"type\":\"DataRange1d\"},{\"attributes\":{\"callback\":null},\"id\":\"1006\",\"type\":\"DataRange1d\"},{\"attributes\":{\"fill_alpha\":{\"value\":0.1},\"fill_color\":{\"value\":\"#1f77b4\"},\"line_alpha\":{\"value\":0.1},\"line_color\":{\"value\":\"#1f77b4\"},\"size\":{\"units\":\"screen\",\"value\":6},\"x\":{\"field\":\"x\"},\"y\":{\"field\":\"y\"}},\"id\":\"1096\",\"type\":\"Circle\"},{\"attributes\":{\"column_name\":\"label\",\"group\":\"NA\"},\"id\":\"1151\",\"type\":\"GroupFilter\"},{\"attributes\":{\"column_name\":\"label\",\"group\":\"AFR\"},\"id\":\"1039\",\"type\":\"GroupFilter\"},{\"attributes\":{\"filters\":[{\"id\":\"1151\",\"type\":\"GroupFilter\"}],\"source\":{\"id\":\"1143\",\"type\":\"ColumnDataSource\"}},\"id\":\"1152\",\"type\":\"CDSView\"},{\"attributes\":{},\"id\":\"1061\",\"type\":\"LinearScale\"},{\"attributes\":{},\"id\":\"1008\",\"type\":\"LinearScale\"},{\"attributes\":{\"fill_color\":{\"field\":\"label\",\"transform\":{\"id\":\"1144\",\"type\":\"CategoricalColorMapper\"}},\"line_color\":{\"field\":\"label\",\"transform\":{\"id\":\"1144\",\"type\":\"CategoricalColorMapper\"}},\"size\":{\"units\":\"screen\",\"value\":6},\"x\":{\"field\":\"x\"},\"y\":{\"field\":\"y\"}},\"id\":\"1154\",\"type\":\"Circle\"},{\"attributes\":{\"overlay\":{\"id\":\"1168\",\"type\":\"BoxAnnotation\"}},\"id\":\"1024\",\"type\":\"BoxZoomTool\"},{\"attributes\":{},\"id\":\"1010\",\"type\":\"LinearScale\"},{\"attributes\":{\"label\":{\"value\":\"AFR\"},\"renderers\":[{\"id\":\"1097\",\"type\":\"GlyphRenderer\"}]},\"id\":\"1104\",\"type\":\"LegendItem\"},{\"attributes\":{\"factors\":[\"AFR\",\"NA\"],\"palette\":[\"#1f77b4\",\"#ff7f0e\",\"#2ca02c\",\"#d62728\",\"#9467bd\",\"#8c564b\",\"#e377c2\",\"#7f7f7f\",\"#bcbd22\",\"#17becf\"]},\"id\":\"1038\",\"type\":\"CategoricalColorMapper\"},{\"attributes\":{\"below\":[{\"id\":\"1118\",\"type\":\"LinearAxis\"}],\"center\":[{\"id\":\"1122\",\"type\":\"Grid\"},{\"id\":\"1127\",\"type\":\"Grid\"}],\"left\":[{\"id\":\"1123\",\"type\":\"LinearAxis\"},{\"id\":\"1159\",\"type\":\"Legend\"},{\"id\":\"1160\",\"type\":\"ColorBar\"}],\"plot_height\":800,\"plot_width\":800,\"renderers\":[{\"id\":\"1150\",\"type\":\"GlyphRenderer\"},{\"id\":\"1156\",\"type\":\"GlyphRenderer\"}],\"title\":null,\"toolbar\":{\"id\":\"1134\",\"type\":\"Toolbar\"},\"toolbar_location\":null,\"x_range\":{\"id\":\"1110\",\"type\":\"DataRange1d\"},\"x_scale\":{\"id\":\"1114\",\"type\":\"LinearScale\"},\"y_range\":{\"id\":\"1112\",\"type\":\"DataRange1d\"},\"y_scale\":{\"id\":\"1116\",\"type\":\"LinearScale\"}},\"id\":\"1108\",\"subtype\":\"Figure\",\"type\":\"Plot\"},{\"attributes\":{\"column_name\":\"label\",\"group\":\"NA\"},\"id\":\"1045\",\"type\":\"GroupFilter\"},{\"attributes\":{\"axis_label\":\"PC1\",\"formatter\":{\"id\":\"1163\",\"type\":\"BasicTickFormatter\"},\"ticker\":{\"id\":\"1013\",\"type\":\"BasicTicker\"}},\"id\":\"1012\",\"type\":\"LinearAxis\"},{\"attributes\":{\"label\":{\"value\":\"AFR\"},\"renderers\":[{\"id\":\"1150\",\"type\":\"GlyphRenderer\"}]},\"id\":\"1157\",\"type\":\"LegendItem\"},{\"attributes\":{\"toolbar\":{\"id\":\"1195\",\"type\":\"ProxyToolbar\"},\"toolbar_location\":\"above\"},\"id\":\"1196\",\"type\":\"ToolbarBox\"},{\"attributes\":{\"data_source\":{\"id\":\"1090\",\"type\":\"ColumnDataSource\"},\"glyph\":{\"id\":\"1095\",\"type\":\"Circle\"},\"hover_glyph\":null,\"muted_glyph\":null,\"nonselection_glyph\":{\"id\":\"1096\",\"type\":\"Circle\"},\"selection_glyph\":null,\"view\":{\"id\":\"1093\",\"type\":\"CDSView\"}},\"id\":\"1097\",\"type\":\"GlyphRenderer\"},{\"attributes\":{\"fill_color\":{\"field\":\"label\",\"transform\":{\"id\":\"1038\",\"type\":\"CategoricalColorMapper\"}},\"line_color\":{\"field\":\"label\",\"transform\":{\"id\":\"1038\",\"type\":\"CategoricalColorMapper\"}},\"size\":{\"units\":\"screen\",\"value\":6},\"x\":{\"field\":\"x\"},\"y\":{\"field\":\"y\"}},\"id\":\"1042\",\"type\":\"Circle\"},{\"attributes\":{\"filters\":[{\"id\":\"1039\",\"type\":\"GroupFilter\"}],\"source\":{\"id\":\"1037\",\"type\":\"ColumnDataSource\"}},\"id\":\"1040\",\"type\":\"CDSView\"},{\"attributes\":{\"ticker\":{\"id\":\"1013\",\"type\":\"BasicTicker\"}},\"id\":\"1016\",\"type\":\"Grid\"}],\"root_ids\":[\"1197\"]},\"title\":\"Bokeh Application\",\"version\":\"1.4.0\"}};\n",
       "  var render_items = [{\"docid\":\"893b6ce4-8aa4-437b-9cc2-418316e822a8\",\"roots\":{\"1197\":\"d6a192a4-3fa7-4ff3-b387-d7672ac799b7\"}}];\n",
       "  root.Bokeh.embed.embed_items_notebook(docs_json, render_items);\n",
       "\n",
       "  }\n",
       "  if (root.Bokeh !== undefined) {\n",
       "    embed_document(root);\n",
       "  } else {\n",
       "    var attempts = 0;\n",
       "    var timer = setInterval(function(root) {\n",
       "      if (root.Bokeh !== undefined) {\n",
       "        clearInterval(timer);\n",
       "        embed_document(root);\n",
       "      } else {\n",
       "        attempts++;\n",
       "        if (attempts > 100) {\n",
       "          clearInterval(timer);\n",
       "          console.log(\"Bokeh: ERROR: Unable to run BokehJS code because BokehJS library is missing\");\n",
       "        }\n",
       "      }\n",
       "    }, 10, root)\n",
       "  }\n",
       "})(window);"
      ],
      "application/vnd.bokehjs_exec.v0+json": ""
     },
     "metadata": {
      "application/vnd.bokehjs_exec.v0+json": {
       "id": "1197"
      }
     },
     "output_type": "display_data"
    }
   ],
   "source": [
    "p1 = hl.plot.scatter(ht.PC1, ht.PC2, xlabel='PC1', ylabel='PC2', label=ht.pheno.super_population, size=6)\n",
    "p2 = hl.plot.scatter(ht.PC1, ht.PC3, xlabel='PC1', ylabel='PC3', label=ht.pheno.super_population, size=6)\n",
    "p3 = hl.plot.scatter(ht.PC2, ht.PC4, xlabel='PC2', ylabel='PC4', label=ht.pheno.super_population, size=6)\n",
    "\n",
    "show(bokeh.layouts.gridplot([[p1], [p2], [p3]]))"
   ]
  },
  {
   "cell_type": "code",
   "execution_count": 32,
   "id": "2632dc43-184c-4074-8950-f57de85509a5",
   "metadata": {},
   "outputs": [],
   "source": [
    "# Perform pc_project\n",
    "path_to_mgrb = \"file:///directflow/ClinicalGenomicsPipeline/dev/2021-02-04-PIPELINE-1885-All-Hail/EricData/mgrb/1000_samples.mt\"\n",
    "MGRB_mt = hl.read_matrix_table(path_to_mgrb)"
   ]
  },
  {
   "cell_type": "code",
   "execution_count": 26,
   "id": "b526dadf-f9f2-463b-bf44-e8198b540e75",
   "metadata": {},
   "outputs": [
    {
     "name": "stdout",
     "output_type": "stream",
     "text": [
      "----------------------------------------\n",
      "Global fields:\n",
      "    None\n",
      "----------------------------------------\n",
      "Column fields:\n",
      "    's': str\n",
      "----------------------------------------\n",
      "Row fields:\n",
      "    'locus': locus<GRCh38>\n",
      "    'alleles': array<str>\n",
      "    'rsid': str\n",
      "----------------------------------------\n",
      "Entry fields:\n",
      "    'LA': array<int32>\n",
      "    'LGT': call\n",
      "    'LAD': array<int32>\n",
      "    'LPGT': call\n",
      "    'LPL': array<int32>\n",
      "    'RGQ': int32\n",
      "    'END': int32\n",
      "    'gvcf_info': struct {\n",
      "        AC: array<int32>, \n",
      "        AF: array<float64>, \n",
      "        AN: int32, \n",
      "        AS_BaseQRankSum: array<float64>, \n",
      "        AS_FS: array<float64>, \n",
      "        AS_InbreedingCoeff: array<float64>, \n",
      "        AS_MQ: array<float64>, \n",
      "        AS_MQRankSum: array<float64>, \n",
      "        AS_QD: array<float64>, \n",
      "        AS_QUALapprox: array<int32>, \n",
      "        AS_RAW_BaseQRankSum: str, \n",
      "        AS_RAW_MQ: array<float64>, \n",
      "        AS_RAW_MQRankSum: array<tuple (\n",
      "            float64, \n",
      "            int32\n",
      "        )>, \n",
      "        AS_RAW_ReadPosRankSum: array<tuple (\n",
      "            float64, \n",
      "            int32\n",
      "        )>, \n",
      "        AS_ReadPosRankSum: array<float64>, \n",
      "        AS_SB_TABLE: array<array<int32>>, \n",
      "        AS_SOR: array<float64>, \n",
      "        AS_VarDP: array<int32>, \n",
      "        BaseQRankSum: float64, \n",
      "        DS: bool, \n",
      "        ExcessHet: float64, \n",
      "        FS: float64, \n",
      "        InbreedingCoeff: float64, \n",
      "        MQ: float64, \n",
      "        MQRankSum: float64, \n",
      "        MQ_DP: int32, \n",
      "        QD: float64, \n",
      "        QUALapprox: int32, \n",
      "        RAW_GT_COUNT: array<int32>, \n",
      "        RAW_MQandDP: array<int32>, \n",
      "        ReadPosRankSum: float64, \n",
      "        SOR: float64, \n",
      "        VarDP: int32\n",
      "    }\n",
      "    'DP': int32\n",
      "    'GQ': int32\n",
      "    'MIN_DP': int32\n",
      "    'PID': str\n",
      "    'PS': int32\n",
      "    'SB': array<int32>\n",
      "----------------------------------------\n",
      "Column key: ['s']\n",
      "Row key: ['locus', 'alleles']\n",
      "----------------------------------------\n"
     ]
    }
   ],
   "source": [
    "# Might have to use MGRB_mt.LGT or use lgt_to_gt\n",
    "MGRB_mt.describe() \n",
    "#GT = hl.experimental.lgt_to_gt(TOB_mt.LGT, TOB_mt.LA)"
   ]
  },
  {
   "cell_type": "code",
   "execution_count": 33,
   "id": "09a6b66e-4379-4fcc-989f-4240d964ae4c",
   "metadata": {},
   "outputs": [
    {
     "name": "stderr",
     "output_type": "stream",
     "text": [
      "2022-02-10 09:43:22 Hail: WARN: cols(): Resulting column table is sorted by 'col_key'.\n",
      "    To preserve matrix table column order, first unkey columns with 'key_cols_by()'\n"
     ]
    }
   ],
   "source": [
    "ht = hl.experimental.pc_project(MGRB_mt.LGT, pca_loadings.loadings, pca_loadings.af)"
   ]
  },
  {
   "cell_type": "code",
   "execution_count": 35,
   "id": "fe179228-e419-4bf6-9783-1a765b3d1d5f",
   "metadata": {},
   "outputs": [
    {
     "name": "stderr",
     "output_type": "stream",
     "text": [
      "2022-02-10 11:41:00 Hail: INFO: Coerced sorted dataset         (249 + 75) / 424]\n"
     ]
    },
    {
     "data": {
      "text/html": [
       "<table><thead><tr><td style=\"white-space: nowrap; max-width: 500px; overflow: hidden; text-overflow: ellipsis; \" colspan=\"1\"><div style=\"text-align: left;\"></div></td><td style=\"white-space: nowrap; max-width: 500px; overflow: hidden; text-overflow: ellipsis; \" colspan=\"1\"><div style=\"text-align: left;\"></div></td></tr><tr><td style=\"white-space: nowrap; max-width: 500px; overflow: hidden; text-overflow: ellipsis; \" colspan=\"1\"><div style=\"text-align: left;border-bottom: solid 2px #000; padding-bottom: 5px\">s</div></td><td style=\"white-space: nowrap; max-width: 500px; overflow: hidden; text-overflow: ellipsis; \" colspan=\"1\"><div style=\"text-align: left;border-bottom: solid 2px #000; padding-bottom: 5px\"><expr></div></td></tr><tr><td style=\"white-space: nowrap; max-width: 500px; overflow: hidden; text-overflow: ellipsis; text-align: left;\">str</td><td style=\"white-space: nowrap; max-width: 500px; overflow: hidden; text-overflow: ellipsis; text-align: left;\">float64</td></tr>\n",
       "</thead><tbody><tr><td style=\"white-space: nowrap; max-width: 500px; overflow: hidden; text-overflow: ellipsis; \">&quot;AAAAB&quot;</td><td style=\"white-space: nowrap; max-width: 500px; overflow: hidden; text-overflow: ellipsis; \">-9.37e-02</td></tr>\n",
       "<tr><td style=\"white-space: nowrap; max-width: 500px; overflow: hidden; text-overflow: ellipsis; \">&quot;AAAAF&quot;</td><td style=\"white-space: nowrap; max-width: 500px; overflow: hidden; text-overflow: ellipsis; \">-9.63e-02</td></tr>\n",
       "<tr><td style=\"white-space: nowrap; max-width: 500px; overflow: hidden; text-overflow: ellipsis; \">&quot;AAAAI&quot;</td><td style=\"white-space: nowrap; max-width: 500px; overflow: hidden; text-overflow: ellipsis; \">-9.50e-02</td></tr>\n",
       "<tr><td style=\"white-space: nowrap; max-width: 500px; overflow: hidden; text-overflow: ellipsis; \">&quot;AAAAL&quot;</td><td style=\"white-space: nowrap; max-width: 500px; overflow: hidden; text-overflow: ellipsis; \">-9.71e-02</td></tr>\n",
       "<tr><td style=\"white-space: nowrap; max-width: 500px; overflow: hidden; text-overflow: ellipsis; \">&quot;AAAAO&quot;</td><td style=\"white-space: nowrap; max-width: 500px; overflow: hidden; text-overflow: ellipsis; \">-9.57e-02</td></tr>\n",
       "<tr><td style=\"white-space: nowrap; max-width: 500px; overflow: hidden; text-overflow: ellipsis; \">&quot;AAAAQ&quot;</td><td style=\"white-space: nowrap; max-width: 500px; overflow: hidden; text-overflow: ellipsis; \">-9.67e-02</td></tr>\n",
       "<tr><td style=\"white-space: nowrap; max-width: 500px; overflow: hidden; text-overflow: ellipsis; \">&quot;AAAAV&quot;</td><td style=\"white-space: nowrap; max-width: 500px; overflow: hidden; text-overflow: ellipsis; \">-9.59e-02</td></tr>\n",
       "<tr><td style=\"white-space: nowrap; max-width: 500px; overflow: hidden; text-overflow: ellipsis; \">&quot;AAABA&quot;</td><td style=\"white-space: nowrap; max-width: 500px; overflow: hidden; text-overflow: ellipsis; \">-9.49e-02</td></tr>\n",
       "<tr><td style=\"white-space: nowrap; max-width: 500px; overflow: hidden; text-overflow: ellipsis; \">&quot;AAABD&quot;</td><td style=\"white-space: nowrap; max-width: 500px; overflow: hidden; text-overflow: ellipsis; \">-9.46e-02</td></tr>\n",
       "<tr><td style=\"white-space: nowrap; max-width: 500px; overflow: hidden; text-overflow: ellipsis; \">&quot;AAABM&quot;</td><td style=\"white-space: nowrap; max-width: 500px; overflow: hidden; text-overflow: ellipsis; \">-9.63e-02</td></tr>\n",
       "</tbody></table><p style=\"background: #fdd; padding: 0.4em;\">showing top 10 rows</p>\n"
      ],
      "text/plain": [
       "+---------+-----------+\n",
       "| s       |    <expr> |\n",
       "+---------+-----------+\n",
       "| str     |   float64 |\n",
       "+---------+-----------+\n",
       "| \"AAAAB\" | -9.37e-02 |\n",
       "| \"AAAAF\" | -9.63e-02 |\n",
       "| \"AAAAI\" | -9.50e-02 |\n",
       "| \"AAAAL\" | -9.71e-02 |\n",
       "| \"AAAAO\" | -9.57e-02 |\n",
       "| \"AAAAQ\" | -9.67e-02 |\n",
       "| \"AAAAV\" | -9.59e-02 |\n",
       "| \"AAABA\" | -9.49e-02 |\n",
       "| \"AAABD\" | -9.46e-02 |\n",
       "| \"AAABM\" | -9.63e-02 |\n",
       "+---------+-----------+\n",
       "showing top 10 rows"
      ]
     },
     "metadata": {},
     "output_type": "display_data"
    }
   ],
   "source": [
    "# Check number of samples from MGRB\n",
    "ht.scores[0].show()"
   ]
  },
  {
   "cell_type": "code",
   "execution_count": null,
   "id": "08eaedec-fa17-4386-82f0-0083b99eccf6",
   "metadata": {},
   "outputs": [],
   "source": [
    "# Check number of samples from 1kGhg38\n",
    "pca_scores.scores[0].count()"
   ]
  },
  {
   "cell_type": "code",
   "execution_count": 37,
   "id": "b83aec87-6555-4bef-b7cc-231e1abdbe35",
   "metadata": {},
   "outputs": [],
   "source": [
    "plot_data = ht.select(PC1=ht.scores[0],\n",
    "                       PC2=ht.scores[1],\n",
    "                       PC3=ht.scores[2],\n",
    "                       PC4=ht.scores[3])\n",
    "plot_data = plot_data.annotate(pheno = sa[plot_data.s])"
   ]
  },
  {
   "cell_type": "code",
   "execution_count": 46,
   "id": "3a346acf-f14d-4f03-a19a-75224be79c16",
   "metadata": {},
   "outputs": [
    {
     "name": "stderr",
     "output_type": "stream",
     "text": [
      "2022-02-10 06:09:21 Hail: INFO: Coerced sorted dataset==>      (368 + 56) / 424]\n",
      "2022-02-10 06:09:21 Hail: INFO: Coerced sorted dataset\n"
     ]
    },
    {
     "data": {
      "text/html": [
       "\n",
       "\n",
       "\n",
       "\n",
       "\n",
       "\n",
       "  <div class=\"bk-root\" id=\"2a0646da-e0cc-4b47-8221-e4896437a4c9\" data-root-id=\"2717\"></div>\n"
      ]
     },
     "metadata": {},
     "output_type": "display_data"
    },
    {
     "data": {
      "application/javascript": [
       "(function(root) {\n",
       "  function embed_document(root) {\n",
       "    \n",
       "  var docs_json = {\"524f6a5a-7445-4d77-84c8-7e535d6798de\":{\"roots\":{\"references\":[{\"attributes\":{\"below\":[{\"id\":\"2727\",\"type\":\"LinearAxis\"}],\"center\":[{\"id\":\"2731\",\"type\":\"Grid\"},{\"id\":\"2736\",\"type\":\"Grid\"}],\"left\":[{\"id\":\"2732\",\"type\":\"LinearAxis\"},{\"id\":\"2761\",\"type\":\"Legend\"},{\"id\":\"2762\",\"type\":\"ColorBar\"}],\"plot_height\":800,\"plot_width\":800,\"renderers\":[{\"id\":\"2759\",\"type\":\"GlyphRenderer\"}],\"title\":null,\"toolbar\":{\"id\":\"2743\",\"type\":\"Toolbar\"},\"x_range\":{\"id\":\"2719\",\"type\":\"DataRange1d\"},\"x_scale\":{\"id\":\"2723\",\"type\":\"LinearScale\"},\"y_range\":{\"id\":\"2721\",\"type\":\"DataRange1d\"},\"y_scale\":{\"id\":\"2725\",\"type\":\"LinearScale\"}},\"id\":\"2717\",\"subtype\":\"Figure\",\"type\":\"Plot\"},{\"attributes\":{\"fill_alpha\":{\"value\":0.1},\"fill_color\":{\"value\":\"#1f77b4\"},\"line_alpha\":{\"value\":0.1},\"line_color\":{\"value\":\"#1f77b4\"},\"size\":{\"units\":\"screen\",\"value\":6},\"x\":{\"field\":\"x\"},\"y\":{\"field\":\"y\"}},\"id\":\"2758\",\"type\":\"Circle\"},{\"attributes\":{},\"id\":\"2723\",\"type\":\"LinearScale\"},{\"attributes\":{},\"id\":\"2895\",\"type\":\"BasicTickFormatter\"},{\"attributes\":{\"click_policy\":\"hide\",\"items\":[{\"id\":\"2760\",\"type\":\"LegendItem\"}]},\"id\":\"2761\",\"type\":\"Legend\"},{\"attributes\":{},\"id\":\"2742\",\"type\":\"HelpTool\"},{\"attributes\":{},\"id\":\"2902\",\"type\":\"UnionRenderers\"},{\"attributes\":{\"active_drag\":\"auto\",\"active_inspect\":\"auto\",\"active_multi\":null,\"active_scroll\":\"auto\",\"active_tap\":\"auto\",\"tools\":[{\"id\":\"2737\",\"type\":\"PanTool\"},{\"id\":\"2738\",\"type\":\"WheelZoomTool\"},{\"id\":\"2739\",\"type\":\"BoxZoomTool\"},{\"id\":\"2740\",\"type\":\"SaveTool\"},{\"id\":\"2741\",\"type\":\"ResetTool\"},{\"id\":\"2742\",\"type\":\"HelpTool\"},{\"id\":\"2751\",\"type\":\"HoverTool\"}]},\"id\":\"2743\",\"type\":\"Toolbar\"},{\"attributes\":{\"callback\":null,\"tooltips\":[[\"x\",\"@x\"],[\"y\",\"@y\"],[\"label\",\"@label\"]]},\"id\":\"2751\",\"type\":\"HoverTool\"},{\"attributes\":{\"factors\":[\"NA\"],\"palette\":[\"#1f77b4\",\"#ff7f0e\",\"#2ca02c\",\"#d62728\",\"#9467bd\",\"#8c564b\",\"#e377c2\",\"#7f7f7f\",\"#bcbd22\",\"#17becf\"]},\"id\":\"2753\",\"type\":\"CategoricalColorMapper\"},{\"attributes\":{},\"id\":\"2899\",\"type\":\"BasicTickFormatter\"},{\"attributes\":{\"axis_label\":\"PC1\",\"formatter\":{\"id\":\"2895\",\"type\":\"BasicTickFormatter\"},\"ticker\":{\"id\":\"2728\",\"type\":\"BasicTicker\"}},\"id\":\"2727\",\"type\":\"LinearAxis\"},{\"attributes\":{\"color_mapper\":null,\"formatter\":{\"id\":\"2899\",\"type\":\"BasicTickFormatter\"},\"ticker\":{\"id\":\"2898\",\"type\":\"BasicTicker\"},\"visible\":false},\"id\":\"2762\",\"type\":\"ColorBar\"},{\"attributes\":{},\"id\":\"2733\",\"type\":\"BasicTicker\"},{\"attributes\":{\"fill_color\":{\"field\":\"label\",\"transform\":{\"id\":\"2753\",\"type\":\"CategoricalColorMapper\"}},\"line_color\":{\"field\":\"label\",\"transform\":{\"id\":\"2753\",\"type\":\"CategoricalColorMapper\"}},\"size\":{\"units\":\"screen\",\"value\":6},\"x\":{\"field\":\"x\"},\"y\":{\"field\":\"y\"}},\"id\":\"2757\",\"type\":\"Circle\"},{\"attributes\":{\"callback\":null},\"id\":\"2721\",\"type\":\"DataRange1d\"},{\"attributes\":{},\"id\":\"2737\",\"type\":\"PanTool\"},{\"attributes\":{\"callback\":null},\"id\":\"2719\",\"type\":\"DataRange1d\"},{\"attributes\":{\"label\":{\"value\":\"NA\"},\"renderers\":[{\"id\":\"2759\",\"type\":\"GlyphRenderer\"}]},\"id\":\"2760\",\"type\":\"LegendItem\"},{\"attributes\":{\"data_source\":{\"id\":\"2752\",\"type\":\"ColumnDataSource\"},\"glyph\":{\"id\":\"2757\",\"type\":\"Circle\"},\"hover_glyph\":null,\"muted_glyph\":null,\"nonselection_glyph\":{\"id\":\"2758\",\"type\":\"Circle\"},\"selection_glyph\":null,\"view\":{\"id\":\"2755\",\"type\":\"CDSView\"}},\"id\":\"2759\",\"type\":\"GlyphRenderer\"},{\"attributes\":{\"ticker\":{\"id\":\"2728\",\"type\":\"BasicTicker\"}},\"id\":\"2731\",\"type\":\"Grid\"},{\"attributes\":{\"dimension\":1,\"ticker\":{\"id\":\"2733\",\"type\":\"BasicTicker\"}},\"id\":\"2736\",\"type\":\"Grid\"},{\"attributes\":{},\"id\":\"2728\",\"type\":\"BasicTicker\"},{\"attributes\":{},\"id\":\"2738\",\"type\":\"WheelZoomTool\"},{\"attributes\":{},\"id\":\"2741\",\"type\":\"ResetTool\"},{\"attributes\":{\"callback\":null,\"data\":{\"index\":[0,1,2,3,4,5,6,7,8,9,10,11,12,13,14,15,16,17,18,19,20,21,22,23,24,25,26,27,28,29,30,31,32,33,34,35,36,37,38,39,40,41,42,43,44,45,46,47,48,49,50,51,52,53,54,55,56,57,58,59,60,61,62,63,64,65,66,67,68,69,70,71,72,73,74,75,76,77,78,79,80,81,82,83,84,85,86,87,88,89,90,91,92,93,94,95,96,97,98,99,100,101,102,103,104,105,106,107,108,109,110,111,112,113,114,115,116,117,118,119,120,121,122,123,124,125,126,127,128,129,130,131,132,133,134,135,136,137,138,139,140,141,142,143,144,145,146,147,148,149,150,151,152,153,154,155,156,157,158,159,160,161,162,163,164,165,166,167,168,169,170,171,172,173,174,175,176,177,178,179,180,181,182,183,184,185,186,187,188,189,190,191,192,193,194,195,196,197,198,199,200,201,202,203,204,205,206,207,208,209,210,211,212,213,214,215,216,217,218,219,220,221,222,223,224,225,226,227,228,229,230,231,232,233,234,235,236,237,238,239,240,241,242,243,244,245,246,247,248,249,250,251,252,253,254,255,256,257,258,259,260,261,262,263,264,265,266,267,268,269,270,271,272,273,274,275,276,277,278,279,280,281,282,283,284,285,286,287,288,289,290,291,292,293,294,295,296,297,298,299,300,301,302,303,304,305,306,307,308,309,310,311,312,313,314,315,316,317,318,319,320,321,322,323,324,325,326,327,328,329,330,331,332,333,334,335,336,337,338,339,340,341,342,343,344,345,346,347,348,349,350,351,352,353,354,355,356,357,358,359,360,361,362,363,364,365,366,367,368,369,370,371,372,373,374,375,376,377,378,379,380,381,382,383,384,385,386,387,388,389,390,391,392,393,394,395,396,397,398,399,400,401,402,403,404,405,406,407,408,409,410,411,412,413,414,415,416,417,418,419,420,421,422,423,424,425,426,427,428,429,430,431,432,433,434,435,436,437,438,439,440,441,442,443,444,445,446,447,448,449,450,451,452,453,454,455,456,457,458,459,460,461,462,463,464,465,466,467,468,469,470,471,472,473,474,475,476,477,478,479,480,481,482,483,484,485,486,487,488,489,490,491,492,493,494,495,496,497,498,499,500,501,502,503,504,505,506,507,508,509,510,511,512,513,514,515,516,517,518,519,520,521,522,523,524,525,526,527,528,529,530,531,532,533,534,535,536,537,538,539,540,541,542,543,544,545,546,547,548,549,550,551,552,553,554,555,556,557,558,559,560,561,562,563,564,565,566,567,568,569,570,571,572,573,574,575,576,577,578,579,580,581,582,583,584,585,586,587,588,589,590,591,592,593,594,595,596,597,598,599,600,601,602,603,604,605,606,607,608,609,610,611,612,613,614,615,616,617,618,619,620,621,622,623,624,625,626,627,628,629,630,631,632,633,634,635,636,637,638,639,640,641,642,643,644,645,646,647,648,649,650,651,652,653,654,655,656,657,658,659,660,661,662,663,664,665,666,667,668,669,670,671,672,673,674,675,676,677,678,679,680,681,682,683,684,685,686,687,688,689,690,691,692,693,694,695,696,697,698,699,700,701,702,703,704,705,706,707,708,709,710,711,712,713,714,715,716,717,718,719,720,721,722,723,724,725,726,727,728,729,730,731,732,733,734,735,736,737,738,739,740,741,742,743,744,745,746,747,748,749,750,751,752,753,754,755,756,757,758,759,760,761,762,763,764,765,766,767,768,769,770,771,772,773,774,775,776,777,778,779,780,781],\"label\":[\"NA\",\"NA\",\"NA\",\"NA\",\"NA\",\"NA\",\"NA\",\"NA\",\"NA\",\"NA\",\"NA\",\"NA\",\"NA\",\"NA\",\"NA\",\"NA\",\"NA\",\"NA\",\"NA\",\"NA\",\"NA\",\"NA\",\"NA\",\"NA\",\"NA\",\"NA\",\"NA\",\"NA\",\"NA\",\"NA\",\"NA\",\"NA\",\"NA\",\"NA\",\"NA\",\"NA\",\"NA\",\"NA\",\"NA\",\"NA\",\"NA\",\"NA\",\"NA\",\"NA\",\"NA\",\"NA\",\"NA\",\"NA\",\"NA\",\"NA\",\"NA\",\"NA\",\"NA\",\"NA\",\"NA\",\"NA\",\"NA\",\"NA\",\"NA\",\"NA\",\"NA\",\"NA\",\"NA\",\"NA\",\"NA\",\"NA\",\"NA\",\"NA\",\"NA\",\"NA\",\"NA\",\"NA\",\"NA\",\"NA\",\"NA\",\"NA\",\"NA\",\"NA\",\"NA\",\"NA\",\"NA\",\"NA\",\"NA\",\"NA\",\"NA\",\"NA\",\"NA\",\"NA\",\"NA\",\"NA\",\"NA\",\"NA\",\"NA\",\"NA\",\"NA\",\"NA\",\"NA\",\"NA\",\"NA\",\"NA\",\"NA\",\"NA\",\"NA\",\"NA\",\"NA\",\"NA\",\"NA\",\"NA\",\"NA\",\"NA\",\"NA\",\"NA\",\"NA\",\"NA\",\"NA\",\"NA\",\"NA\",\"NA\",\"NA\",\"NA\",\"NA\",\"NA\",\"NA\",\"NA\",\"NA\",\"NA\",\"NA\",\"NA\",\"NA\",\"NA\",\"NA\",\"NA\",\"NA\",\"NA\",\"NA\",\"NA\",\"NA\",\"NA\",\"NA\",\"NA\",\"NA\",\"NA\",\"NA\",\"NA\",\"NA\",\"NA\",\"NA\",\"NA\",\"NA\",\"NA\",\"NA\",\"NA\",\"NA\",\"NA\",\"NA\",\"NA\",\"NA\",\"NA\",\"NA\",\"NA\",\"NA\",\"NA\",\"NA\",\"NA\",\"NA\",\"NA\",\"NA\",\"NA\",\"NA\",\"NA\",\"NA\",\"NA\",\"NA\",\"NA\",\"NA\",\"NA\",\"NA\",\"NA\",\"NA\",\"NA\",\"NA\",\"NA\",\"NA\",\"NA\",\"NA\",\"NA\",\"NA\",\"NA\",\"NA\",\"NA\",\"NA\",\"NA\",\"NA\",\"NA\",\"NA\",\"NA\",\"NA\",\"NA\",\"NA\",\"NA\",\"NA\",\"NA\",\"NA\",\"NA\",\"NA\",\"NA\",\"NA\",\"NA\",\"NA\",\"NA\",\"NA\",\"NA\",\"NA\",\"NA\",\"NA\",\"NA\",\"NA\",\"NA\",\"NA\",\"NA\",\"NA\",\"NA\",\"NA\",\"NA\",\"NA\",\"NA\",\"NA\",\"NA\",\"NA\",\"NA\",\"NA\",\"NA\",\"NA\",\"NA\",\"NA\",\"NA\",\"NA\",\"NA\",\"NA\",\"NA\",\"NA\",\"NA\",\"NA\",\"NA\",\"NA\",\"NA\",\"NA\",\"NA\",\"NA\",\"NA\",\"NA\",\"NA\",\"NA\",\"NA\",\"NA\",\"NA\",\"NA\",\"NA\",\"NA\",\"NA\",\"NA\",\"NA\",\"NA\",\"NA\",\"NA\",\"NA\",\"NA\",\"NA\",\"NA\",\"NA\",\"NA\",\"NA\",\"NA\",\"NA\",\"NA\",\"NA\",\"NA\",\"NA\",\"NA\",\"NA\",\"NA\",\"NA\",\"NA\",\"NA\",\"NA\",\"NA\",\"NA\",\"NA\",\"NA\",\"NA\",\"NA\",\"NA\",\"NA\",\"NA\",\"NA\",\"NA\",\"NA\",\"NA\",\"NA\",\"NA\",\"NA\",\"NA\",\"NA\",\"NA\",\"NA\",\"NA\",\"NA\",\"NA\",\"NA\",\"NA\",\"NA\",\"NA\",\"NA\",\"NA\",\"NA\",\"NA\",\"NA\",\"NA\",\"NA\",\"NA\",\"NA\",\"NA\",\"NA\",\"NA\",\"NA\",\"NA\",\"NA\",\"NA\",\"NA\",\"NA\",\"NA\",\"NA\",\"NA\",\"NA\",\"NA\",\"NA\",\"NA\",\"NA\",\"NA\",\"NA\",\"NA\",\"NA\",\"NA\",\"NA\",\"NA\",\"NA\",\"NA\",\"NA\",\"NA\",\"NA\",\"NA\",\"NA\",\"NA\",\"NA\",\"NA\",\"NA\",\"NA\",\"NA\",\"NA\",\"NA\",\"NA\",\"NA\",\"NA\",\"NA\",\"NA\",\"NA\",\"NA\",\"NA\",\"NA\",\"NA\",\"NA\",\"NA\",\"NA\",\"NA\",\"NA\",\"NA\",\"NA\",\"NA\",\"NA\",\"NA\",\"NA\",\"NA\",\"NA\",\"NA\",\"NA\",\"NA\",\"NA\",\"NA\",\"NA\",\"NA\",\"NA\",\"NA\",\"NA\",\"NA\",\"NA\",\"NA\",\"NA\",\"NA\",\"NA\",\"NA\",\"NA\",\"NA\",\"NA\",\"NA\",\"NA\",\"NA\",\"NA\",\"NA\",\"NA\",\"NA\",\"NA\",\"NA\",\"NA\",\"NA\",\"NA\",\"NA\",\"NA\",\"NA\",\"NA\",\"NA\",\"NA\",\"NA\",\"NA\",\"NA\",\"NA\",\"NA\",\"NA\",\"NA\",\"NA\",\"NA\",\"NA\",\"NA\",\"NA\",\"NA\",\"NA\",\"NA\",\"NA\",\"NA\",\"NA\",\"NA\",\"NA\",\"NA\",\"NA\",\"NA\",\"NA\",\"NA\",\"NA\",\"NA\",\"NA\",\"NA\",\"NA\",\"NA\",\"NA\",\"NA\",\"NA\",\"NA\",\"NA\",\"NA\",\"NA\",\"NA\",\"NA\",\"NA\",\"NA\",\"NA\",\"NA\",\"NA\",\"NA\",\"NA\",\"NA\",\"NA\",\"NA\",\"NA\",\"NA\",\"NA\",\"NA\",\"NA\",\"NA\",\"NA\",\"NA\",\"NA\",\"NA\",\"NA\",\"NA\",\"NA\",\"NA\",\"NA\",\"NA\",\"NA\",\"NA\",\"NA\",\"NA\",\"NA\",\"NA\",\"NA\",\"NA\",\"NA\",\"NA\",\"NA\",\"NA\",\"NA\",\"NA\",\"NA\",\"NA\",\"NA\",\"NA\",\"NA\",\"NA\",\"NA\",\"NA\",\"NA\",\"NA\",\"NA\",\"NA\",\"NA\",\"NA\",\"NA\",\"NA\",\"NA\",\"NA\",\"NA\",\"NA\",\"NA\",\"NA\",\"NA\",\"NA\",\"NA\",\"NA\",\"NA\",\"NA\",\"NA\",\"NA\",\"NA\",\"NA\",\"NA\",\"NA\",\"NA\",\"NA\",\"NA\",\"NA\",\"NA\",\"NA\",\"NA\",\"NA\",\"NA\",\"NA\",\"NA\",\"NA\",\"NA\",\"NA\",\"NA\",\"NA\",\"NA\",\"NA\",\"NA\",\"NA\",\"NA\",\"NA\",\"NA\",\"NA\",\"NA\",\"NA\",\"NA\",\"NA\",\"NA\",\"NA\",\"NA\",\"NA\",\"NA\",\"NA\",\"NA\",\"NA\",\"NA\",\"NA\",\"NA\",\"NA\",\"NA\",\"NA\",\"NA\",\"NA\",\"NA\",\"NA\",\"NA\",\"NA\",\"NA\",\"NA\",\"NA\",\"NA\",\"NA\",\"NA\",\"NA\",\"NA\",\"NA\",\"NA\",\"NA\",\"NA\",\"NA\",\"NA\",\"NA\",\"NA\",\"NA\",\"NA\",\"NA\",\"NA\",\"NA\",\"NA\",\"NA\",\"NA\",\"NA\",\"NA\",\"NA\",\"NA\",\"NA\",\"NA\",\"NA\",\"NA\",\"NA\",\"NA\",\"NA\",\"NA\",\"NA\",\"NA\",\"NA\",\"NA\",\"NA\",\"NA\",\"NA\",\"NA\",\"NA\",\"NA\",\"NA\",\"NA\",\"NA\",\"NA\",\"NA\",\"NA\",\"NA\",\"NA\",\"NA\",\"NA\",\"NA\",\"NA\",\"NA\",\"NA\",\"NA\",\"NA\",\"NA\",\"NA\",\"NA\",\"NA\",\"NA\",\"NA\",\"NA\",\"NA\",\"NA\",\"NA\",\"NA\",\"NA\",\"NA\",\"NA\",\"NA\",\"NA\",\"NA\",\"NA\",\"NA\",\"NA\",\"NA\",\"NA\",\"NA\",\"NA\",\"NA\",\"NA\",\"NA\",\"NA\",\"NA\",\"NA\",\"NA\",\"NA\",\"NA\",\"NA\",\"NA\",\"NA\",\"NA\",\"NA\",\"NA\",\"NA\",\"NA\",\"NA\",\"NA\",\"NA\",\"NA\",\"NA\",\"NA\",\"NA\",\"NA\",\"NA\",\"NA\",\"NA\",\"NA\",\"NA\",\"NA\",\"NA\",\"NA\",\"NA\",\"NA\",\"NA\",\"NA\",\"NA\",\"NA\",\"NA\",\"NA\",\"NA\",\"NA\",\"NA\",\"NA\",\"NA\",\"NA\",\"NA\",\"NA\",\"NA\",\"NA\",\"NA\",\"NA\",\"NA\",\"NA\",\"NA\",\"NA\",\"NA\",\"NA\",\"NA\",\"NA\",\"NA\",\"NA\",\"NA\",\"NA\",\"NA\",\"NA\",\"NA\",\"NA\",\"NA\",\"NA\",\"NA\",\"NA\",\"NA\",\"NA\",\"NA\",\"NA\",\"NA\",\"NA\",\"NA\",\"NA\",\"NA\",\"NA\",\"NA\",\"NA\",\"NA\",\"NA\",\"NA\",\"NA\",\"NA\",\"NA\",\"NA\",\"NA\",\"NA\",\"NA\",\"NA\",\"NA\",\"NA\",\"NA\",\"NA\",\"NA\",\"NA\",\"NA\",\"NA\",\"NA\",\"NA\",\"NA\",\"NA\",\"NA\",\"NA\",\"NA\",\"NA\",\"NA\"],\"x\":{\"__ndarray__\":\"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\",\"dtype\":\"float64\",\"shape\":[782]},\"y\":{\"__ndarray__\":\"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\",\"dtype\":\"float64\",\"shape\":[782]}},\"selected\":{\"id\":\"2901\",\"type\":\"Selection\"},\"selection_policy\":{\"id\":\"2902\",\"type\":\"UnionRenderers\"}},\"id\":\"2752\",\"type\":\"ColumnDataSource\"},{\"attributes\":{\"bottom_units\":\"screen\",\"fill_alpha\":{\"value\":0.5},\"fill_color\":{\"value\":\"lightgrey\"},\"left_units\":\"screen\",\"level\":\"overlay\",\"line_alpha\":{\"value\":1.0},\"line_color\":{\"value\":\"black\"},\"line_dash\":[4,4],\"line_width\":{\"value\":2},\"render_mode\":\"css\",\"right_units\":\"screen\",\"top_units\":\"screen\"},\"id\":\"2900\",\"type\":\"BoxAnnotation\"},{\"attributes\":{},\"id\":\"2725\",\"type\":\"LinearScale\"},{\"attributes\":{\"filters\":[{\"id\":\"2754\",\"type\":\"GroupFilter\"}],\"source\":{\"id\":\"2752\",\"type\":\"ColumnDataSource\"}},\"id\":\"2755\",\"type\":\"CDSView\"},{\"attributes\":{},\"id\":\"2740\",\"type\":\"SaveTool\"},{\"attributes\":{\"column_name\":\"label\",\"group\":\"NA\"},\"id\":\"2754\",\"type\":\"GroupFilter\"},{\"attributes\":{\"axis_label\":\"PC2\",\"formatter\":{\"id\":\"2897\",\"type\":\"BasicTickFormatter\"},\"ticker\":{\"id\":\"2733\",\"type\":\"BasicTicker\"}},\"id\":\"2732\",\"type\":\"LinearAxis\"},{\"attributes\":{},\"id\":\"2898\",\"type\":\"BasicTicker\"},{\"attributes\":{},\"id\":\"2901\",\"type\":\"Selection\"},{\"attributes\":{},\"id\":\"2897\",\"type\":\"BasicTickFormatter\"},{\"attributes\":{\"overlay\":{\"id\":\"2900\",\"type\":\"BoxAnnotation\"}},\"id\":\"2739\",\"type\":\"BoxZoomTool\"}],\"root_ids\":[\"2717\"]},\"title\":\"Bokeh Application\",\"version\":\"1.4.0\"}};\n",
       "  var render_items = [{\"docid\":\"524f6a5a-7445-4d77-84c8-7e535d6798de\",\"roots\":{\"2717\":\"2a0646da-e0cc-4b47-8221-e4896437a4c9\"}}];\n",
       "  root.Bokeh.embed.embed_items_notebook(docs_json, render_items);\n",
       "\n",
       "  }\n",
       "  if (root.Bokeh !== undefined) {\n",
       "    embed_document(root);\n",
       "  } else {\n",
       "    var attempts = 0;\n",
       "    var timer = setInterval(function(root) {\n",
       "      if (root.Bokeh !== undefined) {\n",
       "        clearInterval(timer);\n",
       "        embed_document(root);\n",
       "      } else {\n",
       "        attempts++;\n",
       "        if (attempts > 100) {\n",
       "          clearInterval(timer);\n",
       "          console.log(\"Bokeh: ERROR: Unable to run BokehJS code because BokehJS library is missing\");\n",
       "        }\n",
       "      }\n",
       "    }, 10, root)\n",
       "  }\n",
       "})(window);"
      ],
      "application/vnd.bokehjs_exec.v0+json": ""
     },
     "metadata": {
      "application/vnd.bokehjs_exec.v0+json": {
       "id": "2717"
      }
     },
     "output_type": "display_data"
    }
   ],
   "source": [
    "p1 = hl.plot.scatter(plot_data.PC1, plot_data.PC2, xlabel='PC1', ylabel='PC2', label=plot_data.pheno.super_population, size=6)\n",
    "show(p1)"
   ]
  },
  {
   "cell_type": "code",
   "execution_count": 37,
   "id": "8d3546b5-3c26-48b4-861e-ebf83a32f57d",
   "metadata": {},
   "outputs": [],
   "source": [
    "ten_samples = \"file:///directflow/ClinicalGenomicsPipeline/dev/2021-02-04-PIPELINE-1885-All-Hail/EricData/mgrb/10_samples.mt\"\n",
    "ten_mt = hl.read_matrix_table(ten_samples)"
   ]
  },
  {
   "cell_type": "code",
   "execution_count": 38,
   "id": "5433e18d-45cc-4e73-93c8-b7e3b38459f5",
   "metadata": {},
   "outputs": [],
   "source": [
    "fifty_samples = \"file:///directflow/ClinicalGenomicsPipeline/dev/2021-02-04-PIPELINE-1885-All-Hail/EricData/mgrb/50_samples.mt\"\n",
    "fifty_mt = hl.read_matrix_table(fifty_samples)"
   ]
  },
  {
   "cell_type": "code",
   "execution_count": 39,
   "id": "4b02fce1-946f-47ad-b29b-c753d3ad080d",
   "metadata": {},
   "outputs": [
    {
     "ename": "ValueError",
     "evalue": "'MatrixTable.union_rows' expects all datasets to have the same columns. Datasets 0 and 1 have different columns (or possibly different order).",
     "output_type": "error",
     "traceback": [
      "\u001b[0;31m---------------------------------------------------------------------------\u001b[0m",
      "\u001b[0;31mValueError\u001b[0m                                Traceback (most recent call last)",
      "\u001b[0;32m/tmp/ipykernel_15145/3202389478.py\u001b[0m in \u001b[0;36m<module>\u001b[0;34m\u001b[0m\n\u001b[0;32m----> 1\u001b[0;31m \u001b[0mjoin_result\u001b[0m \u001b[0;34m=\u001b[0m \u001b[0mten_mt\u001b[0m\u001b[0;34m.\u001b[0m\u001b[0munion_rows\u001b[0m\u001b[0;34m(\u001b[0m\u001b[0mfifty_mt\u001b[0m\u001b[0;34m)\u001b[0m\u001b[0;34m\u001b[0m\u001b[0;34m\u001b[0m\u001b[0m\n\u001b[0m",
      "\u001b[0;32m<decorator-gen-1270>\u001b[0m in \u001b[0;36munion_rows\u001b[0;34m(_check_cols, *datasets)\u001b[0m\n",
      "\u001b[0;32m~/submit/python37_intel/lib/python3.7/site-packages/hail/typecheck/check.py\u001b[0m in \u001b[0;36mwrapper\u001b[0;34m(__original_func, *args, **kwargs)\u001b[0m\n\u001b[1;32m    575\u001b[0m     \u001b[0;32mdef\u001b[0m \u001b[0mwrapper\u001b[0m\u001b[0;34m(\u001b[0m\u001b[0m__original_func\u001b[0m\u001b[0;34m,\u001b[0m \u001b[0;34m*\u001b[0m\u001b[0margs\u001b[0m\u001b[0;34m,\u001b[0m \u001b[0;34m**\u001b[0m\u001b[0mkwargs\u001b[0m\u001b[0;34m)\u001b[0m\u001b[0;34m:\u001b[0m\u001b[0;34m\u001b[0m\u001b[0;34m\u001b[0m\u001b[0m\n\u001b[1;32m    576\u001b[0m         \u001b[0margs_\u001b[0m\u001b[0;34m,\u001b[0m \u001b[0mkwargs_\u001b[0m \u001b[0;34m=\u001b[0m \u001b[0mcheck_all\u001b[0m\u001b[0;34m(\u001b[0m\u001b[0m__original_func\u001b[0m\u001b[0;34m,\u001b[0m \u001b[0margs\u001b[0m\u001b[0;34m,\u001b[0m \u001b[0mkwargs\u001b[0m\u001b[0;34m,\u001b[0m \u001b[0mcheckers\u001b[0m\u001b[0;34m,\u001b[0m \u001b[0mis_method\u001b[0m\u001b[0;34m=\u001b[0m\u001b[0mis_method\u001b[0m\u001b[0;34m)\u001b[0m\u001b[0;34m\u001b[0m\u001b[0;34m\u001b[0m\u001b[0m\n\u001b[0;32m--> 577\u001b[0;31m         \u001b[0;32mreturn\u001b[0m \u001b[0m__original_func\u001b[0m\u001b[0;34m(\u001b[0m\u001b[0;34m*\u001b[0m\u001b[0margs_\u001b[0m\u001b[0;34m,\u001b[0m \u001b[0;34m**\u001b[0m\u001b[0mkwargs_\u001b[0m\u001b[0;34m)\u001b[0m\u001b[0;34m\u001b[0m\u001b[0;34m\u001b[0m\u001b[0m\n\u001b[0m\u001b[1;32m    578\u001b[0m \u001b[0;34m\u001b[0m\u001b[0m\n\u001b[1;32m    579\u001b[0m     \u001b[0;32mreturn\u001b[0m \u001b[0mwrapper\u001b[0m\u001b[0;34m\u001b[0m\u001b[0;34m\u001b[0m\u001b[0m\n",
      "\u001b[0;32m~/submit/python37_intel/lib/python3.7/site-packages/hail/matrixtable.py\u001b[0m in \u001b[0;36munion_rows\u001b[0;34m(_check_cols, *datasets)\u001b[0m\n\u001b[1;32m   3591\u001b[0m                     .find(lambda x: ~(x[1] == first_keys))[0])))\n\u001b[1;32m   3592\u001b[0m                 \u001b[0;32mif\u001b[0m \u001b[0mwrong_keys\u001b[0m \u001b[0;32mis\u001b[0m \u001b[0;32mnot\u001b[0m \u001b[0;32mNone\u001b[0m\u001b[0;34m:\u001b[0m\u001b[0;34m\u001b[0m\u001b[0;34m\u001b[0m\u001b[0m\n\u001b[0;32m-> 3593\u001b[0;31m                     raise ValueError(f\"'MatrixTable.union_rows' expects all datasets to have the same columns. \"\n\u001b[0m\u001b[1;32m   3594\u001b[0m                                      f\"Datasets 0 and {wrong_keys + 1} have different columns (or possibly different order).\")\n\u001b[1;32m   3595\u001b[0m             \u001b[0;32mreturn\u001b[0m \u001b[0mMatrixTable\u001b[0m\u001b[0;34m(\u001b[0m\u001b[0mir\u001b[0m\u001b[0;34m.\u001b[0m\u001b[0mMatrixUnionRows\u001b[0m\u001b[0;34m(\u001b[0m\u001b[0;34m*\u001b[0m\u001b[0;34m[\u001b[0m\u001b[0md\u001b[0m\u001b[0;34m.\u001b[0m\u001b[0m_mir\u001b[0m \u001b[0;32mfor\u001b[0m \u001b[0md\u001b[0m \u001b[0;32min\u001b[0m \u001b[0mdatasets\u001b[0m\u001b[0;34m]\u001b[0m\u001b[0;34m)\u001b[0m\u001b[0;34m)\u001b[0m\u001b[0;34m\u001b[0m\u001b[0;34m\u001b[0m\u001b[0m\n",
      "\u001b[0;31mValueError\u001b[0m: 'MatrixTable.union_rows' expects all datasets to have the same columns. Datasets 0 and 1 have different columns (or possibly different order)."
     ]
    }
   ],
   "source": [
    "join_result = ten_mt.union_cols(fifty_mt)"
   ]
  },
  {
   "cell_type": "code",
   "execution_count": 41,
   "id": "a0f9ca65-68dc-4eef-9d11-b293de8e2424",
   "metadata": {},
   "outputs": [
    {
     "name": "stderr",
     "output_type": "stream",
     "text": [
      "[Stage 263:==================================================>(2585 + 1) / 2586]\r"
     ]
    },
    {
     "data": {
      "text/plain": [
       "(172747621, 150)"
      ]
     },
     "execution_count": 41,
     "metadata": {},
     "output_type": "execute_result"
    }
   ],
   "source": [
    "join_result.count()"
   ]
  },
  {
   "cell_type": "code",
   "execution_count": 42,
   "id": "22d9ad9d-91d6-4d4a-8ac9-af221b038a30",
   "metadata": {},
   "outputs": [
    {
     "data": {
      "text/plain": [
       "(279847813, 100)"
      ]
     },
     "execution_count": 42,
     "metadata": {},
     "output_type": "execute_result"
    }
   ],
   "source": [
    "ten_mt.count()"
   ]
  },
  {
   "cell_type": "code",
   "execution_count": 43,
   "id": "2850c095-234e-456b-8a42-925942f2e86d",
   "metadata": {},
   "outputs": [
    {
     "data": {
      "text/plain": [
       "(175377406, 50)"
      ]
     },
     "execution_count": 43,
     "metadata": {},
     "output_type": "execute_result"
    }
   ],
   "source": [
    "fifty_mt.count()"
   ]
  },
  {
   "cell_type": "code",
   "execution_count": null,
   "id": "188bd834-bd42-41c2-95ca-ff63fbf8f3a3",
   "metadata": {},
   "outputs": [],
   "source": []
  }
 ],
 "metadata": {
  "kernelspec": {
   "display_name": "Python 3 (ipykernel)",
   "language": "python",
   "name": "python3"
  },
  "language_info": {
   "codemirror_mode": {
    "name": "ipython",
    "version": 3
   },
   "file_extension": ".py",
   "mimetype": "text/x-python",
   "name": "python",
   "nbconvert_exporter": "python",
   "pygments_lexer": "ipython3",
   "version": "3.7.9"
  }
 },
 "nbformat": 4,
 "nbformat_minor": 5
}
