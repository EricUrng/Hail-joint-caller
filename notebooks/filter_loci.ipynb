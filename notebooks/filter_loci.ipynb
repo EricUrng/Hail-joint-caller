{
 "cells": [
  {
   "cell_type": "code",
   "execution_count": 1,
   "id": "4eacbb1e-0850-4f8e-b6ea-c065c00eb98d",
   "metadata": {},
   "outputs": [
    {
     "name": "stderr",
     "output_type": "stream",
     "text": [
      "SLF4J: Class path contains multiple SLF4J bindings.\n",
      "SLF4J: Found binding in [jar:file:/home/eriurn/submit/python37_intel/lib/python3.7/site-packages/pyspark/jars/slf4j-log4j12-1.7.30.jar!/org/slf4j/impl/StaticLoggerBinder.class]\n",
      "SLF4J: Found binding in [jar:file:/usr/hdp/3.1.0.0-78/hadoop/lib/slf4j-log4j12-1.7.25.jar!/org/slf4j/impl/StaticLoggerBinder.class]\n",
      "SLF4J: See http://www.slf4j.org/codes.html#multiple_bindings for an explanation.\n",
      "SLF4J: Actual binding is of type [org.slf4j.impl.Log4jLoggerFactory]\n",
      "Setting default log level to \"WARN\".\n",
      "To adjust logging level use sc.setLogLevel(newLevel). For SparkR, use setLogLevel(newLevel).\n"
     ]
    },
    {
     "name": "stdout",
     "output_type": "stream",
     "text": [
      "2022-03-09 14:09:34 WARN  Hail:43 - This Hail JAR was compiled for Spark 3.1.1, running with Spark 3.1.2.\n",
      "  Compatibility is not guaranteed.\n",
      "2022-03-09 14:09:36 WARN  Client:69 - Neither spark.yarn.jars nor spark.yarn.archive is set, falling back to uploading libraries under SPARK_HOME.\n"
     ]
    },
    {
     "name": "stderr",
     "output_type": "stream",
     "text": [
      "Running on Apache Spark version 3.1.2\n",
      "SparkUI available at http://brenner-fpga-mlx.mlx:4040\n",
      "Welcome to\n",
      "     __  __     <>__\n",
      "    / /_/ /__  __/ /\n",
      "   / __  / _ `/ / /\n",
      "  /_/ /_/\\_,_/_/_/   version 0.2.68-13190f0b6103\n",
      "LOGGING: writing to /home/eriurn/Hail-joint-caller/notebooks/hail-20220309-1409-0.2.68-13190f0b6103.log\n"
     ]
    }
   ],
   "source": [
    "import hail as hl\n",
    "hl.init(app_name=\"loci filtering\")"
   ]
  },
  {
   "cell_type": "code",
   "execution_count": 3,
   "id": "969e1c81-f0e4-40af-9b67-6141e3a59bd8",
   "metadata": {},
   "outputs": [
    {
     "name": "stderr",
     "output_type": "stream",
     "text": [
      "2022-03-09 14:11:13 Hail: INFO: Reading table without type imputation\n",
      "  Loading field 'f0' as type str (user-supplied)\n",
      "  Loading field 'f1' as type int32 (user-supplied)\n",
      "  Loading field 'f2' as type int32 (user-supplied)\n"
     ]
    }
   ],
   "source": [
    "interval_list = \"file:///directflow/ClinicalGenomicsPipeline/dev/2021-02-04-PIPELINE-1885-All-Hail/EricData/Glucoma/interval.list\"\n",
    "interval_table = hl.import_locus_intervals(interval_list, reference_genome='GRCh38')"
   ]
  },
  {
   "cell_type": "code",
   "execution_count": 5,
   "id": "ce8539c2-2c80-48c0-acc1-4c598bdc83fa",
   "metadata": {},
   "outputs": [],
   "source": [
    "mt_path = \"file:///directflow/ClinicalGenomicsPipeline/dev/2021-02-04-PIPELINE-1885-All-Hail/EricData/Glucoma/gvcf_WES.combined.VQSR.final.mt/\"\n",
    "mt = hl.read_matrix_table(mt_path)"
   ]
  },
  {
   "cell_type": "code",
   "execution_count": 6,
   "id": "03d66155-e05e-4643-8a48-47101ff40883",
   "metadata": {},
   "outputs": [],
   "source": [
    "filtered_mt = mt.filter_rows(hl.is_defined(interval_table[mt.locus]))"
   ]
  },
  {
   "cell_type": "code",
   "execution_count": 7,
   "id": "2fc17d2d-cb2f-47fc-bee4-d65507663329",
   "metadata": {},
   "outputs": [
    {
     "name": "stderr",
     "output_type": "stream",
     "text": [
      "2022-03-09 14:12:18 Hail: INFO: Coerced sorted dataset              (0 + 1) / 1]\n",
      "[Stage 4:====================================================>(2256 + 1) / 2257]\r"
     ]
    },
    {
     "data": {
      "text/plain": [
       "(29133130, 2540)"
      ]
     },
     "execution_count": 7,
     "metadata": {},
     "output_type": "execute_result"
    }
   ],
   "source": [
    "filtered_mt.count()"
   ]
  },
  {
   "cell_type": "code",
   "execution_count": 8,
   "id": "1fb7fddf-bc34-4316-a92b-7d2a97d83e51",
   "metadata": {},
   "outputs": [
    {
     "data": {
      "text/plain": [
       "(322686163, 2540)"
      ]
     },
     "execution_count": 8,
     "metadata": {},
     "output_type": "execute_result"
    }
   ],
   "source": [
    "mt.count()"
   ]
  },
  {
   "cell_type": "code",
   "execution_count": 10,
   "id": "5340392c-870c-4919-acb2-1ece6ff0dc33",
   "metadata": {},
   "outputs": [
    {
     "name": "stderr",
     "output_type": "stream",
     "text": [
      "2022-03-09 14:15:34 Hail: INFO: Coerced sorted dataset              (0 + 1) / 1]\n",
      "2022-03-09 14:17:01 Hail: INFO: wrote matrix table with 29133130 rows and 2540 columns in 2257 partitions to file:///directflow/ClinicalGenomicsPipeline/dev/2021-02-04-PIPELINE-1885-All-Hail/EricData/Glucoma/gvcf_WES.combined.VQSR.filtered.final.mt/\n",
      "    Total size: 9.28 GiB\n",
      "    * Rows/entries: 9.28 GiB\n",
      "    * Columns: 10.66 KiB\n",
      "    * Globals: 11.00 B\n",
      "    * Smallest partition: 0 rows (20.00 B)\n",
      "    * Largest partition:  6013 rows (32.34 MiB)\n"
     ]
    }
   ],
   "source": [
    "filtered_output_path = \"file:///directflow/ClinicalGenomicsPipeline/dev/2021-02-04-PIPELINE-1885-All-Hail/EricData/Glucoma/gvcf_WES.combined.VQSR.filtered.final.mt/\"\n",
    "filtered_mt.write(filtered_output_path,overwrite=True)"
   ]
  },
  {
   "cell_type": "code",
   "execution_count": null,
   "id": "f7d4a53d-14ce-43d1-adb6-9020ddcf4758",
   "metadata": {},
   "outputs": [],
   "source": []
  }
 ],
 "metadata": {
  "kernelspec": {
   "display_name": "Python 3 (ipykernel)",
   "language": "python",
   "name": "python3"
  },
  "language_info": {
   "codemirror_mode": {
    "name": "ipython",
    "version": 3
   },
   "file_extension": ".py",
   "mimetype": "text/x-python",
   "name": "python",
   "nbconvert_exporter": "python",
   "pygments_lexer": "ipython3",
   "version": "3.7.9"
  }
 },
 "nbformat": 4,
 "nbformat_minor": 5
}
