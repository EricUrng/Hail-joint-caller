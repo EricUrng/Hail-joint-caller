{
 "cells": [
  {
   "cell_type": "code",
   "execution_count": 1,
   "id": "4e2edef5-3720-4f91-8451-faf03d8b404c",
   "metadata": {},
   "outputs": [
    {
     "name": "stderr",
     "output_type": "stream",
     "text": [
      "SLF4J: Class path contains multiple SLF4J bindings.\n",
      "SLF4J: Found binding in [jar:file:/home/eriurn/submit/python37_intel/lib/python3.7/site-packages/pyspark/jars/slf4j-log4j12-1.7.30.jar!/org/slf4j/impl/StaticLoggerBinder.class]\n",
      "SLF4J: Found binding in [jar:file:/usr/hdp/3.1.0.0-78/hadoop/lib/slf4j-log4j12-1.7.25.jar!/org/slf4j/impl/StaticLoggerBinder.class]\n",
      "SLF4J: See http://www.slf4j.org/codes.html#multiple_bindings for an explanation.\n",
      "SLF4J: Actual binding is of type [org.slf4j.impl.Log4jLoggerFactory]\n",
      "Setting default log level to \"WARN\".\n",
      "To adjust logging level use sc.setLogLevel(newLevel). For SparkR, use setLogLevel(newLevel).\n"
     ]
    },
    {
     "name": "stdout",
     "output_type": "stream",
     "text": [
      "2022-03-07 14:50:13 WARN  Hail:43 - This Hail JAR was compiled for Spark 3.1.1, running with Spark 3.1.2.\n",
      "  Compatibility is not guaranteed.\n",
      "2022-03-07 14:50:14 WARN  Utils:69 - Service 'SparkUI' could not bind on port 4040. Attempting port 4041.\n",
      "2022-03-07 14:50:15 WARN  Client:69 - Neither spark.yarn.jars nor spark.yarn.archive is set, falling back to uploading libraries under SPARK_HOME.\n"
     ]
    },
    {
     "name": "stderr",
     "output_type": "stream",
     "text": [
      "Running on Apache Spark version 3.1.2\n",
      "SparkUI available at http://brenner-fpga-mlx.mlx:4041\n",
      "Welcome to\n",
      "     __  __     <>__\n",
      "    / /_/ /__  __/ /\n",
      "   / __  / _ `/ / /\n",
      "  /_/ /_/\\_,_/_/_/   version 0.2.68-13190f0b6103\n",
      "LOGGING: writing to /home/eriurn/Hail-joint-caller/notebooks/hail-20220307-1450-0.2.68-13190f0b6103.log\n"
     ]
    }
   ],
   "source": [
    "import hail as hl\n",
    "hl.init(app_name = \"remove_dups\")"
   ]
  },
  {
   "cell_type": "code",
   "execution_count": 43,
   "id": "f6cc928d-29fb-4202-a2ea-350640e94b68",
   "metadata": {},
   "outputs": [],
   "source": [
    "mt = hl.read_matrix_table(\"file:///directflow/ClinicalGenomicsPipeline/dev/2021-02-04-PIPELINE-1885-All-Hail/EricData/Glucoma/gvcf_WES.combined.final.mt/\")"
   ]
  },
  {
   "cell_type": "code",
   "execution_count": null,
   "id": "cfc50e0f-a350-4822-b388-b29b340a30e5",
   "metadata": {},
   "outputs": [
    {
     "name": "stderr",
     "output_type": "stream",
     "text": [
      "2022-03-07 16:18:06 Hail: INFO: Wrote all 78781 blocks of 322686163 x 2559 matrix with block size 4096.\n",
      "2022-03-07 16:46:56 Hail: INFO: Wrote all 78781 blocks of 322686163 x 2559 matrix with block size 4096.\n",
      "2022-03-07 17:20:38 Hail: INFO: Wrote all 78781 blocks of 322686163 x 2559 matrix with block size 4096.\n",
      "2022-03-07 17:47:01 Hail: INFO: Wrote all 78781 blocks of 322686163 x 2559 matrix with block size 4096.\n",
      "2022-03-07 23:07:46 Hail: INFO: wrote matrix with 2559 rows and 2559 columns as 1 block of size 4096 to /tmp/bcSsmO6ZN0wrx3LpNUA14M\n",
      "[Stage 40:>                                                         (0 + 1) / 1]\r"
     ]
    }
   ],
   "source": [
    "kinship = hl.king(mt.LGT)"
   ]
  },
  {
   "cell_type": "code",
   "execution_count": null,
   "id": "86e9f803-089e-4d76-80cd-8bff48b4519f",
   "metadata": {},
   "outputs": [],
   "source": [
    "pwd"
   ]
  },
  {
   "cell_type": "code",
   "execution_count": null,
   "id": "0b319564-b966-4051-864d-d12ea38ca4a7",
   "metadata": {},
   "outputs": [],
   "source": []
  }
 ],
 "metadata": {
  "kernelspec": {
   "display_name": "Python 3 (ipykernel)",
   "language": "python",
   "name": "python3"
  },
  "language_info": {
   "codemirror_mode": {
    "name": "ipython",
    "version": 3
   },
   "file_extension": ".py",
   "mimetype": "text/x-python",
   "name": "python",
   "nbconvert_exporter": "python",
   "pygments_lexer": "ipython3",
   "version": "3.7.9"
  }
 },
 "nbformat": 4,
 "nbformat_minor": 5
}
