{
 "cells": [
  {
   "cell_type": "code",
   "execution_count": null,
   "id": "9b74a24f-fb4f-4e89-8ea4-d296cd50379e",
   "metadata": {},
   "outputs": [],
   "source": [
    "import hail as hl\n",
    "hl.init(app_name=\"filter_mt\")"
   ]
  },
  {
   "cell_type": "code",
   "execution_count": null,
   "id": "9eb2dc5b-6596-47e1-92a2-9f8a84fec0fd",
   "metadata": {},
   "outputs": [],
   "source": [
    "pwd"
   ]
  },
  {
   "cell_type": "code",
   "execution_count": null,
   "id": "3cbc3f54-f531-470b-aeb6-bcb9e3709097",
   "metadata": {},
   "outputs": [],
   "source": [
    "# Import mt which was run through VQSR\n",
    "VQSR_path = \"file:///directflow/ClinicalGenomicsPipeline/dev/2021-02-04-PIPELINE-1885-All-Hail/EricData/vqsr_finalised.mt/\"\n",
    "mt = hl.read_matrix_table(VQSR_path)"
   ]
  },
  {
   "cell_type": "code",
   "execution_count": null,
   "id": "f82fb919-4dcd-43c3-8c14-c21ca27927f0",
   "metadata": {},
   "outputs": [],
   "source": [
    "# We split using this function since the combiner outputs a sparse matrix table\n",
    "mt = hl.experimental.sparse_split_multi(mt)"
   ]
  },
  {
   "cell_type": "code",
   "execution_count": null,
   "id": "526eb0bd-b555-4500-866e-97524c9356af",
   "metadata": {},
   "outputs": [],
   "source": [
    "# Filter out rows with less than 10 DP\n",
    "# Rows with missing values are removed regardless of keep\n",
    "mt = mt.filter_rows(mt.info.DP > 10, keep=True)"
   ]
  },
  {
   "cell_type": "code",
   "execution_count": null,
   "id": "f83c1036-0f2f-4677-a78b-d04fc94cd3e7",
   "metadata": {},
   "outputs": [],
   "source": [
    "# Filter by PASS status\n",
    "mt = mt.filter_rows(mt.filters == {\"PASS\"})"
   ]
  },
  {
   "cell_type": "code",
   "execution_count": null,
   "id": "85e9b051-6b98-4df6-b0da-618d43685bc0",
   "metadata": {},
   "outputs": [],
   "source": [
    "# Filter by Q values greater than 90\n",
    "mt = mt.filter_rows(mt.info.QUALapprox > 90)"
   ]
  },
  {
   "cell_type": "code",
   "execution_count": null,
   "id": "51f5cc52-7103-4c01-b35d-85d292047499",
   "metadata": {},
   "outputs": [],
   "source": [
    "# Hardy-Weinberg equilibrium greater than 0.001\n",
    "mt = mt.annotate_rows(hwe = hl.agg.hardy_weinberg_test(mt.GT))\n",
    "mt = mt.filter_rows(mt.hwe.p_value > 0.001)"
   ]
  },
  {
   "cell_type": "code",
   "execution_count": null,
   "id": "1746104e-ee32-4bed-afbd-7eee759b67e0",
   "metadata": {},
   "outputs": [],
   "source": [
    "mt = hl.variant_qc(mt,name=\"variant_qc\")"
   ]
  },
  {
   "cell_type": "code",
   "execution_count": null,
   "id": "055581ed-dc15-4b05-934b-23882463a8f9",
   "metadata": {},
   "outputs": [],
   "source": [
    "mt = mt.filter_rows(mt.variant_qc.call_rate > 0.9)"
   ]
  },
  {
   "cell_type": "code",
   "execution_count": null,
   "id": "a42143ce-b19c-4069-bf4a-b0a2943603b1",
   "metadata": {},
   "outputs": [],
   "source": [
    "mt.count()"
   ]
  },
  {
   "cell_type": "code",
   "execution_count": null,
   "id": "ae3703a9-a159-450d-9de6-783fbdd07b07",
   "metadata": {},
   "outputs": [],
   "source": [
    "output_path = \"file:///directflow/ClinicalGenomicsPipeline/dev/2021-02-04-PIPELINE-1885-All-Hail/EricData/vqsr_finalised.filtered.mt\"\n",
    "mt.write(output_path)"
   ]
  },
  {
   "cell_type": "code",
   "execution_count": null,
   "id": "682765c0-8e56-4e34-a945-0f363d8e6913",
   "metadata": {},
   "outputs": [],
   "source": []
  }
 ],
 "metadata": {
  "kernelspec": {
   "display_name": "Python 3 (ipykernel)",
   "language": "python",
   "name": "python3"
  },
  "language_info": {
   "codemirror_mode": {
    "name": "ipython",
    "version": 3
   },
   "file_extension": ".py",
   "mimetype": "text/x-python",
   "name": "python",
   "nbconvert_exporter": "python",
   "pygments_lexer": "ipython3",
   "version": "3.7.9"
  }
 },
 "nbformat": 4,
 "nbformat_minor": 5
}
