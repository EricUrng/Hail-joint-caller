{
 "cells": [
  {
   "cell_type": "code",
   "execution_count": 1,
   "id": "2926d7f2-11a9-4f1d-8d5d-67e6f48378ac",
   "metadata": {},
   "outputs": [
    {
     "name": "stderr",
     "output_type": "stream",
     "text": [
      "SLF4J: Class path contains multiple SLF4J bindings.\n",
      "SLF4J: Found binding in [jar:file:/home/eriurn/submit/python37_intel/lib/python3.7/site-packages/pyspark/jars/slf4j-log4j12-1.7.30.jar!/org/slf4j/impl/StaticLoggerBinder.class]\n",
      "SLF4J: Found binding in [jar:file:/usr/hdp/3.1.0.0-78/hadoop/lib/slf4j-log4j12-1.7.25.jar!/org/slf4j/impl/StaticLoggerBinder.class]\n",
      "SLF4J: See http://www.slf4j.org/codes.html#multiple_bindings for an explanation.\n",
      "SLF4J: Actual binding is of type [org.slf4j.impl.Log4jLoggerFactory]\n",
      "Setting default log level to \"WARN\".\n",
      "To adjust logging level use sc.setLogLevel(newLevel). For SparkR, use setLogLevel(newLevel).\n"
     ]
    },
    {
     "name": "stdout",
     "output_type": "stream",
     "text": [
      "2022-02-04 09:07:18 WARN  Hail:43 - This Hail JAR was compiled for Spark 3.1.1, running with Spark 3.1.2.\n",
      "  Compatibility is not guaranteed.\n",
      "2022-02-04 09:07:19 WARN  Utils:69 - Service 'SparkUI' could not bind on port 4040. Attempting port 4041.\n",
      "2022-02-04 09:07:20 WARN  Client:69 - Neither spark.yarn.jars nor spark.yarn.archive is set, falling back to uploading libraries under SPARK_HOME.\n",
      "2022-02-04 09:07:30 WARN  DataStreamer:1683 - Abandoning BP-1268015869-192.168.11.216-1641416617205:blk_1092238597_18498148\n",
      "2022-02-04 09:07:30 WARN  DataStreamer:1688 - Excluding datanode DatanodeInfoWithStorage[10.0.1.97:50010,DS-f7d113f5-c3b3-4b27-82c3-1e0cb11a4555,DISK]\n",
      "2022-02-04 09:07:31 WARN  DataStreamer:1683 - Abandoning BP-1268015869-192.168.11.216-1641416617205:blk_1092238599_18498150\n",
      "2022-02-04 09:07:31 WARN  DataStreamer:1688 - Excluding datanode DatanodeInfoWithStorage[10.0.1.97:50010,DS-f7d113f5-c3b3-4b27-82c3-1e0cb11a4555,DISK]\n"
     ]
    },
    {
     "name": "stderr",
     "output_type": "stream",
     "text": [
      "Running on Apache Spark version 3.1.2\n",
      "SparkUI available at http://dice01-mlx.mlx:4041\n",
      "Welcome to\n",
      "     __  __     <>__\n",
      "    / /_/ /__  __/ /\n",
      "   / __  / _ `/ / /\n",
      "  /_/ /_/\\_,_/_/_/   version 0.2.68-13190f0b6103\n",
      "LOGGING: writing to /home/eriurn/Hail-joint-caller/notebooks/hail-20220204-0907-0.2.68-13190f0b6103.log\n"
     ]
    }
   ],
   "source": [
    "import hail as hl\n",
    "hl.init(app_name=\"make_finalised_mt\")"
   ]
  },
  {
   "cell_type": "code",
   "execution_count": 4,
   "id": "6c997403-b4e7-4d00-990e-99dba11eb2f7",
   "metadata": {},
   "outputs": [],
   "source": [
    "# Some variables\n",
    "path_to_mt = \"file:///home/eriurn/Hail-joint-caller/data/reblock_key_alleles.mt\"\n",
    "path_to_vqsr_ht = \"file:///directflow/ClinicalGenomicsPipeline/dev/2021-02-04-PIPELINE-1885-All-Hail/EricData/VQSR.filtered.final.ht\"\n",
    "out_mt_path = \"file:////directflow/ClinicalGenomicsPipeline/dev/2021-02-04-PIPELINE-1885-All-Hail/EricData/vqsr_finalised.mt\""
   ]
  },
  {
   "cell_type": "code",
   "execution_count": 5,
   "id": "3e0708ef-f03e-432f-bf6d-26691ca1a069",
   "metadata": {},
   "outputs": [],
   "source": [
    "def annotate_vqsr(mt, vqsr_ht):\n",
    "    mt = mt.annotate_rows(**vqsr_ht[mt.row_key])\n",
    "    \n",
    "    mt = mt.annotate_rows(info=vqsr_ht[mt.row_key].info)\n",
    "    \n",
    "    mt = mt.annotate_rows(\n",
    "        filters=mt.filters.union(vqsr_ht[mt.row_key].filters),\n",
    "    )\n",
    "    \n",
    "    mt = mt.annotate_globals(**vqsr_ht.index_globals())\n",
    "    \n",
    "    return mt"
   ]
  },
  {
   "cell_type": "code",
   "execution_count": 6,
   "id": "793e0e18-0cfa-4e01-b51f-e323d2cf454e",
   "metadata": {},
   "outputs": [],
   "source": [
    "mt = hl.read_matrix_table(path_to_mt)"
   ]
  },
  {
   "cell_type": "code",
   "execution_count": 7,
   "id": "b35b1e43-40f7-4904-8490-6c4f543b7940",
   "metadata": {},
   "outputs": [],
   "source": [
    "vqsr_ht = hl.read_table(path_to_vqsr_ht)\n",
    "mt = annotate_vqsr(mt, vqsr_ht)"
   ]
  },
  {
   "cell_type": "code",
   "execution_count": 9,
   "id": "d4a01d77-fece-4372-8897-d0c813f28664",
   "metadata": {},
   "outputs": [],
   "source": [
    "for ht in [vqsr_ht]:\n",
    "    mt = mt.annotate_globals(**ht.index_globals())"
   ]
  },
  {
   "cell_type": "code",
   "execution_count": 10,
   "id": "a0cb605c-b3b2-4dfa-bcc9-aa272ba8c18c",
   "metadata": {},
   "outputs": [
    {
     "name": "stderr",
     "output_type": "stream",
     "text": [
      "2022-02-04 10:47:36 Hail: INFO: wrote matrix table with 58918284 rows and 5 columns in 2586 partitions to file:////directflow/ClinicalGenomicsPipeline/dev/2021-02-04-PIPELINE-1885-All-Hail/EricData/vqsr_finalised.mt\n",
      "    Total size: 3.58 GiB\n",
      "    * Rows/entries: 3.58 GiB\n",
      "    * Columns: 51.00 B\n",
      "    * Globals: 11.00 B\n",
      "    * Smallest partition: 0 rows (20.00 B)\n",
      "    * Largest partition:  82032 rows (11.73 MiB)\n"
     ]
    }
   ],
   "source": [
    "mt.write(out_mt_path, overwrite=True)"
   ]
  },
  {
   "cell_type": "code",
   "execution_count": null,
   "id": "d434b088-9bc1-49d2-9f85-572bd47c6671",
   "metadata": {},
   "outputs": [],
   "source": []
  },
  {
   "cell_type": "code",
   "execution_count": null,
   "id": "72a1f005-47b9-41cb-9640-7eaf90b03e91",
   "metadata": {},
   "outputs": [],
   "source": []
  },
  {
   "cell_type": "code",
   "execution_count": null,
   "id": "813d10f8-bfe0-4408-a695-0b8e13cb6668",
   "metadata": {},
   "outputs": [],
   "source": []
  }
 ],
 "metadata": {
  "kernelspec": {
   "display_name": "Python 3 (ipykernel)",
   "language": "python",
   "name": "python3"
  },
  "language_info": {
   "codemirror_mode": {
    "name": "ipython",
    "version": 3
   },
   "file_extension": ".py",
   "mimetype": "text/x-python",
   "name": "python",
   "nbconvert_exporter": "python",
   "pygments_lexer": "ipython3",
   "version": "3.7.9"
  }
 },
 "nbformat": 4,
 "nbformat_minor": 5
}
