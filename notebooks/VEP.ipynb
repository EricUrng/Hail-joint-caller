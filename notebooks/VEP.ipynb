{
 "cells": [
  {
   "cell_type": "code",
   "execution_count": null,
   "id": "5019fed9-2f10-4b5e-99cb-1da08637fc5a",
   "metadata": {},
   "outputs": [],
   "source": [
    "import hail as hl\n",
    "hl.init(app_name = \"VEP\")"
   ]
  },
  {
   "cell_type": "code",
   "execution_count": null,
   "id": "0d64c55e-50ca-4689-8cfe-51c555bb980c",
   "metadata": {},
   "outputs": [],
   "source": [
    "mt = hl.read_matrix_table(\"file:///directflow/ClinicalGenomicsPipeline/dev/2021-02-04-PIPELINE-1885-All-Hail/EricData/Glucoma/gvcf_WES.combined.VQSR.filtered.final.mt/\")"
   ]
  },
  {
   "cell_type": "code",
   "execution_count": null,
   "id": "c55887e5-3286-482d-bff2-eaa468fd703c",
   "metadata": {},
   "outputs": [],
   "source": [
    "# VEP can't handle star alleles properly, so we remove them\n",
    "ds_result = hl.filter_alleles(mt, lambda allele, i: hl.is_snp(mt.alleles[0], allele) | hl.is_indel(mt.alleles[0],allele))"
   ]
  },
  {
   "cell_type": "code",
   "execution_count": null,
   "id": "9ffb495e-4a66-4f73-8f0a-e7c96faa46e8",
   "metadata": {},
   "outputs": [],
   "source": [
    "# plugin\n",
    "config_path = \"file:///home/eriurn/vep-configuration.LOF.json\"\n",
    "VEP_mt = hl.vep(ds_result, config_path) "
   ]
  },
  {
   "cell_type": "code",
   "execution_count": null,
   "id": "c434b942-04d3-4a6b-9d5d-445cb8c0c7f0",
   "metadata": {},
   "outputs": [],
   "source": [
    "VEP_output_path = \"file:///directflow/ClinicalGenomicsPipeline/dev/2021-02-04-PIPELINE-1885-All-Hail/EricData/Glucoma/gvcf_WES.combined.VQSR.filtered.VEP.final.mt/\"\n",
    "VEP_mt.write(VEP_output_path,overwrite=True)"
   ]
  },
  {
   "cell_type": "code",
   "execution_count": null,
   "id": "e929e6c2-bb9c-4d37-ab7c-24e72541755b",
   "metadata": {},
   "outputs": [],
   "source": []
  }
 ],
 "metadata": {
  "kernelspec": {
   "display_name": "Python 3 (ipykernel)",
   "language": "python",
   "name": "python3"
  },
  "language_info": {
   "codemirror_mode": {
    "name": "ipython",
    "version": 3
   },
   "file_extension": ".py",
   "mimetype": "text/x-python",
   "name": "python",
   "nbconvert_exporter": "python",
   "pygments_lexer": "ipython3",
   "version": "3.7.9"
  }
 },
 "nbformat": 4,
 "nbformat_minor": 5
}
