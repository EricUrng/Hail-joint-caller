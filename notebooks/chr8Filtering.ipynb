{
 "cells": [
  {
   "cell_type": "code",
   "execution_count": 1,
   "id": "4b8ad3fc-4030-4edf-8f91-f72fb998d6a9",
   "metadata": {},
   "outputs": [
    {
     "name": "stderr",
     "output_type": "stream",
     "text": [
      "SLF4J: Class path contains multiple SLF4J bindings.\n",
      "SLF4J: Found binding in [jar:file:/home/shyrav/python37_intel/lib/python3.7/site-packages/pyspark/jars/slf4j-log4j12-1.7.30.jar!/org/slf4j/impl/StaticLoggerBinder.class]\n",
      "SLF4J: Found binding in [jar:file:/usr/hdp/3.1.0.0-78/hadoop/lib/slf4j-log4j12-1.7.25.jar!/org/slf4j/impl/StaticLoggerBinder.class]\n",
      "SLF4J: See http://www.slf4j.org/codes.html#multiple_bindings for an explanation.\n",
      "SLF4J: Actual binding is of type [org.slf4j.impl.Log4jLoggerFactory]\n",
      "Setting default log level to \"WARN\".\n",
      "To adjust logging level use sc.setLogLevel(newLevel). For SparkR, use setLogLevel(newLevel).\n"
     ]
    },
    {
     "name": "stdout",
     "output_type": "stream",
     "text": [
      "2022-03-21 18:35:56 WARN  Hail:43 - This Hail JAR was compiled for Spark 3.1.1, running with Spark 3.1.2.\n",
      "  Compatibility is not guaranteed.\n",
      "2022-03-21 18:35:57 WARN  Utils:69 - Service 'SparkUI' could not bind on port 4040. Attempting port 4041.\n",
      "2022-03-21 18:35:57 WARN  Utils:69 - Service 'SparkUI' could not bind on port 4041. Attempting port 4042.\n",
      "2022-03-21 18:35:57 WARN  Utils:69 - Service 'SparkUI' could not bind on port 4042. Attempting port 4043.\n",
      "2022-03-21 18:35:57 WARN  Utils:69 - Service 'SparkUI' could not bind on port 4043. Attempting port 4044.\n",
      "2022-03-21 18:35:58 WARN  Client:69 - Neither spark.yarn.jars nor spark.yarn.archive is set, falling back to uploading libraries under SPARK_HOME.\n"
     ]
    },
    {
     "name": "stderr",
     "output_type": "stream",
     "text": [
      "Running on Apache Spark version 3.1.2\n",
      "SparkUI available at http://brenner-fpga-mlx.mlx:4044\n",
      "Welcome to\n",
      "     __  __     <>__\n",
      "    / /_/ /__  __/ /\n",
      "   / __  / _ `/ / /\n",
      "  /_/ /_/\\_,_/_/_/   version 0.2.68-13190f0b6103\n",
      "LOGGING: writing to /home/shyrav/dev/Hail-joint-caller/notebooks/hail-20220321-1835-0.2.68-13190f0b6103.log\n"
     ]
    }
   ],
   "source": [
    "# Initialise Hail\n",
    "import hail as hl\n",
    "hl.init(app_name=\"AMP-PD filtering\")"
   ]
  },
  {
   "cell_type": "code",
   "execution_count": 2,
   "id": "23d9a226-085c-4fd1-95ed-1583597f5699",
   "metadata": {},
   "outputs": [],
   "source": [
    "# Read Matrix table\n",
    "mt_path = \"file:///directflow/ClinicalGenomicsPipeline/dev/2021-02-04-PIPELINE-1885-All-Hail/HailPipelinesTesting/mgrb_5_test.applyVQSR.QC.mt/\"\n",
    "mt = hl.read_matrix_table(mt_path)"
   ]
  },
  {
   "cell_type": "code",
   "execution_count": 9,
   "id": "f0645073-5d6b-4c82-83f0-b665b8a7e72b",
   "metadata": {},
   "outputs": [],
   "source": [
    "# Interval you want to filter on, more info here: https://hail.is/docs/0.2/guides/genetics.html#declaring-intervals-with-hl-parse-locus-interval\n",
    "interval = \"chr8:6300000-12800000\"\n",
    "filtered_mt = hl.filter_intervals(mt, [hl.parse_locus_interval(interval, reference_genome='GRCh38')])"
   ]
  },
  {
   "cell_type": "code",
   "execution_count": 14,
   "id": "882f1aed-958e-4e2c-a66e-0ad3fc9641a6",
   "metadata": {},
   "outputs": [],
   "source": [
    "# Extract only samples in samples file, more info here: https://hail.is/docs/0.2/hail.MatrixTable.html#hail.MatrixTable.filter_cols\n",
    "samples_file = \"/directflow/ClinicalGenomicsPipeline/dev/2021-02-04-PIPELINE-1885-All-Hail/HailPipelinesTesting/samples_to_extract.txt\"\n",
    "to_keep = set(line.strip() for line in open(samples_file))\n",
    "set_to_keep = hl.literal(to_keep)\n",
    "filtered_mt = filtered_mt.filter_cols(set_to_keep.contains(filtered_mt['s']))"
   ]
  },
  {
   "cell_type": "code",
   "execution_count": 15,
   "id": "53d3080b-0cc9-4c04-9470-b11bb3395eda",
   "metadata": {},
   "outputs": [
    {
     "name": "stderr",
     "output_type": "stream",
     "text": [
      "2022-03-21 18:41:30 Hail: INFO: wrote matrix table with 38668 rows and 2 columns in 6 partitions to file:///directflow/ClinicalGenomicsPipeline/dev/2021-02-04-PIPELINE-1885-All-Hail/HailPipelinesTesting/mgrb_2_test.chr8.mt/\n",
      "    Total size: 5.53 MiB\n",
      "    * Rows/entries: 5.52 MiB\n",
      "    * Columns: 315.00 B\n",
      "    * Globals: 11.00 B\n",
      "    * Smallest partition: 6381 rows (864.92 KiB)\n",
      "    * Largest partition:  6287 rows (1012.00 KiB)\n"
     ]
    }
   ],
   "source": [
    "# Save Matrix Table\n",
    "filtered_output_path = \"file:///directflow/ClinicalGenomicsPipeline/dev/2021-02-04-PIPELINE-1885-All-Hail/HailPipelinesTesting/mgrb_2_test.chr8.mt/\"\n",
    "filtered_mt.write(filtered_output_path,overwrite=True)"
   ]
  },
  {
   "cell_type": "code",
   "execution_count": null,
   "id": "694c0e3b-42db-447f-857a-19a4966ef14e",
   "metadata": {},
   "outputs": [],
   "source": []
  }
 ],
 "metadata": {
  "kernelspec": {
   "display_name": "Python 3 (ipykernel)",
   "language": "python",
   "name": "python3"
  },
  "language_info": {
   "codemirror_mode": {
    "name": "ipython",
    "version": 3
   },
   "file_extension": ".py",
   "mimetype": "text/x-python",
   "name": "python",
   "nbconvert_exporter": "python",
   "pygments_lexer": "ipython3",
   "version": "3.7.9"
  }
 },
 "nbformat": 4,
 "nbformat_minor": 5
}
