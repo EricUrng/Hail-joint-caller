{
 "cells": [
  {
   "cell_type": "code",
   "execution_count": 1,
   "id": "11df8fb7-d96e-48b8-87cb-eafdedba99d5",
   "metadata": {},
   "outputs": [
    {
     "name": "stderr",
     "output_type": "stream",
     "text": [
      "SLF4J: Class path contains multiple SLF4J bindings.\n",
      "SLF4J: Found binding in [jar:file:/home/eriurn/submit/python37_intel/lib/python3.7/site-packages/pyspark/jars/slf4j-log4j12-1.7.30.jar!/org/slf4j/impl/StaticLoggerBinder.class]\n",
      "SLF4J: Found binding in [jar:file:/usr/hdp/3.1.0.0-78/hadoop/lib/slf4j-log4j12-1.7.25.jar!/org/slf4j/impl/StaticLoggerBinder.class]\n",
      "SLF4J: See http://www.slf4j.org/codes.html#multiple_bindings for an explanation.\n",
      "SLF4J: Actual binding is of type [org.slf4j.impl.Log4jLoggerFactory]\n",
      "Setting default log level to \"WARN\".\n",
      "To adjust logging level use sc.setLogLevel(newLevel). For SparkR, use setLogLevel(newLevel).\n"
     ]
    },
    {
     "name": "stdout",
     "output_type": "stream",
     "text": [
      "2022-02-04 14:56:50 WARN  Hail:43 - This Hail JAR was compiled for Spark 3.1.1, running with Spark 3.1.2.\n",
      "  Compatibility is not guaranteed.\n",
      "2022-02-04 14:56:52 WARN  Client:69 - Neither spark.yarn.jars nor spark.yarn.archive is set, falling back to uploading libraries under SPARK_HOME.\n"
     ]
    },
    {
     "name": "stderr",
     "output_type": "stream",
     "text": [
      "Running on Apache Spark version 3.1.2\n",
      "SparkUI available at http://dice01-mlx.mlx:4040\n",
      "Welcome to\n",
      "     __  __     <>__\n",
      "    / /_/ /__  __/ /\n",
      "   / __  / _ `/ / /\n",
      "  /_/ /_/\\_,_/_/_/   version 0.2.68-13190f0b6103\n",
      "LOGGING: writing to /home/eriurn/Hail-joint-caller/notebooks/hail-20220204-1456-0.2.68-13190f0b6103.log\n"
     ]
    }
   ],
   "source": [
    "import hail as hl\n",
    "from gnomad.utils.sparse_mt import split_info_annotation\n",
    "\n",
    "hl.init(app_name=\"load_vqsr\")"
   ]
  },
  {
   "cell_type": "code",
   "execution_count": 2,
   "id": "5f9570a0-64b7-4970-9659-9c364cc9cda1",
   "metadata": {},
   "outputs": [],
   "source": [
    "default_reference = \"GRCh38\"\n",
    "path_to_mt = \"file:///directflow/ClinicalGenomicsPipeline/dev/2021-02-04-PIPELINE-1885-All-Hail/HailVQSR/output/VQSR.filtered.final.vcf.gz\"\n",
    "output_ht_path = \"file:///directflow/ClinicalGenomicsPipeline/dev/2021-02-04-PIPELINE-1885-All-Hail/EricData/load_VQSR_test_results.ht\""
   ]
  },
  {
   "cell_type": "code",
   "execution_count": 3,
   "id": "68057a15-f3ef-4228-bf82-e1d2b9df99e8",
   "metadata": {},
   "outputs": [],
   "source": [
    "mt = hl.import_vcf(\n",
    "    path_to_mt, \n",
    "    reference_genome=default_reference,\n",
    "    force_bgz=True\n",
    ")"
   ]
  },
  {
   "cell_type": "code",
   "execution_count": 4,
   "id": "11129353-0b9c-43f7-9951-ac72c341788a",
   "metadata": {},
   "outputs": [],
   "source": [
    "ht = mt.rows()"
   ]
  },
  {
   "cell_type": "code",
   "execution_count": 5,
   "id": "f69bfbc4-4cc9-4529-8f9f-587953caf434",
   "metadata": {},
   "outputs": [
    {
     "name": "stderr",
     "output_type": "stream",
     "text": [
      "2022-02-04 14:57:27 Hail: INFO: Coerced sorted dataset==>           (4 + 1) / 5]\n",
      "[Stage 2:>                                                          (0 + 1) / 1]\r"
     ]
    },
    {
     "data": {
      "text/html": [
       "<table><thead><tr><td style=\"white-space: nowrap; max-width: 500px; overflow: hidden; text-overflow: ellipsis; \" colspan=\"1\"><div style=\"text-align: left;\"></div></td><td style=\"white-space: nowrap; max-width: 500px; overflow: hidden; text-overflow: ellipsis; \" colspan=\"1\"><div style=\"text-align: left;\"></div></td><td style=\"white-space: nowrap; max-width: 500px; overflow: hidden; text-overflow: ellipsis; \" colspan=\"1\"><div style=\"text-align: left;\"></div></td></tr><tr><td style=\"white-space: nowrap; max-width: 500px; overflow: hidden; text-overflow: ellipsis; \" colspan=\"1\"><div style=\"text-align: left;border-bottom: solid 2px #000; padding-bottom: 5px\">locus</div></td><td style=\"white-space: nowrap; max-width: 500px; overflow: hidden; text-overflow: ellipsis; \" colspan=\"1\"><div style=\"text-align: left;border-bottom: solid 2px #000; padding-bottom: 5px\">alleles</div></td><td style=\"white-space: nowrap; max-width: 500px; overflow: hidden; text-overflow: ellipsis; \" colspan=\"1\"><div style=\"text-align: left;border-bottom: solid 2px #000; padding-bottom: 5px\"><expr></div></td></tr><tr><td style=\"white-space: nowrap; max-width: 500px; overflow: hidden; text-overflow: ellipsis; text-align: left;\">locus&lt;GRCh38&gt;</td><td style=\"white-space: nowrap; max-width: 500px; overflow: hidden; text-overflow: ellipsis; text-align: left;\">array&lt;str&gt;</td><td style=\"white-space: nowrap; max-width: 500px; overflow: hidden; text-overflow: ellipsis; text-align: left;\">str</td></tr>\n",
       "</thead><tbody><tr><td style=\"white-space: nowrap; max-width: 500px; overflow: hidden; text-overflow: ellipsis; \">chr1:10146</td><td style=\"white-space: nowrap; max-width: 500px; overflow: hidden; text-overflow: ellipsis; \">[&quot;AC&quot;,&quot;A&quot;]</td><td style=\"white-space: nowrap; max-width: 500px; overflow: hidden; text-overflow: ellipsis; \">&quot;3,1|6,12&quot;</td></tr>\n",
       "<tr><td style=\"white-space: nowrap; max-width: 500px; overflow: hidden; text-overflow: ellipsis; \">chr1:10291</td><td style=\"white-space: nowrap; max-width: 500px; overflow: hidden; text-overflow: ellipsis; \">[&quot;C&quot;,&quot;T&quot;]</td><td style=\"white-space: nowrap; max-width: 500px; overflow: hidden; text-overflow: ellipsis; \">&quot;0,3|0,2&quot;</td></tr>\n",
       "<tr><td style=\"white-space: nowrap; max-width: 500px; overflow: hidden; text-overflow: ellipsis; \">chr1:10390</td><td style=\"white-space: nowrap; max-width: 500px; overflow: hidden; text-overflow: ellipsis; \">[&quot;CCCCTAACCCCTAACCCTAACCCTAACCCTAACCCTAACCCTAA&quot;,&quot;C&quot;]</td><td style=\"white-space: nowrap; max-width: 500px; overflow: hidden; text-overflow: ellipsis; \">&quot;9,8|3,3&quot;</td></tr>\n",
       "<tr><td style=\"white-space: nowrap; max-width: 500px; overflow: hidden; text-overflow: ellipsis; \">chr1:10397</td><td style=\"white-space: nowrap; max-width: 500px; overflow: hidden; text-overflow: ellipsis; \">[&quot;C&quot;,&quot;CCCCTAA&quot;]</td><td style=\"white-space: nowrap; max-width: 500px; overflow: hidden; text-overflow: ellipsis; \">&quot;0,0|4,1&quot;</td></tr>\n",
       "<tr><td style=\"white-space: nowrap; max-width: 500px; overflow: hidden; text-overflow: ellipsis; \">chr1:10439</td><td style=\"white-space: nowrap; max-width: 500px; overflow: hidden; text-overflow: ellipsis; \">[&quot;AC&quot;,&quot;A&quot;]</td><td style=\"white-space: nowrap; max-width: 500px; overflow: hidden; text-overflow: ellipsis; \">&quot;8,8|3,7&quot;</td></tr>\n",
       "<tr><td style=\"white-space: nowrap; max-width: 500px; overflow: hidden; text-overflow: ellipsis; \">chr1:10442</td><td style=\"white-space: nowrap; max-width: 500px; overflow: hidden; text-overflow: ellipsis; \">[&quot;CCT&quot;,&quot;C&quot;]</td><td style=\"white-space: nowrap; max-width: 500px; overflow: hidden; text-overflow: ellipsis; \">&quot;10,14|1,2&quot;</td></tr>\n",
       "<tr><td style=\"white-space: nowrap; max-width: 500px; overflow: hidden; text-overflow: ellipsis; \">chr1:10443</td><td style=\"white-space: nowrap; max-width: 500px; overflow: hidden; text-overflow: ellipsis; \">[&quot;CT&quot;,&quot;C&quot;]</td><td style=\"white-space: nowrap; max-width: 500px; overflow: hidden; text-overflow: ellipsis; \">&quot;4,7|2,1&quot;</td></tr>\n",
       "<tr><td style=\"white-space: nowrap; max-width: 500px; overflow: hidden; text-overflow: ellipsis; \">chr1:10450</td><td style=\"white-space: nowrap; max-width: 500px; overflow: hidden; text-overflow: ellipsis; \">[&quot;T&quot;,&quot;C&quot;]</td><td style=\"white-space: nowrap; max-width: 500px; overflow: hidden; text-overflow: ellipsis; \">&quot;3,5|2,1&quot;</td></tr>\n",
       "<tr><td style=\"white-space: nowrap; max-width: 500px; overflow: hidden; text-overflow: ellipsis; \">chr1:10473</td><td style=\"white-space: nowrap; max-width: 500px; overflow: hidden; text-overflow: ellipsis; \">[&quot;G&quot;,&quot;A&quot;]</td><td style=\"white-space: nowrap; max-width: 500px; overflow: hidden; text-overflow: ellipsis; \">&quot;7,16|1,2&quot;</td></tr>\n",
       "<tr><td style=\"white-space: nowrap; max-width: 500px; overflow: hidden; text-overflow: ellipsis; \">chr1:10616</td><td style=\"white-space: nowrap; max-width: 500px; overflow: hidden; text-overflow: ellipsis; \">[&quot;CCGCCGTTGCAAAGGCGCGCCG&quot;,&quot;C&quot;]</td><td style=\"white-space: nowrap; max-width: 500px; overflow: hidden; text-overflow: ellipsis; \">&quot;0,0|1,2&quot;</td></tr>\n",
       "</tbody></table><p style=\"background: #fdd; padding: 0.4em;\">showing top 10 rows</p>\n"
      ],
      "text/plain": [
       "+---------------+------------------------------------------------------+\n",
       "| locus         | alleles                                              |\n",
       "+---------------+------------------------------------------------------+\n",
       "| locus<GRCh38> | array<str>                                           |\n",
       "+---------------+------------------------------------------------------+\n",
       "| chr1:10146    | [\"AC\",\"A\"]                                           |\n",
       "| chr1:10291    | [\"C\",\"T\"]                                            |\n",
       "| chr1:10390    | [\"CCCCTAACCCCTAACCCTAACCCTAACCCTAACCCTAACCCTAA\",\"C\"] |\n",
       "| chr1:10397    | [\"C\",\"CCCCTAA\"]                                      |\n",
       "| chr1:10439    | [\"AC\",\"A\"]                                           |\n",
       "| chr1:10442    | [\"CCT\",\"C\"]                                          |\n",
       "| chr1:10443    | [\"CT\",\"C\"]                                           |\n",
       "| chr1:10450    | [\"T\",\"C\"]                                            |\n",
       "| chr1:10473    | [\"G\",\"A\"]                                            |\n",
       "| chr1:10616    | [\"CCGCCGTTGCAAAGGCGCGCCG\",\"C\"]                       |\n",
       "+---------------+------------------------------------------------------+\n",
       "\n",
       "+-------------+\n",
       "| <expr>      |\n",
       "+-------------+\n",
       "| str         |\n",
       "+-------------+\n",
       "| \"3,1|6,12\"  |\n",
       "| \"0,3|0,2\"   |\n",
       "| \"9,8|3,3\"   |\n",
       "| \"0,0|4,1\"   |\n",
       "| \"8,8|3,7\"   |\n",
       "| \"10,14|1,2\" |\n",
       "| \"4,7|2,1\"   |\n",
       "| \"3,5|2,1\"   |\n",
       "| \"7,16|1,2\"  |\n",
       "| \"0,0|1,2\"   |\n",
       "+-------------+\n",
       "showing top 10 rows"
      ]
     },
     "metadata": {},
     "output_type": "display_data"
    }
   ],
   "source": [
    "ht.info.AS_SB_TABLE.show() # The str field needs to be separated into integers"
   ]
  },
  {
   "cell_type": "code",
   "execution_count": 6,
   "id": "df361284-1581-4820-8c57-4b3637c2e450",
   "metadata": {},
   "outputs": [
    {
     "name": "stderr",
     "output_type": "stream",
     "text": [
      "2022-02-04 14:57:41 Hail: INFO: Coerced sorted dataset              (2 + 3) / 5]\n",
      "[Stage 5:>                                                          (0 + 1) / 1]\r"
     ]
    },
    {
     "data": {
      "text/html": [
       "<table><thead><tr><td style=\"white-space: nowrap; max-width: 500px; overflow: hidden; text-overflow: ellipsis; \" colspan=\"1\"><div style=\"text-align: left;\"></div></td><td style=\"white-space: nowrap; max-width: 500px; overflow: hidden; text-overflow: ellipsis; \" colspan=\"1\"><div style=\"text-align: left;\"></div></td><td style=\"white-space: nowrap; max-width: 500px; overflow: hidden; text-overflow: ellipsis; \" colspan=\"1\"><div style=\"text-align: left;\"></div></td></tr><tr><td style=\"white-space: nowrap; max-width: 500px; overflow: hidden; text-overflow: ellipsis; \" colspan=\"1\"><div style=\"text-align: left;border-bottom: solid 2px #000; padding-bottom: 5px\">locus</div></td><td style=\"white-space: nowrap; max-width: 500px; overflow: hidden; text-overflow: ellipsis; \" colspan=\"1\"><div style=\"text-align: left;border-bottom: solid 2px #000; padding-bottom: 5px\">alleles</div></td><td style=\"white-space: nowrap; max-width: 500px; overflow: hidden; text-overflow: ellipsis; \" colspan=\"1\"><div style=\"text-align: left;border-bottom: solid 2px #000; padding-bottom: 5px\"><expr></div></td></tr><tr><td style=\"white-space: nowrap; max-width: 500px; overflow: hidden; text-overflow: ellipsis; text-align: left;\">locus&lt;GRCh38&gt;</td><td style=\"white-space: nowrap; max-width: 500px; overflow: hidden; text-overflow: ellipsis; text-align: left;\">array&lt;str&gt;</td><td style=\"white-space: nowrap; max-width: 500px; overflow: hidden; text-overflow: ellipsis; text-align: left;\">array&lt;str&gt;</td></tr>\n",
       "</thead><tbody><tr><td style=\"white-space: nowrap; max-width: 500px; overflow: hidden; text-overflow: ellipsis; \">chr1:10146</td><td style=\"white-space: nowrap; max-width: 500px; overflow: hidden; text-overflow: ellipsis; \">[&quot;AC&quot;,&quot;A&quot;]</td><td style=\"white-space: nowrap; max-width: 500px; overflow: hidden; text-overflow: ellipsis; \">[&quot;-2.0694&quot;]</td></tr>\n",
       "<tr><td style=\"white-space: nowrap; max-width: 500px; overflow: hidden; text-overflow: ellipsis; \">chr1:10291</td><td style=\"white-space: nowrap; max-width: 500px; overflow: hidden; text-overflow: ellipsis; \">[&quot;C&quot;,&quot;T&quot;]</td><td style=\"white-space: nowrap; max-width: 500px; overflow: hidden; text-overflow: ellipsis; \">[&quot;-38.7260&quot;]</td></tr>\n",
       "<tr><td style=\"white-space: nowrap; max-width: 500px; overflow: hidden; text-overflow: ellipsis; \">chr1:10390</td><td style=\"white-space: nowrap; max-width: 500px; overflow: hidden; text-overflow: ellipsis; \">[&quot;CCCCTAACCCCTAACCCTAACCCTAACCCTAACCCTAACCCTAA&quot;,&quot;C&quot;]</td><td style=\"white-space: nowrap; max-width: 500px; overflow: hidden; text-overflow: ellipsis; \">[&quot;-2.8748&quot;]</td></tr>\n",
       "<tr><td style=\"white-space: nowrap; max-width: 500px; overflow: hidden; text-overflow: ellipsis; \">chr1:10397</td><td style=\"white-space: nowrap; max-width: 500px; overflow: hidden; text-overflow: ellipsis; \">[&quot;C&quot;,&quot;CCCCTAA&quot;]</td><td style=\"white-space: nowrap; max-width: 500px; overflow: hidden; text-overflow: ellipsis; \">[&quot;0.1832&quot;]</td></tr>\n",
       "<tr><td style=\"white-space: nowrap; max-width: 500px; overflow: hidden; text-overflow: ellipsis; \">chr1:10439</td><td style=\"white-space: nowrap; max-width: 500px; overflow: hidden; text-overflow: ellipsis; \">[&quot;AC&quot;,&quot;A&quot;]</td><td style=\"white-space: nowrap; max-width: 500px; overflow: hidden; text-overflow: ellipsis; \">[&quot;-2.3830&quot;]</td></tr>\n",
       "<tr><td style=\"white-space: nowrap; max-width: 500px; overflow: hidden; text-overflow: ellipsis; \">chr1:10442</td><td style=\"white-space: nowrap; max-width: 500px; overflow: hidden; text-overflow: ellipsis; \">[&quot;CCT&quot;,&quot;C&quot;]</td><td style=\"white-space: nowrap; max-width: 500px; overflow: hidden; text-overflow: ellipsis; \">[&quot;-2.7520&quot;]</td></tr>\n",
       "<tr><td style=\"white-space: nowrap; max-width: 500px; overflow: hidden; text-overflow: ellipsis; \">chr1:10443</td><td style=\"white-space: nowrap; max-width: 500px; overflow: hidden; text-overflow: ellipsis; \">[&quot;CT&quot;,&quot;C&quot;]</td><td style=\"white-space: nowrap; max-width: 500px; overflow: hidden; text-overflow: ellipsis; \">[&quot;5.6990&quot;]</td></tr>\n",
       "<tr><td style=\"white-space: nowrap; max-width: 500px; overflow: hidden; text-overflow: ellipsis; \">chr1:10450</td><td style=\"white-space: nowrap; max-width: 500px; overflow: hidden; text-overflow: ellipsis; \">[&quot;T&quot;,&quot;C&quot;]</td><td style=\"white-space: nowrap; max-width: 500px; overflow: hidden; text-overflow: ellipsis; \">[&quot;-17.7967&quot;]</td></tr>\n",
       "<tr><td style=\"white-space: nowrap; max-width: 500px; overflow: hidden; text-overflow: ellipsis; \">chr1:10473</td><td style=\"white-space: nowrap; max-width: 500px; overflow: hidden; text-overflow: ellipsis; \">[&quot;G&quot;,&quot;A&quot;]</td><td style=\"white-space: nowrap; max-width: 500px; overflow: hidden; text-overflow: ellipsis; \">[&quot;-12.3443&quot;]</td></tr>\n",
       "<tr><td style=\"white-space: nowrap; max-width: 500px; overflow: hidden; text-overflow: ellipsis; \">chr1:10616</td><td style=\"white-space: nowrap; max-width: 500px; overflow: hidden; text-overflow: ellipsis; \">[&quot;CCGCCGTTGCAAAGGCGCGCCG&quot;,&quot;C&quot;]</td><td style=\"white-space: nowrap; max-width: 500px; overflow: hidden; text-overflow: ellipsis; \">[&quot;0.7688&quot;]</td></tr>\n",
       "</tbody></table><p style=\"background: #fdd; padding: 0.4em;\">showing top 10 rows</p>\n"
      ],
      "text/plain": [
       "+---------------+------------------------------------------------------+\n",
       "| locus         | alleles                                              |\n",
       "+---------------+------------------------------------------------------+\n",
       "| locus<GRCh38> | array<str>                                           |\n",
       "+---------------+------------------------------------------------------+\n",
       "| chr1:10146    | [\"AC\",\"A\"]                                           |\n",
       "| chr1:10291    | [\"C\",\"T\"]                                            |\n",
       "| chr1:10390    | [\"CCCCTAACCCCTAACCCTAACCCTAACCCTAACCCTAACCCTAA\",\"C\"] |\n",
       "| chr1:10397    | [\"C\",\"CCCCTAA\"]                                      |\n",
       "| chr1:10439    | [\"AC\",\"A\"]                                           |\n",
       "| chr1:10442    | [\"CCT\",\"C\"]                                          |\n",
       "| chr1:10443    | [\"CT\",\"C\"]                                           |\n",
       "| chr1:10450    | [\"T\",\"C\"]                                            |\n",
       "| chr1:10473    | [\"G\",\"A\"]                                            |\n",
       "| chr1:10616    | [\"CCGCCGTTGCAAAGGCGCGCCG\",\"C\"]                       |\n",
       "+---------------+------------------------------------------------------+\n",
       "\n",
       "+--------------+\n",
       "| <expr>       |\n",
       "+--------------+\n",
       "| array<str>   |\n",
       "+--------------+\n",
       "| [\"-2.0694\"]  |\n",
       "| [\"-38.7260\"] |\n",
       "| [\"-2.8748\"]  |\n",
       "| [\"0.1832\"]   |\n",
       "| [\"-2.3830\"]  |\n",
       "| [\"-2.7520\"]  |\n",
       "| [\"5.6990\"]   |\n",
       "| [\"-17.7967\"] |\n",
       "| [\"-12.3443\"] |\n",
       "| [\"0.7688\"]   |\n",
       "+--------------+\n",
       "showing top 10 rows"
      ]
     },
     "metadata": {},
     "output_type": "display_data"
    }
   ],
   "source": [
    "ht.info.AS_VQSLOD.show() # Similarly, the array of strings needs to be remapped to an array of floats"
   ]
  },
  {
   "cell_type": "code",
   "execution_count": 7,
   "id": "ae215e88-a3da-4602-a159-591f095acde9",
   "metadata": {},
   "outputs": [],
   "source": [
    "ht = ht.annotate(\n",
    "    info=ht.info.annotate(\n",
    "        AS_VQSLOD=ht.info.AS_VQSLOD.map(hl.float),\n",
    "        AS_SB_TABLE=ht.info.AS_SB_TABLE.split(r'\\|').map(\n",
    "            lambda x: hl.if_else(\n",
    "                x == '', hl.missing(hl.tarray(hl.tint32)), x.split(',').map(hl.int)\n",
    "            )\n",
    "        ),\n",
    "    ),\n",
    ")"
   ]
  },
  {
   "cell_type": "code",
   "execution_count": 8,
   "id": "c2af6803-5c2c-4f70-8c6f-25dd8c2dc140",
   "metadata": {},
   "outputs": [],
   "source": [
    "ht = hl.split_multi_hts(ht)"
   ]
  },
  {
   "cell_type": "code",
   "execution_count": 9,
   "id": "82d2c3a3-e0d3-44ac-9042-0236ea77e883",
   "metadata": {},
   "outputs": [],
   "source": [
    "ht = ht.annotate(\n",
    "        info=ht.info.annotate(**split_info_annotation(ht.info, ht.a_index)),\n",
    ")\n"
   ]
  },
  {
   "cell_type": "code",
   "execution_count": 10,
   "id": "908ffbc9-3fc3-4531-a7e6-f5afe2516c66",
   "metadata": {},
   "outputs": [],
   "source": [
    "ht = ht.annotate(\n",
    "    filters=ht.filters.union(hl.set([ht.info.AS_FilterStatus])),\n",
    ")"
   ]
  },
  {
   "cell_type": "code",
   "execution_count": 11,
   "id": "b09c35dd-390b-4f07-af38-36bec547ae0a",
   "metadata": {},
   "outputs": [
    {
     "name": "stderr",
     "output_type": "stream",
     "text": [
      "2022-02-04 14:57:52 Hail: INFO: Coerced sorted dataset==>           (4 + 1) / 5]\n",
      "2022-02-04 14:58:03 Hail: INFO: Coerced sorted dataset==>           (4 + 1) / 5]\n",
      "2022-02-04 14:59:07 Hail: INFO: wrote table with 10782643 rows in 5 partitions to file:///directflow/ClinicalGenomicsPipeline/dev/2021-02-04-PIPELINE-1885-All-Hail/EricData/load_VQSR_test_results.ht\n",
      "    Total size: 840.74 MiB\n",
      "    * Rows: 840.74 MiB\n",
      "    * Globals: 11.00 B\n",
      "    * Smallest partition: 2135068 rows (167.69 MiB)\n",
      "    * Largest partition:  2167633 rows (168.39 MiB)\n"
     ]
    }
   ],
   "source": [
    "ht.write(output_ht_path, overwrite=True)"
   ]
  },
  {
   "cell_type": "code",
   "execution_count": null,
   "id": "934d34f2-5807-4fc2-9065-0b9432f889a6",
   "metadata": {},
   "outputs": [],
   "source": []
  }
 ],
 "metadata": {
  "kernelspec": {
   "display_name": "Python 3 (ipykernel)",
   "language": "python",
   "name": "python3"
  },
  "language_info": {
   "codemirror_mode": {
    "name": "ipython",
    "version": 3
   },
   "file_extension": ".py",
   "mimetype": "text/x-python",
   "name": "python",
   "nbconvert_exporter": "python",
   "pygments_lexer": "ipython3",
   "version": "3.7.9"
  }
 },
 "nbformat": 4,
 "nbformat_minor": 5
}
