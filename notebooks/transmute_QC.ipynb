{
 "cells": [
  {
   "cell_type": "code",
   "execution_count": 1,
   "id": "7c3f9398-f110-4529-8c1f-ba316f9f5430",
   "metadata": {},
   "outputs": [
    {
     "name": "stderr",
     "output_type": "stream",
     "text": [
      "SLF4J: Class path contains multiple SLF4J bindings.\n",
      "SLF4J: Found binding in [jar:file:/home/eriurn/submit/python37_intel/lib/python3.7/site-packages/pyspark/jars/slf4j-log4j12-1.7.30.jar!/org/slf4j/impl/StaticLoggerBinder.class]\n",
      "SLF4J: Found binding in [jar:file:/usr/hdp/3.1.0.0-78/hadoop/lib/slf4j-log4j12-1.7.25.jar!/org/slf4j/impl/StaticLoggerBinder.class]\n",
      "SLF4J: See http://www.slf4j.org/codes.html#multiple_bindings for an explanation.\n",
      "SLF4J: Actual binding is of type [org.slf4j.impl.Log4jLoggerFactory]\n",
      "Setting default log level to \"WARN\".\n",
      "To adjust logging level use sc.setLogLevel(newLevel). For SparkR, use setLogLevel(newLevel).\n"
     ]
    },
    {
     "name": "stdout",
     "output_type": "stream",
     "text": [
      "2022-03-14 11:25:08 WARN  Hail:43 - This Hail JAR was compiled for Spark 3.1.1, running with Spark 3.1.2.\n",
      "  Compatibility is not guaranteed.\n",
      "2022-03-14 11:25:12 WARN  Client:69 - Neither spark.yarn.jars nor spark.yarn.archive is set, falling back to uploading libraries under SPARK_HOME.\n"
     ]
    },
    {
     "name": "stderr",
     "output_type": "stream",
     "text": [
      "Running on Apache Spark version 3.1.2\n",
      "SparkUI available at http://brenner-fpga-mlx.mlx:4040\n",
      "Welcome to\n",
      "     __  __     <>__\n",
      "    / /_/ /__  __/ /\n",
      "   / __  / _ `/ / /\n",
      "  /_/ /_/\\_,_/_/_/   version 0.2.68-13190f0b6103\n",
      "LOGGING: writing to /home/eriurn/Hail-joint-caller/notebooks/hail-20220314-1124-0.2.68-13190f0b6103.log\n"
     ]
    }
   ],
   "source": [
    "import hail as hl\n",
    "hl.init(app_name=\"QC\")"
   ]
  },
  {
   "cell_type": "code",
   "execution_count": 2,
   "id": "a2b2e1fe-449f-4b2d-bfce-40a3ff94760e",
   "metadata": {},
   "outputs": [],
   "source": [
    "mt_path = \"file:///directflow/ClinicalGenomicsPipeline/dev/2021-02-04-PIPELINE-1885-All-Hail/EricData/Glucoma/gvcf_WES.combined.VQSR.filtered.VEP.final.mt/\""
   ]
  },
  {
   "cell_type": "code",
   "execution_count": 3,
   "id": "ca61959b-8fca-4628-a11d-26abaa93b69e",
   "metadata": {},
   "outputs": [],
   "source": [
    "mt = hl.read_matrix_table(mt_path)"
   ]
  },
  {
   "cell_type": "code",
   "execution_count": 23,
   "id": "7b11eb58-0262-4e8e-973c-4a3aa2a5706d",
   "metadata": {},
   "outputs": [],
   "source": [
    "mt_GT = mt.transmute_entries(GT = hl.experimental.lgt_to_gt(mt.LGT, mt.LA))"
   ]
  },
  {
   "cell_type": "code",
   "execution_count": null,
   "id": "041f6eb4-b864-429a-933d-6f368054a3b6",
   "metadata": {},
   "outputs": [],
   "source": [
    "mt_GT = hl.split_multi_hts(mt_GT)"
   ]
  },
  {
   "cell_type": "code",
   "execution_count": null,
   "id": "56deb280-77ae-4144-90a9-20351afc22a0",
   "metadata": {},
   "outputs": [],
   "source": [
    "mt_GT = hl.sample_qc(mt_GT)"
   ]
  },
  {
   "cell_type": "code",
   "execution_count": null,
   "id": "5f079990-f415-4ca9-b24c-5deec01fecf0",
   "metadata": {},
   "outputs": [],
   "source": [
    "mt_GT = hl.variant_qc(mt_GT)"
   ]
  },
  {
   "cell_type": "code",
   "execution_count": null,
   "id": "e408aac6-ee51-47fb-b94d-45bf9252487c",
   "metadata": {},
   "outputs": [],
   "source": [
    "impute_sex_mt = hl.impute_sex(mt_GT.GT)"
   ]
  },
  {
   "cell_type": "code",
   "execution_count": null,
   "id": "ca0b5f44-3e8c-499e-9aa8-605095b798ca",
   "metadata": {},
   "outputs": [],
   "source": [
    "impute_sex_mt.describe()"
   ]
  },
  {
   "cell_type": "code",
   "execution_count": null,
   "id": "0e7ecf27-a027-4c72-afe3-9f3dd1891142",
   "metadata": {},
   "outputs": [],
   "source": [
    "final_mt = mt_GT.annotate_cols(impute_sex = impute_sex_mt[mt_GT.s])"
   ]
  },
  {
   "cell_type": "code",
   "execution_count": null,
   "id": "297d4d0d-84da-417b-bfbc-0d6cfd22586a",
   "metadata": {},
   "outputs": [],
   "source": [
    "output_path = \"file:///directflow/ClinicalGenomicsPipeline/dev/2021-02-04-PIPELINE-1885-All-Hail/EricData/Glucoma/gvcf_WES.combined.VQSR.filtered.VEP.QC.sex.final.mt/\"\n",
    "final_mt.write(output_path,overwrite=True)"
   ]
  },
  {
   "cell_type": "code",
   "execution_count": null,
   "id": "07d0c178-f159-4034-b356-1dc74808682f",
   "metadata": {},
   "outputs": [],
   "source": [
    "tmp_mt = mt_GT.annotate_cols(**impute_sex_mt[mt_GT.s])"
   ]
  },
  {
   "cell_type": "code",
   "execution_count": null,
   "id": "317bf0f9-a32a-4582-b923-ab30d60b5ae7",
   "metadata": {},
   "outputs": [],
   "source": [
    "final_mt.describe()"
   ]
  },
  {
   "cell_type": "code",
   "execution_count": null,
   "id": "13a054e2-35b1-4c61-9ddb-cbea466dd156",
   "metadata": {},
   "outputs": [],
   "source": [
    "tmp_mt = final_mt.drop(final_mt.gvcf_info)"
   ]
  },
  {
   "cell_type": "code",
   "execution_count": null,
   "id": "d44d0874-fcc8-42b9-bafb-49683112e43c",
   "metadata": {},
   "outputs": [],
   "source": [
    "hl.export_vcf(tmp_mt, 'file:///directflow/ClinicalGenomicsPipeline/dev/2021-02-04-PIPELINE-1885-All-Hail/EricData/Glucoma/gvcf_WES.combined.VQSR.filtered.VEP.QC.sex.final.vcf')"
   ]
  },
  {
   "cell_type": "code",
   "execution_count": null,
   "id": "7ce94a6f-502e-47e0-8a11-fac16ef57dc0",
   "metadata": {},
   "outputs": [],
   "source": []
  }
 ],
 "metadata": {
  "kernelspec": {
   "display_name": "Python 3 (ipykernel)",
   "language": "python",
   "name": "python3"
  },
  "language_info": {
   "codemirror_mode": {
    "name": "ipython",
    "version": 3
   },
   "file_extension": ".py",
   "mimetype": "text/x-python",
   "name": "python",
   "nbconvert_exporter": "python",
   "pygments_lexer": "ipython3",
   "version": "3.7.9"
  }
 },
 "nbformat": 4,
 "nbformat_minor": 5
}
