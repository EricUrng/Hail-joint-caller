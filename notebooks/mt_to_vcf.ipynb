{
 "cells": [
  {
   "cell_type": "code",
   "execution_count": null,
   "id": "9fdbe813-d558-49a3-b30b-dc00c2879ab1",
   "metadata": {},
   "outputs": [],
   "source": [
    "import hail as hl\n",
    "from gnomad.utils.vcf import adjust_vcf_incompatible_types\n",
    "from gnomad.utils.sparse_mt import default_compute_info\n",
    "\n",
    "hl.init(app_name=\"mt_to_vcf\")"
   ]
  },
  {
   "cell_type": "code",
   "execution_count": null,
   "id": "79743614-2509-486d-bc04-c764af1f50bb",
   "metadata": {},
   "outputs": [],
   "source": [
    "mt = hl.read_matrix_table(\"file:///directflow/ClinicalGenomicsPipeline/dev/2021-02-04-PIPELINE-1885-All-Hail/EricData/Glucoma/gvcf_WES.combined.mt/\")"
   ]
  },
  {
   "cell_type": "code",
   "execution_count": null,
   "id": "ea550f29-c9af-4ad4-a2f8-7fd9f2d0006f",
   "metadata": {
    "tags": []
   },
   "outputs": [],
   "source": [
    "mt = hl.experimental.densify(mt)"
   ]
  },
  {
   "cell_type": "code",
   "execution_count": null,
   "id": "e4e3e64c-f4e5-412e-bbeb-59da7d63b75b",
   "metadata": {},
   "outputs": [],
   "source": [
    "mt = mt.filter_rows((hl.len(mt.alleles) > 1) & (hl.agg.any(mt.LGT.is_non_ref())))"
   ]
  },
  {
   "cell_type": "code",
   "execution_count": null,
   "id": "4eccd961-0e00-49ab-9a69-9601e67c4424",
   "metadata": {},
   "outputs": [],
   "source": [
    "mt = mt.annotate_rows(site_dp=hl.agg.sum(mt.DP))"
   ]
  },
  {
   "cell_type": "code",
   "execution_count": null,
   "id": "3f2849f5-54c5-42e2-9284-4a0f88133593",
   "metadata": {},
   "outputs": [],
   "source": [
    "mt = mt.annotate_rows(ANS=hl.agg.count_where(hl.is_defined(mt.LGT)) * 2)"
   ]
  },
  {
   "cell_type": "code",
   "execution_count": null,
   "id": "3e2fee95-b29c-47e0-97bd-a25ea3926c68",
   "metadata": {},
   "outputs": [],
   "source": [
    "info_ht = default_compute_info(mt, site_annotations=True)"
   ]
  },
  {
   "cell_type": "code",
   "execution_count": null,
   "id": "f2aad910-9a81-48dd-86ed-25d802773919",
   "metadata": {},
   "outputs": [],
   "source": [
    "info_ht = info_ht.annotate(\n",
    "        info=info_ht.info.annotate(DP=mt.rows()[info_ht.key].site_dp)\n",
    "    )"
   ]
  },
  {
   "cell_type": "code",
   "execution_count": null,
   "id": "1c181bb4-17d7-4a36-9ee4-cbdbd29eae9f",
   "metadata": {},
   "outputs": [],
   "source": [
    "ht = adjust_vcf_incompatible_types(\n",
    "        info_ht, \n",
    "        # with default INFO_VCF_AS_PIPE_DELIMITED_FIELDS, AS_VarDP will be converted\n",
    "        # into a pipe-delimited value e.g.: VarDP=|132.1|140.2\n",
    "        # which breaks VQSR parser (it doesn't recognise the delimiter and treats\n",
    "        # it as a array with a single string value \"|132.1|140.2\", leading to \n",
    "        # an IndexOutOfBound exception when trying to access value for second allele)\n",
    "        pipe_delimited_annotations=[]\n",
    "    )"
   ]
  },
  {
   "cell_type": "code",
   "execution_count": null,
   "id": "449fa966-26cc-452c-9ced-3e7086b9af3a",
   "metadata": {},
   "outputs": [],
   "source": [
    "hl.export_vcf(ht, \"file:///home/eriurn/Hail-joint-caller/scripts/reblock_key_alleles.vcf\")"
   ]
  },
  {
   "cell_type": "code",
   "execution_count": null,
   "id": "80637a1c-0aab-4f1c-880b-5506110d4551",
   "metadata": {},
   "outputs": [],
   "source": []
  }
 ],
 "metadata": {
  "kernelspec": {
   "display_name": "Python 3 (ipykernel)",
   "language": "python",
   "name": "python3"
  },
  "language_info": {
   "codemirror_mode": {
    "name": "ipython",
    "version": 3
   },
   "file_extension": ".py",
   "mimetype": "text/x-python",
   "name": "python",
   "nbconvert_exporter": "python",
   "pygments_lexer": "ipython3",
   "version": "3.7.9"
  }
 },
 "nbformat": 4,
 "nbformat_minor": 5
}
